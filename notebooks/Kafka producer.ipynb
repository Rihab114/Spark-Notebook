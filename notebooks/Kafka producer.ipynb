{
 "cells": [
  {
   "cell_type": "code",
   "execution_count": 1,
   "id": "96edfda6-4ecf-441b-8a26-75f6dcdbe136",
   "metadata": {},
   "outputs": [],
   "source": [
    "from kafka import KafkaProducer\n",
    "import requests\n",
    "import time\n",
    "import json\n",
    "import io"
   ]
  },
  {
   "cell_type": "code",
   "execution_count": 2,
   "id": "4b3dad63-eb3c-45e8-ba90-1292a4e265b8",
   "metadata": {},
   "outputs": [],
   "source": [
    "producer1 = KafkaProducer(\n",
    "    bootstrap_servers='localhost:9092',\n",
    "    value_serializer= lambda v: json.dumps(v).encode('utf-8'))"
   ]
  },
  {
   "cell_type": "code",
   "execution_count": 3,
   "id": "758e4d54-1146-46d5-94c9-9a8948443509",
   "metadata": {},
   "outputs": [],
   "source": [
    "#utility functions\n",
    "url = \"https://api.tfl.gov.uk/AirQuality/\"\n",
    "\n",
    "querystring = {\"companyId\":\"1441\",\"start\":\"0\",\"geoIds\":\"90009735,103035651\"}\n",
    "\n",
    "headers = {\n",
    "\t\"x-rapidapi-key\": \"3521042177msh546f14644714fd3p16dd08jsn7ec319a18d30\",\n",
    "\t\"x-rapidapi-host\": \"linkedin-data-api.p.rapidapi.com\"\n",
    "}\n",
    "def read_data_from_api(url):\n",
    "    try: \n",
    "        response = requests.get(url).json()\n",
    "        return response\n",
    "    except ConnectionError:\n",
    "        return \"Connection not established correctly and get api failed\"\n",
    "    \n",
    "def send_to_kafka(topic,data):\n",
    "    producer1.send(topic, value= data)\n",
    "    producer1.flush()"
   ]
  },
  {
   "cell_type": "code",
   "execution_count": null,
   "id": "32e56e68-6934-4016-a149-1c5004c30660",
   "metadata": {},
   "outputs": [],
   "source": [
    "topic= 'bikes'\n",
    "while True:\n",
    "    data = read_data_from_api(url)\n",
    "    if data: \n",
    "        send_to_kafka(topic, data)\n",
    "    time.sleep(2)\n"
   ]
  },
  {
   "cell_type": "code",
   "execution_count": null,
   "id": "89e57656-e4eb-4f17-9e54-d64e1d7d6acb",
   "metadata": {},
   "outputs": [],
   "source": []
  }
 ],
 "metadata": {
  "kernelspec": {
   "display_name": "Python 3 (ipykernel)",
   "language": "python",
   "name": "python3"
  },
  "language_info": {
   "codemirror_mode": {
    "name": "ipython",
    "version": 3
   },
   "file_extension": ".py",
   "mimetype": "text/x-python",
   "name": "python",
   "nbconvert_exporter": "python",
   "pygments_lexer": "ipython3",
   "version": "3.9.12"
  }
 },
 "nbformat": 4,
 "nbformat_minor": 5
}
