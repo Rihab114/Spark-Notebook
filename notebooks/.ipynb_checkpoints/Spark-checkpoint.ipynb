{
 "cells": [
  {
   "cell_type": "code",
   "execution_count": 27,
   "id": "55be4de2-6766-45ac-a81c-1962983b7a76",
   "metadata": {},
   "outputs": [],
   "source": [
    "#import libraries \n",
    "import pyspark\n",
    "from pyspark.sql import SparkSession"
   ]
  },
  {
   "cell_type": "code",
   "execution_count": 28,
   "id": "da8c484b-10ff-4ea1-9c56-604ae48eaad2",
   "metadata": {},
   "outputs": [
    {
     "data": {
      "text/plain": [
       "'3.3.2'"
      ]
     },
     "execution_count": 28,
     "metadata": {},
     "output_type": "execute_result"
    }
   ],
   "source": [
    "pyspark.__version__"
   ]
  },
  {
   "cell_type": "code",
   "execution_count": 29,
   "id": "555d27b9-87bc-47c8-a988-719ddd8dc7b4",
   "metadata": {},
   "outputs": [],
   "source": [
    "#create spark session \n",
    "spark = SparkSession.builder\\\n",
    "        .appName(\"Starter\")\\\n",
    "        .master(\"local[*]\")\\\n",
    "        .getOrCreate()"
   ]
  },
  {
   "cell_type": "code",
   "execution_count": 30,
   "id": "0dc9c967-077b-45c6-b53c-83678a221c69",
   "metadata": {},
   "outputs": [
    {
     "data": {
      "text/plain": [
       "[]"
      ]
     },
     "execution_count": 30,
     "metadata": {},
     "output_type": "execute_result"
    }
   ],
   "source": [
    "spark.catalog.listTables()"
   ]
  },
  {
   "cell_type": "code",
   "execution_count": 26,
   "id": "721af0aa-48c7-4520-a5bc-fa5dc9b6ae9f",
   "metadata": {},
   "outputs": [],
   "source": [
    "spark.stop()"
   ]
  },
  {
   "cell_type": "markdown",
   "id": "60a36c79-474e-495a-8cc7-46d71f169cf3",
   "metadata": {},
   "source": [
    "# Read input data"
   ]
  },
  {
   "cell_type": "code",
   "execution_count": 31,
   "id": "d8559e64-528c-404e-affd-afc4bbd3d9de",
   "metadata": {},
   "outputs": [],
   "source": [
    "data = spark.read.csv('../data/merged_data_10k.csv', header= True, inferSchema=True)"
   ]
  },
  {
   "cell_type": "code",
   "execution_count": 32,
   "id": "9a842dbd-14fd-4e44-9307-a3e64d32c0e6",
   "metadata": {},
   "outputs": [
    {
     "name": "stdout",
     "output_type": "stream",
     "text": [
      "24/07/07 00:44:57 WARN CSVHeaderChecker: CSV header does not conform to the schema.\n",
      " Header: , title, rank, date, artist, url, region, chart, trend, streams, track_id, album, popularity, duration_ms, explicit, release_date, available_markets, af_danceability, af_energy, af_key, af_loudness, af_mode, af_speechiness, af_acousticness, af_instrumentalness, af_liveness, af_valence, af_tempo, af_time_signature\n",
      " Schema: _c0, title, rank, date, artist, url, region, chart, trend, streams, track_id, album, popularity, duration_ms, explicit, release_date, available_markets, af_danceability, af_energy, af_key, af_loudness, af_mode, af_speechiness, af_acousticness, af_instrumentalness, af_liveness, af_valence, af_tempo, af_time_signature\n",
      "Expected: _c0 but found: \n",
      "CSV file: file:///home/rihab/Projects/spark/data/merged_data_10k.csv\n",
      "+---+---------------------------+----+-------------------+-------------------------------------+-----------------------------------------------------+---------+------+-------------+--------+----------------------+---------------------------+----------+-----------+--------+------------+------------------------------------------------------------------------------------------------------------------------------------------------------------------------------------------------------------------------------------------------------------------------------------------------------------------------------------------------------------------------------------------------------------------------------------------------------------------------------------------------------------------------------------------------------------------------------------------------------------------------------------------------------------------------------------------------------------------------------------------------------------------------------------------------------------------------------------------------------------------------------------------------------------------------------------------------------------------------------------------------------------------------------------------------------------------------------------------------------------------------------------------------------+---------------+---------+------+-----------+-------+--------------+---------------+-------------------+-----------+----------+--------+-----------------+\n",
      "|_c0|title                      |rank|date               |artist                               |url                                                  |region   |chart |trend        |streams |track_id              |album                      |popularity|duration_ms|explicit|release_date|available_markets                                                                                                                                                                                                                                                                                                                                                                                                                                                                                                                                                                                                                                                                                                                                                                                                                                                                                                                                                                                                                                                                                                                                     |af_danceability|af_energy|af_key|af_loudness|af_mode|af_speechiness|af_acousticness|af_instrumentalness|af_liveness|af_valence|af_tempo|af_time_signature|\n",
      "+---+---------------------------+----+-------------------+-------------------------------------+-----------------------------------------------------+---------+------+-------------+--------+----------------------+---------------------------+----------+-----------+--------+------------+------------------------------------------------------------------------------------------------------------------------------------------------------------------------------------------------------------------------------------------------------------------------------------------------------------------------------------------------------------------------------------------------------------------------------------------------------------------------------------------------------------------------------------------------------------------------------------------------------------------------------------------------------------------------------------------------------------------------------------------------------------------------------------------------------------------------------------------------------------------------------------------------------------------------------------------------------------------------------------------------------------------------------------------------------------------------------------------------------------------------------------------------------+---------------+---------+------+-----------+-------+--------------+---------------+-------------------+-----------+----------+--------+-----------------+\n",
      "|0  |Chantaje (feat. Maluma)    |1   |2017-01-01 00:00:00|Shakira                              |https://open.spotify.com/track/6mICuAdrwEjh6Y6lroV2Kg|Argentina|top200|SAME_POSITION|253019.0|6mICuAdrwEjh6Y6lroV2Kg|El Dorado                  |78.0      |195840.0   |False   |2017-05-26  |['AR', 'AU', 'AT', 'BE', 'BO', 'BR', 'BG', 'CA', 'CL', 'CO', 'CR', 'CY', 'CZ', 'DK', 'DO', 'DE', 'EC', 'EE', 'SV', 'FI', 'FR', 'GR', 'GT', 'HN', 'HK', 'HU', 'IS', 'IE', 'IT', 'LV', 'LT', 'LU', 'MY', 'MT', 'MX', 'NL', 'NZ', 'NI', 'NO', 'PA', 'PY', 'PE', 'PH', 'PL', 'PT', 'SG', 'SK', 'ES', 'SE', 'CH', 'TW', 'TR', 'UY', 'US', 'GB', 'AD', 'LI', 'MC', 'ID', 'JP', 'TH', 'VN', 'RO', 'IL', 'ZA', 'SA', 'AE', 'BH', 'QA', 'OM', 'KW', 'EG', 'MA', 'DZ', 'TN', 'LB', 'JO', 'PS', 'IN', 'BY', 'KZ', 'MD', 'UA', 'AL', 'BA', 'HR', 'ME', 'MK', 'RS', 'SI', 'KR', 'BD', 'PK', 'LK', 'GH', 'KE', 'NG', 'TZ', 'UG', 'AG', 'AM', 'BS', 'BB', 'BZ', 'BT', 'BW', 'BF', 'CV', 'CW', 'DM', 'FJ', 'GM', 'GE', 'GD', 'GW', 'GY', 'HT', 'JM', 'KI', 'LS', 'LR', 'MW', 'MV', 'ML', 'MH', 'FM', 'NA', 'NR', 'NE', 'PW', 'PG', 'PR', 'WS', 'SM', 'ST', 'SN', 'SC', 'SL', 'SB', 'KN', 'LC', 'VC', 'SR', 'TL', 'TO', 'TT', 'TV', 'VU', 'AZ', 'BN', 'BI', 'KH', 'CM', 'TD', 'KM', 'GQ', 'SZ', 'GA', 'GN', 'KG', 'LA', 'MO', 'MR', 'MN', 'NP', 'RW', 'TG', 'UZ', 'ZW', 'BJ', 'MG', 'MU', 'MZ', 'AO', 'CI', 'DJ', 'ZM', 'CD', 'CG', 'IQ', 'LY', 'TJ', 'VE', 'ET', 'XK']|0.852          |0.773    |8.0   |-2.921     |0.0    |0.0776        |0.187          |3.05E-5            |0.159      |0.907     |102.034 |4.0              |\n",
      "|1  |Vente Pa' Ca (feat. Maluma)|2   |2017-01-01 00:00:00|Ricky Martin                         |https://open.spotify.com/track/7DM4BPaS7uofFul3ywMe46|Argentina|top200|MOVE_UP      |223988.0|7DM4BPaS7uofFul3ywMe46|Vente Pa' Ca (feat. Maluma)|72.0      |259195.0   |False   |2016-09-22  |['AR', 'AU', 'AT', 'BE', 'BO', 'BR', 'BG', 'CA', 'CL', 'CO', 'CR', 'CY', 'CZ', 'DK', 'DO', 'DE', 'EC', 'EE', 'SV', 'FI', 'FR', 'GR', 'GT', 'HN', 'HK', 'HU', 'IS', 'IE', 'IT', 'LV', 'LT', 'LU', 'MY', 'MT', 'MX', 'NL', 'NZ', 'NI', 'NO', 'PA', 'PY', 'PE', 'PH', 'PL', 'PT', 'SG', 'SK', 'ES', 'SE', 'CH', 'TW', 'TR', 'UY', 'US', 'GB', 'AD', 'LI', 'MC', 'ID', 'JP', 'TH', 'VN', 'RO', 'IL', 'ZA', 'SA', 'AE', 'BH', 'QA', 'OM', 'KW', 'EG', 'MA', 'DZ', 'TN', 'LB', 'JO', 'PS', 'IN', 'BY', 'KZ', 'MD', 'UA', 'AL', 'BA', 'HR', 'ME', 'MK', 'RS', 'SI', 'KR', 'BD', 'PK', 'LK', 'GH', 'KE', 'NG', 'TZ', 'UG', 'AG', 'AM', 'BS', 'BB', 'BZ', 'BT', 'BW', 'BF', 'CV', 'CW', 'DM', 'FJ', 'GM', 'GE', 'GD', 'GW', 'GY', 'HT', 'JM', 'KI', 'LS', 'LR', 'MW', 'MV', 'ML', 'MH', 'FM', 'NA', 'NR', 'NE', 'PW', 'PG', 'PR', 'WS', 'SM', 'ST', 'SN', 'SC', 'SL', 'SB', 'KN', 'LC', 'VC', 'SR', 'TL', 'TO', 'TT', 'TV', 'VU', 'AZ', 'BN', 'BI', 'KH', 'CM', 'TD', 'KM', 'GQ', 'SZ', 'GA', 'GN', 'KG', 'LA', 'MO', 'MR', 'MN', 'NP', 'RW', 'TG', 'UZ', 'ZW', 'BJ', 'MG', 'MU', 'MZ', 'AO', 'CI', 'DJ', 'ZM', 'CD', 'CG', 'IQ', 'LY', 'TJ', 'VE', 'ET', 'XK']|0.663          |0.92     |11.0  |-4.07      |0.0    |0.226         |0.00431        |1.69E-5            |0.101      |0.533     |99.935  |4.0              |\n",
      "|2  |Reggaetón Lento (Bailemos) |3   |2017-01-01 00:00:00|CNCO                                 |https://open.spotify.com/track/3AEZUABDXNtecAOSC1qTfo|Argentina|top200|MOVE_DOWN    |210943.0|3AEZUABDXNtecAOSC1qTfo|Primera Cita               |73.0      |222560.0   |False   |2016-08-26  |['AR', 'AU', 'AT', 'BE', 'BO', 'BG', 'CA', 'CL', 'CO', 'CR', 'CY', 'CZ', 'DK', 'DO', 'DE', 'EC', 'EE', 'SV', 'FI', 'FR', 'GR', 'GT', 'HN', 'HK', 'HU', 'IS', 'IE', 'IT', 'LV', 'LT', 'LU', 'MY', 'MT', 'MX', 'NL', 'NZ', 'NI', 'NO', 'PA', 'PY', 'PE', 'PH', 'PL', 'PT', 'SG', 'SK', 'ES', 'SE', 'CH', 'TW', 'TR', 'UY', 'US', 'GB', 'AD', 'LI', 'MC', 'ID', 'JP', 'TH', 'VN', 'RO', 'IL', 'ZA', 'SA', 'AE', 'BH', 'QA', 'OM', 'KW', 'EG', 'MA', 'DZ', 'TN', 'LB', 'JO', 'PS', 'IN', 'BY', 'KZ', 'MD', 'UA', 'AL', 'BA', 'HR', 'ME', 'MK', 'RS', 'SI', 'KR', 'BD', 'PK', 'LK', 'GH', 'KE', 'NG', 'TZ', 'UG', 'AG', 'AM', 'BS', 'BB', 'BZ', 'BT', 'BW', 'BF', 'CV', 'CW', 'DM', 'FJ', 'GM', 'GE', 'GD', 'GW', 'GY', 'HT', 'JM', 'KI', 'LS', 'LR', 'MW', 'MV', 'ML', 'MH', 'FM', 'NA', 'NR', 'NE', 'PW', 'PG', 'PR', 'WS', 'SM', 'ST', 'SN', 'SC', 'SL', 'SB', 'KN', 'LC', 'VC', 'SR', 'TL', 'TO', 'TT', 'TV', 'VU', 'AZ', 'BN', 'BI', 'KH', 'CM', 'TD', 'KM', 'GQ', 'SZ', 'GA', 'GN', 'KG', 'LA', 'MO', 'MR', 'MN', 'NP', 'RW', 'TG', 'UZ', 'ZW', 'BJ', 'MG', 'MU', 'MZ', 'AO', 'CI', 'DJ', 'ZM', 'CD', 'CG', 'IQ', 'LY', 'TJ', 'VE', 'ET', 'XK']      |0.761          |0.838    |4.0   |-3.073     |0.0    |0.0502        |0.4            |0.0                |0.176      |0.71      |93.974  |4.0              |\n",
      "|3  |Safari                     |4   |2017-01-01 00:00:00|J Balvin, Pharrell Williams, BIA, Sky|https://open.spotify.com/track/6rQSrBHf7HlZjtcMZ4S4bO|Argentina|top200|SAME_POSITION|173865.0|6rQSrBHf7HlZjtcMZ4S4bO|Energía                    |0.0       |205600.0   |False   |2016-06-24  |[]                                                                                                                                                                                                                                                                                                                                                                                                                                                                                                                                                                                                                                                                                                                                                                                                                                                                                                                                                                                                                                                                                                                                                    |0.508          |0.687    |0.0   |-4.361     |1.0    |0.326         |0.551          |3.41E-6            |0.126      |0.555     |180.044 |4.0              |\n",
      "|4  |Shaky Shaky                |5   |2017-01-01 00:00:00|Daddy Yankee                         |https://open.spotify.com/track/58IL315gMSTD37DOZPJ2hf|Argentina|top200|MOVE_UP      |153956.0|58IL315gMSTD37DOZPJ2hf|Shaky Shaky                |0.0       |234320.0   |False   |2016-04-08  |[]                                                                                                                                                                                                                                                                                                                                                                                                                                                                                                                                                                                                                                                                                                                                                                                                                                                                                                                                                                                                                                                                                                                                                    |0.899          |0.626    |6.0   |-4.228     |0.0    |0.292         |0.076          |0.0                |0.0631     |0.873     |88.007  |4.0              |\n",
      "+---+---------------------------+----+-------------------+-------------------------------------+-----------------------------------------------------+---------+------+-------------+--------+----------------------+---------------------------+----------+-----------+--------+------------+------------------------------------------------------------------------------------------------------------------------------------------------------------------------------------------------------------------------------------------------------------------------------------------------------------------------------------------------------------------------------------------------------------------------------------------------------------------------------------------------------------------------------------------------------------------------------------------------------------------------------------------------------------------------------------------------------------------------------------------------------------------------------------------------------------------------------------------------------------------------------------------------------------------------------------------------------------------------------------------------------------------------------------------------------------------------------------------------------------------------------------------------------+---------------+---------+------+-----------+-------+--------------+---------------+-------------------+-----------+----------+--------+-----------------+\n",
      "only showing top 5 rows\n",
      "\n"
     ]
    }
   ],
   "source": [
    "data.show(n=5, truncate= False, vertical = False )"
   ]
  },
  {
   "cell_type": "code",
   "execution_count": 33,
   "id": "aaa988f9-39db-4deb-bd33-e86dbd62f342",
   "metadata": {},
   "outputs": [
    {
     "name": "stdout",
     "output_type": "stream",
     "text": [
      "24/07/07 00:45:45 WARN CSVHeaderChecker: CSV header does not conform to the schema.\n",
      " Header: , title, rank, artist, url, region, chart, trend, streams, track_id, album, popularity, duration_ms, explicit, release_date, available_markets, af_danceability, af_energy, af_key, af_loudness, af_mode, af_speechiness, af_acousticness, af_instrumentalness, af_liveness, af_valence, af_tempo, af_time_signature\n",
      " Schema: _c0, title, rank, artist, url, region, chart, trend, streams, track_id, album, popularity, duration_ms, explicit, release_date, available_markets, af_danceability, af_energy, af_key, af_loudness, af_mode, af_speechiness, af_acousticness, af_instrumentalness, af_liveness, af_valence, af_tempo, af_time_signature\n",
      "Expected: _c0 but found: \n",
      "CSV file: file:///home/rihab/Projects/spark/data/merged_data_10k.csv\n"
     ]
    },
    {
     "name": "stderr",
     "output_type": "stream",
     "text": [
      "                                                                                \r"
     ]
    },
    {
     "data": {
      "text/plain": [
       "DataFrame[summary: string, _c0: string, title: string, rank: string, artist: string, url: string, region: string, chart: string, trend: string, streams: string, track_id: string, album: string, popularity: string, duration_ms: string, explicit: string, release_date: string, available_markets: string, af_danceability: string, af_energy: string, af_key: string, af_loudness: string, af_mode: string, af_speechiness: string, af_acousticness: string, af_instrumentalness: string, af_liveness: string, af_valence: string, af_tempo: string, af_time_signature: string]"
      ]
     },
     "execution_count": 33,
     "metadata": {},
     "output_type": "execute_result"
    }
   ],
   "source": [
    "data.describe()\n",
    "#.show(vertical = True)"
   ]
  },
  {
   "cell_type": "code",
   "execution_count": 39,
   "id": "40966d36-81cd-4e84-a4e1-4de094672983",
   "metadata": {},
   "outputs": [
    {
     "name": "stdout",
     "output_type": "stream",
     "text": [
      "root\n",
      " |-- _c0: integer (nullable = true)\n",
      " |-- title: string (nullable = true)\n",
      " |-- rank: integer (nullable = true)\n",
      " |-- date: timestamp (nullable = true)\n",
      " |-- artist: string (nullable = true)\n",
      " |-- url: string (nullable = true)\n",
      " |-- region: string (nullable = true)\n",
      " |-- chart: string (nullable = true)\n",
      " |-- trend: string (nullable = true)\n",
      " |-- streams: string (nullable = true)\n",
      " |-- track_id: string (nullable = true)\n",
      " |-- album: string (nullable = true)\n",
      " |-- popularity: string (nullable = true)\n",
      " |-- duration_ms: string (nullable = true)\n",
      " |-- explicit: string (nullable = true)\n",
      " |-- release_date: string (nullable = true)\n",
      " |-- available_markets: string (nullable = true)\n",
      " |-- af_danceability: string (nullable = true)\n",
      " |-- af_energy: string (nullable = true)\n",
      " |-- af_key: string (nullable = true)\n",
      " |-- af_loudness: double (nullable = true)\n",
      " |-- af_mode: double (nullable = true)\n",
      " |-- af_speechiness: double (nullable = true)\n",
      " |-- af_acousticness: double (nullable = true)\n",
      " |-- af_instrumentalness: double (nullable = true)\n",
      " |-- af_liveness: double (nullable = true)\n",
      " |-- af_valence: double (nullable = true)\n",
      " |-- af_tempo: double (nullable = true)\n",
      " |-- af_time_signature: double (nullable = true)\n",
      "\n"
     ]
    }
   ],
   "source": [
    "data.printSchema()"
   ]
  },
  {
   "cell_type": "code",
   "execution_count": 40,
   "id": "f150f2a8-1428-472c-84f3-8ef7ce4956fb",
   "metadata": {},
   "outputs": [],
   "source": [
    "data=data.withColumnRenamed(\"_c0\", \"index\")\n",
    "  "
   ]
  },
  {
   "cell_type": "markdown",
   "id": "141eb627-9ed4-413f-b03c-7698f6828d21",
   "metadata": {},
   "source": [
    "# Fill in missing values"
   ]
  },
  {
   "cell_type": "code",
   "execution_count": 43,
   "id": "d90f82c8-6912-48cf-a58b-9727c660787e",
   "metadata": {},
   "outputs": [],
   "source": [
    "data =data.fillna(0)"
   ]
  },
  {
   "cell_type": "code",
   "execution_count": 45,
   "id": "393d5d95-78b3-405a-99c3-881fe5188342",
   "metadata": {},
   "outputs": [
    {
     "name": "stdout",
     "output_type": "stream",
     "text": [
      "24/07/07 00:56:49 WARN CSVHeaderChecker: CSV header does not conform to the schema.\n",
      " Header: , title, rank, artist, url, region, chart, trend, streams, track_id, album, popularity, duration_ms, explicit, release_date, available_markets, af_danceability, af_energy, af_key, af_loudness, af_mode, af_speechiness, af_acousticness, af_instrumentalness, af_liveness, af_valence, af_tempo, af_time_signature\n",
      " Schema: _c0, title, rank, artist, url, region, chart, trend, streams, track_id, album, popularity, duration_ms, explicit, release_date, available_markets, af_danceability, af_energy, af_key, af_loudness, af_mode, af_speechiness, af_acousticness, af_instrumentalness, af_liveness, af_valence, af_tempo, af_time_signature\n",
      "Expected: _c0 but found: \n",
      "CSV file: file:///home/rihab/Projects/spark/data/merged_data_10k.csv\n"
     ]
    },
    {
     "name": "stderr",
     "output_type": "stream",
     "text": [
      "[Stage 11:===================>                                      (1 + 2) / 3]\r"
     ]
    },
    {
     "name": "stdout",
     "output_type": "stream",
     "text": [
      "-RECORD 0---------------------------------------\n",
      " summary             | count                    \n",
      " index               | 9999                     \n",
      " title               | 9999                     \n",
      " rank                | 9999                     \n",
      " artist              | 9999                     \n",
      " url                 | 9999                     \n",
      " region              | 9999                     \n",
      " chart               | 9999                     \n",
      " trend               | 9999                     \n",
      " streams             | 9999                     \n",
      " track_id            | 9999                     \n",
      " album               | 9997                     \n",
      " popularity          | 9999                     \n",
      " duration_ms         | 9999                     \n",
      " explicit            | 9999                     \n",
      " release_date        | 9999                     \n",
      " available_markets   | 9999                     \n",
      " af_danceability     | 9999                     \n",
      " af_energy           | 9999                     \n",
      " af_key              | 9999                     \n",
      " af_loudness         | 9999                     \n",
      " af_mode             | 9999                     \n",
      " af_speechiness      | 9999                     \n",
      " af_acousticness     | 9999                     \n",
      " af_instrumentalness | 9999                     \n",
      " af_liveness         | 9999                     \n",
      " af_valence          | 9999                     \n",
      " af_tempo            | 9999                     \n",
      " af_time_signature   | 9999                     \n",
      "-RECORD 1---------------------------------------\n",
      " summary             | mean                     \n",
      " index               | 4999.0                   \n",
      " title               | 1036.6666666666667       \n",
      " rank                | 93.1914191419142         \n",
      " artist              | null                     \n",
      " url                 | null                     \n",
      " region              | null                     \n",
      " chart               | null                     \n",
      " trend               | null                     \n",
      " streams             | 38140.79743923177        \n",
      " track_id            | null                     \n",
      " album               | 2779.624659685864        \n",
      " popularity          | 39.63546255506608        \n",
      " duration_ms         | 221568.0046013804        \n",
      " explicit            | 297211.8181818182        \n",
      " release_date        | 2821.4649446494464       \n",
      " available_markets   | 223861.0                 \n",
      " af_danceability     | 0.6691248623210162       \n",
      " af_energy           | 0.6909997099129759       \n",
      " af_key              | 5.290789057811562        \n",
      " af_loudness         | -5.836582058205828       \n",
      " af_mode             | 0.5507157715771577       \n",
      " af_speechiness      | 0.10047056705670614      \n",
      " af_acousticness     | 0.20200897232723328      \n",
      " af_instrumentalness | 0.008875291695169499     \n",
      " af_liveness         | 0.17615731573157223      \n",
      " af_valence          | 0.5506488894889502       \n",
      " af_tempo            | 119.82498876887665       \n",
      " af_time_signature   | 4.152806380638063        \n",
      "-RECORD 2---------------------------------------\n",
      " summary             | stddev                   \n",
      " index               | 2886.607004772212        \n",
      " title               | 762.3672780665935        \n",
      " rank                | 57.971371368598035       \n",
      " artist              | null                     \n",
      " url                 | null                     \n",
      " region              | null                     \n",
      " chart               | null                     \n",
      " trend               | null                     \n",
      " streams             | 135659.85358278954       \n",
      " track_id            | null                     \n",
      " album               | 25249.694768091536       \n",
      " popularity          | 194.21092868884898       \n",
      " duration_ms         | 106841.64334861544       \n",
      " explicit            | 98574.008416842          \n",
      " release_date        | 13851.971069987356       \n",
      " available_markets   | null                     \n",
      " af_danceability     | 0.125903525393285        \n",
      " af_energy           | 0.1617668833004115       \n",
      " af_key              | 3.728458514249559        \n",
      " af_loudness         | 2.235155921997667        \n",
      " af_mode             | 0.6056153000053771       \n",
      " af_speechiness      | 0.13592623187924788      \n",
      " af_acousticness     | 0.22081230821787992      \n",
      " af_instrumentalness | 0.0670126495975241       \n",
      " af_liveness         | 0.13986323065335354      \n",
      " af_valence          | 0.2323352551544123       \n",
      " af_tempo            | 29.281090372234093       \n",
      " af_time_signature   | 4.936322166210492        \n",
      "-RECORD 3---------------------------------------\n",
      " summary             | min                      \n",
      " index               | 0                        \n",
      " title               | \"A Lovely Night -...     \n",
      " rank                | 1                        \n",
      " artist              | \"Franco \"\"El Gori...     \n",
      " url                 |  De La Ghetto            \n",
      " region              |  Fuego\"                  \n",
      " chart               |  Ozuna\"                  \n",
      " trend               | MOVE_DOWN                \n",
      " streams             | 100017.0                 \n",
      " track_id            | 000xYdQfIZ4pDmBGz...     \n",
      " album               | !Pa'que Nadie Se ...     \n",
      " popularity          |  My Love!\"\"\"             \n",
      " duration_ms         | 0.0                      \n",
      " explicit            | 0.0                      \n",
      " release_date        | 0.0                      \n",
      " available_markets   | 2016-12-02               \n",
      " af_danceability     | 0.176                    \n",
      " af_energy           | 0.0126                   \n",
      " af_key              | 0.0                      \n",
      " af_loudness         | -26.257                  \n",
      " af_mode             | -10.425                  \n",
      " af_speechiness      | -6.904                   \n",
      " af_acousticness     | -3.454                   \n",
      " af_instrumentalness | 0.0                      \n",
      " af_liveness         | 0.00943                  \n",
      " af_valence          | 3.46E-4                  \n",
      " af_tempo            | 0.0                      \n",
      " af_time_signature   | 0.208                    \n",
      "-RECORD 4---------------------------------------\n",
      " summary             | max                      \n",
      " index               | 9998                     \n",
      " title               | 불타오르네 FIRE          \n",
      " rank                | 200                      \n",
      " artist              | 陳以桐                   \n",
      " url                 | https://open.spot...     \n",
      " region              | Uruguay                  \n",
      " chart               | top200                   \n",
      " trend               | https://open.spot...     \n",
      " streams             | top200                   \n",
      " track_id            | top200                   \n",
      " album               | 화양연화 The Most Bea... \n",
      " popularity          | 90.0                     \n",
      " duration_ms         | Baila Toma (feat....     \n",
      " explicit            | True                     \n",
      " release_date        | True                     \n",
      " available_markets   | []                       \n",
      " af_danceability     | []                       \n",
      " af_energy           | []                       \n",
      " af_key              | []                       \n",
      " af_loudness         | 1.0                      \n",
      " af_mode             | 2.0                      \n",
      " af_speechiness      | 7.0                      \n",
      " af_acousticness     | 1.0                      \n",
      " af_instrumentalness | 0.987                    \n",
      " af_liveness         | 0.993                    \n",
      " af_valence          | 0.989                    \n",
      " af_tempo            | 210.158                  \n",
      " af_time_signature   | 160.033                  \n",
      "\n"
     ]
    },
    {
     "name": "stderr",
     "output_type": "stream",
     "text": [
      "                                                                                \r"
     ]
    }
   ],
   "source": [
    "data.describe().show(vertical=True)"
   ]
  },
  {
   "cell_type": "code",
   "execution_count": null,
   "id": "6df0c61a-a70f-4b63-bd74-4470ee8c8d69",
   "metadata": {},
   "outputs": [],
   "source": [
    "gcs_bucket = \"\"\n",
    "data.write.csv(gcs_bucket, header=TRue)"
   ]
  },
  {
   "cell_type": "code",
   "execution_count": 53,
   "id": "0a8ae7e1-6a7e-43a6-abd4-3f12175456bd",
   "metadata": {},
   "outputs": [
    {
     "ename": "ModuleNotFoundError",
     "evalue": "No module named 'airflow'",
     "output_type": "error",
     "traceback": [
      "\u001b[0;31m---------------------------------------------------------------------------\u001b[0m",
      "\u001b[0;31mModuleNotFoundError\u001b[0m                       Traceback (most recent call last)",
      "Cell \u001b[0;32mIn[53], line 2\u001b[0m\n\u001b[1;32m      1\u001b[0m \u001b[38;5;28;01mimport\u001b[39;00m \u001b[38;5;21;01mos\u001b[39;00m\n\u001b[0;32m----> 2\u001b[0m \u001b[38;5;28;01mimport\u001b[39;00m \u001b[38;5;21;01mairflow\u001b[39;00m\n",
      "\u001b[0;31mModuleNotFoundError\u001b[0m: No module named 'airflow'"
     ]
    }
   ],
   "source": [
    "import os\n",
    "import airflow"
   ]
  },
  {
   "cell_type": "code",
   "execution_count": 51,
   "id": "b1870895-c68d-41c4-9f66-d8f2414bf6c3",
   "metadata": {},
   "outputs": [],
   "source": [
    "def read_files_in_batches(directory, batch_size):\n",
    "    files = [os.path.join(directory, f) for f in os.listdir(directory) if f.endswith('.csv')]\n",
    "    for i in range(0, len(files), batch_size):\n",
    "        yield files[i:i+batch_size]"
   ]
  },
  {
   "cell_type": "code",
   "execution_count": 52,
   "id": "dc92d7cb-cddf-4f70-bc1e-f8cf76d688de",
   "metadata": {},
   "outputs": [
    {
     "name": "stdout",
     "output_type": "stream",
     "text": [
      "['../data/merged_3.csv', '../data/merged_6.csv']\n",
      "['../data/merged_data.csv', '../data/merged_1.csv']\n",
      "['../data/merged_data_10k.csv', '../data/merged_5.csv']\n",
      "['../data/merged_4.csv', '../data/merged_2.csv']\n"
     ]
    }
   ],
   "source": [
    "for file in read_files_in_batches('../data',2):\n",
    "    print(file)"
   ]
  },
  {
   "cell_type": "code",
   "execution_count": null,
   "id": "73096317-4aac-499f-8c48-1b87f4c00915",
   "metadata": {},
   "outputs": [],
   "source": []
  }
 ],
 "metadata": {
  "kernelspec": {
   "display_name": "Python 3 (ipykernel)",
   "language": "python",
   "name": "python3"
  },
  "language_info": {
   "codemirror_mode": {
    "name": "ipython",
    "version": 3
   },
   "file_extension": ".py",
   "mimetype": "text/x-python",
   "name": "python",
   "nbconvert_exporter": "python",
   "pygments_lexer": "ipython3",
   "version": "3.10.12"
  }
 },
 "nbformat": 4,
 "nbformat_minor": 5
}
