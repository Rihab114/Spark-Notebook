{
 "cells": [
  {
   "cell_type": "code",
   "execution_count": 101,
   "id": "55be4de2-6766-45ac-a81c-1962983b7a76",
   "metadata": {},
   "outputs": [],
   "source": [
    "#import libraries \n",
    "import pyspark\n",
    "from pyspark.sql import SparkSession\n",
    "from pyspark.sql.types import StructType, StructField, IntegerType, StringType, BooleanType, FloatType, DateType\n",
    "from pyspark.sql.functions import desc, col, lower, when, avg, sum, length"
   ]
  },
  {
   "cell_type": "markdown",
   "id": "2fbc28ab-700e-4f02-9cdb-57c02ab4fd3b",
   "metadata": {},
   "source": [
    "# Create Spark Session"
   ]
  },
  {
   "cell_type": "code",
   "execution_count": 19,
   "id": "555d27b9-87bc-47c8-a988-719ddd8dc7b4",
   "metadata": {},
   "outputs": [],
   "source": [
    "#create spark session \n",
    "spark = SparkSession.builder\\\n",
    "        .appName(\"GCPipeline\")\\\n",
    "        .master(\"local[*]\")\\\n",
    "        .getOrCreate()"
   ]
  },
  {
   "cell_type": "code",
   "execution_count": 20,
   "id": "0dc9c967-077b-45c6-b53c-83678a221c69",
   "metadata": {},
   "outputs": [
    {
     "data": {
      "text/plain": [
       "[]"
      ]
     },
     "execution_count": 20,
     "metadata": {},
     "output_type": "execute_result"
    }
   ],
   "source": [
    "#Check the catalog that should countain the list of names of databases, tables and columns \n",
    "spark.catalog.listTables()"
   ]
  },
  {
   "cell_type": "code",
   "execution_count": 21,
   "id": "0c7d211f-5b02-45f4-8318-d95d51d194b6",
   "metadata": {},
   "outputs": [
    {
     "data": {
      "text/plain": [
       "[('spark.app.name', 'GCPipeline'),\n",
       " ('spark.driver.port', '35771'),\n",
       " ('spark.driver.extraJavaOptions',\n",
       "  '-XX:+IgnoreUnrecognizedVMOptions --add-opens=java.base/java.lang=ALL-UNNAMED --add-opens=java.base/java.lang.invoke=ALL-UNNAMED --add-opens=java.base/java.lang.reflect=ALL-UNNAMED --add-opens=java.base/java.io=ALL-UNNAMED --add-opens=java.base/java.net=ALL-UNNAMED --add-opens=java.base/java.nio=ALL-UNNAMED --add-opens=java.base/java.util=ALL-UNNAMED --add-opens=java.base/java.util.concurrent=ALL-UNNAMED --add-opens=java.base/java.util.concurrent.atomic=ALL-UNNAMED --add-opens=java.base/sun.nio.ch=ALL-UNNAMED --add-opens=java.base/sun.nio.cs=ALL-UNNAMED --add-opens=java.base/sun.security.action=ALL-UNNAMED --add-opens=java.base/sun.util.calendar=ALL-UNNAMED --add-opens=java.security.jgss/sun.security.krb5=ALL-UNNAMED'),\n",
       " ('spark.app.startTime', '1720782156932'),\n",
       " ('spark.sql.warehouse.dir',\n",
       "  'file:/home/rihab/Projects/spark/notebooks/spark-warehouse'),\n",
       " ('spark.executor.id', 'driver'),\n",
       " ('spark.driver.host', '192.168.1.10'),\n",
       " ('spark.rdd.compress', 'True'),\n",
       " ('spark.executor.extraJavaOptions',\n",
       "  '-XX:+IgnoreUnrecognizedVMOptions --add-opens=java.base/java.lang=ALL-UNNAMED --add-opens=java.base/java.lang.invoke=ALL-UNNAMED --add-opens=java.base/java.lang.reflect=ALL-UNNAMED --add-opens=java.base/java.io=ALL-UNNAMED --add-opens=java.base/java.net=ALL-UNNAMED --add-opens=java.base/java.nio=ALL-UNNAMED --add-opens=java.base/java.util=ALL-UNNAMED --add-opens=java.base/java.util.concurrent=ALL-UNNAMED --add-opens=java.base/java.util.concurrent.atomic=ALL-UNNAMED --add-opens=java.base/sun.nio.ch=ALL-UNNAMED --add-opens=java.base/sun.nio.cs=ALL-UNNAMED --add-opens=java.base/sun.security.action=ALL-UNNAMED --add-opens=java.base/sun.util.calendar=ALL-UNNAMED --add-opens=java.security.jgss/sun.security.krb5=ALL-UNNAMED'),\n",
       " ('spark.serializer.objectStreamReset', '100'),\n",
       " ('spark.master', 'local[*]'),\n",
       " ('spark.submit.pyFiles', ''),\n",
       " ('spark.submit.deployMode', 'client'),\n",
       " ('spark.app.id', 'local-1720782160712'),\n",
       " ('spark.ui.showConsoleProgress', 'true'),\n",
       " ('spark.app.submitTime', '1720782156389')]"
      ]
     },
     "execution_count": 21,
     "metadata": {},
     "output_type": "execute_result"
    }
   ],
   "source": [
    "#These are the configurations of the pyspark cluster\n",
    "spark.sparkContext.getConf().getAll()"
   ]
  },
  {
   "cell_type": "markdown",
   "id": "60a36c79-474e-495a-8cc7-46d71f169cf3",
   "metadata": {},
   "source": [
    "# Read input data"
   ]
  },
  {
   "cell_type": "code",
   "execution_count": 41,
   "id": "192f1167-ceee-47ce-b912-0ccd5d42b195",
   "metadata": {},
   "outputs": [],
   "source": [
    "schema = StructType([\n",
    "    StructField(\"_c0\", IntegerType(), True),\n",
    "    StructField(\"title\", StringType(), True),\n",
    "    StructField(\"rank\", IntegerType(), True),\n",
    "    StructField(\"artist\", StringType(), True),\n",
    "    StructField(\"url\", StringType(), True),\n",
    "    StructField(\"region\", StringType(), True),\n",
    "    StructField(\"chart\", StringType(), True),\n",
    "    StructField(\"trend\", StringType(), True),\n",
    "    StructField(\"streams\", IntegerType(), True),\n",
    "    StructField(\"track_id\", StringType(), True),\n",
    "    StructField(\"album\", StringType(), True),\n",
    "    StructField(\"popularity\", IntegerType(), True),\n",
    "    StructField(\"duration_ms\", IntegerType(), True),\n",
    "    StructField(\"explicit\", BooleanType(), True),\n",
    "    StructField(\"release_date\", DateType(), True),\n",
    "    StructField(\"available_markets\", StringType(), True),\n",
    "    StructField(\"af_danceability\", FloatType(), True),\n",
    "    StructField(\"af_energy\", FloatType(), True),\n",
    "    StructField(\"af_key\", IntegerType(), True),\n",
    "    StructField(\"af_loudness\", FloatType(), True),\n",
    "    StructField(\"af_mode\", IntegerType(), True),\n",
    "    StructField(\"af_speechiness\", FloatType(), True),\n",
    "    StructField(\"af_acousticness\", FloatType(), True),\n",
    "    StructField(\"af_instrumentalness\", FloatType(), True),\n",
    "    StructField(\"af_liveness\", FloatType(), True),\n",
    "    StructField(\"af_valence\", FloatType(), True),\n",
    "    StructField(\"af_tempo\", FloatType(), True),\n",
    "    StructField(\"af_time_signature\", IntegerType(), True)\n",
    "])"
   ]
  },
  {
   "cell_type": "code",
   "execution_count": 84,
   "id": "d8559e64-528c-404e-affd-afc4bbd3d9de",
   "metadata": {},
   "outputs": [
    {
     "data": {
      "text/plain": [
       "DataFrame[_c0: int, title: string, rank: int, artist: string, url: string, region: string, chart: string, trend: string, streams: int, track_id: string, album: string, popularity: int, duration_ms: int, explicit: boolean, release_date: date, available_markets: string, af_danceability: float, af_energy: float, af_key: int, af_loudness: float, af_mode: int, af_speechiness: float, af_acousticness: float, af_instrumentalness: float, af_liveness: float, af_valence: float, af_tempo: float, af_time_signature: int]"
      ]
     },
     "metadata": {},
     "output_type": "display_data"
    }
   ],
   "source": [
    "data = spark.read.csv('../data/merged_data_10k.csv', \n",
    "                      schema=schema,\n",
    "                     sep=\",\")\n",
    "display(data)"
   ]
  },
  {
   "cell_type": "code",
   "execution_count": 43,
   "id": "9a842dbd-14fd-4e44-9307-a3e64d32c0e6",
   "metadata": {},
   "outputs": [
    {
     "name": "stderr",
     "output_type": "stream",
     "text": [
      "                                                                                \r"
     ]
    },
    {
     "data": {
      "text/plain": [
       "DataFrame[summary: string, _c0: string, title: string, rank: string, artist: string, url: string, region: string, chart: string, trend: string, streams: string, track_id: string, album: string, popularity: string, duration_ms: string, available_markets: string, af_danceability: string, af_energy: string, af_key: string, af_loudness: string, af_mode: string, af_speechiness: string, af_acousticness: string, af_instrumentalness: string, af_liveness: string, af_valence: string, af_tempo: string, af_time_signature: string]"
      ]
     },
     "execution_count": 43,
     "metadata": {},
     "output_type": "execute_result"
    }
   ],
   "source": [
    "data.summary()"
   ]
  },
  {
   "cell_type": "code",
   "execution_count": 44,
   "id": "aaa988f9-39db-4deb-bd33-e86dbd62f342",
   "metadata": {},
   "outputs": [
    {
     "name": "stderr",
     "output_type": "stream",
     "text": [
      "                                                                                \r"
     ]
    },
    {
     "data": {
      "text/plain": [
       "DataFrame[summary: string, _c0: string, title: string, rank: string, artist: string, url: string, region: string, chart: string, trend: string, streams: string, track_id: string, album: string, popularity: string, duration_ms: string, available_markets: string, af_danceability: string, af_energy: string, af_key: string, af_loudness: string, af_mode: string, af_speechiness: string, af_acousticness: string, af_instrumentalness: string, af_liveness: string, af_valence: string, af_tempo: string, af_time_signature: string]"
      ]
     },
     "execution_count": 44,
     "metadata": {},
     "output_type": "execute_result"
    }
   ],
   "source": [
    "data.describe()\n",
    "#.show(vertical = True)"
   ]
  },
  {
   "cell_type": "code",
   "execution_count": 45,
   "id": "40966d36-81cd-4e84-a4e1-4de094672983",
   "metadata": {},
   "outputs": [
    {
     "name": "stdout",
     "output_type": "stream",
     "text": [
      "root\n",
      " |-- _c0: integer (nullable = true)\n",
      " |-- title: string (nullable = true)\n",
      " |-- rank: integer (nullable = true)\n",
      " |-- artist: string (nullable = true)\n",
      " |-- url: string (nullable = true)\n",
      " |-- region: string (nullable = true)\n",
      " |-- chart: string (nullable = true)\n",
      " |-- trend: string (nullable = true)\n",
      " |-- streams: integer (nullable = true)\n",
      " |-- track_id: string (nullable = true)\n",
      " |-- album: string (nullable = true)\n",
      " |-- popularity: integer (nullable = true)\n",
      " |-- duration_ms: integer (nullable = true)\n",
      " |-- explicit: boolean (nullable = true)\n",
      " |-- release_date: date (nullable = true)\n",
      " |-- available_markets: string (nullable = true)\n",
      " |-- af_danceability: float (nullable = true)\n",
      " |-- af_energy: float (nullable = true)\n",
      " |-- af_key: integer (nullable = true)\n",
      " |-- af_loudness: float (nullable = true)\n",
      " |-- af_mode: integer (nullable = true)\n",
      " |-- af_speechiness: float (nullable = true)\n",
      " |-- af_acousticness: float (nullable = true)\n",
      " |-- af_instrumentalness: float (nullable = true)\n",
      " |-- af_liveness: float (nullable = true)\n",
      " |-- af_valence: float (nullable = true)\n",
      " |-- af_tempo: float (nullable = true)\n",
      " |-- af_time_signature: integer (nullable = true)\n",
      "\n"
     ]
    }
   ],
   "source": [
    "data.printSchema()"
   ]
  },
  {
   "cell_type": "code",
   "execution_count": 46,
   "id": "15f54ef6-00bf-4d5f-acc1-1f29130a71ea",
   "metadata": {},
   "outputs": [
    {
     "data": {
      "text/plain": [
       "10000"
      ]
     },
     "execution_count": 46,
     "metadata": {},
     "output_type": "execute_result"
    }
   ],
   "source": [
    "data.count()"
   ]
  },
  {
   "cell_type": "code",
   "execution_count": 62,
   "id": "76e967ab-1e56-494f-9512-0c11b2e43cbc",
   "metadata": {},
   "outputs": [
    {
     "name": "stderr",
     "output_type": "stream",
     "text": [
      "[Stage 45:===================>                                      (1 + 2) / 3]\r"
     ]
    },
    {
     "name": "stdout",
     "output_type": "stream",
     "text": [
      "+----+--------------------+----+----------+--------------------+--------------------+------------------+------+-------+--------+--------------------+----------+-----------+--------+------------+-----------------+---------------+---------+------+-----------+-------+--------------+---------------+-------------------+-----------+----------+--------+-----------------+\n",
      "| _c0|               title|rank|    artist|                 url|              region|             chart| trend|streams|track_id|               album|popularity|duration_ms|explicit|release_date|available_markets|af_danceability|af_energy|af_key|af_loudness|af_mode|af_speechiness|af_acousticness|af_instrumentalness|af_liveness|af_valence|af_tempo|af_time_signature|\n",
      "+----+--------------------+----+----------+--------------------+--------------------+------------------+------+-------+--------+--------------------+----------+-----------+--------+------------+-----------------+---------------+---------+------+-----------+-------+--------------+---------------+-------------------+-----------+----------+--------+-----------------+\n",
      "|  50|   Cake By The Ocean|  51|2017-01-01|                DNCE|https://open.spot...|         Argentina|top200|   null| 44524.0|2aFiaMXmWsM3Vj72F...|      null|       null|    null|        null|       2016-11-18|           null|    0.774|  null|        4.0|   null|           0.0|         0.0518|              0.156|        0.0|    0.0383|   0.912|             null|\n",
      "| 137|            The Mack| 137|2017-01-01|Nevada, Mark Morr...|https://open.spot...|         Argentina|top200|   null| 19192.0|7aV2mflaASUmGhCEr...|      null|       null|    null|        null|       2016-09-23|           null|    0.707|  null|        0.0|   null|           1.0|         0.0602|             0.0707|        0.0|      0.23|   0.541|             null|\n",
      "| 346|          King Kunta| 145|2017-01-01|      Kendrick Lamar|https://open.spot...|         Australia|top200|   null| 12441.0|0N3W5peJUQtI4eyR6...|      null|       null|    null|        null|       2015-03-16|           null|    0.884|  null|        6.0|   null|           0.0|         0.0977|            0.00589|        0.0|     0.154|   0.489|             null|\n",
      "| 461|          Hallelujah|  59|2017-01-01|          Pentatonix|https://open.spot...|           Austria|top200|   null|  3356.0|550rQQCGkrTzvp4Sf...|      null|       null|    null|        null|       2016-10-21|           null|    0.322|  null|        7.0|   null|           0.0|         0.0356|              0.454|        0.0|     0.338|   0.366|             null|\n",
      "| 647|I Took A Pill In ...|  44|2017-01-01|         Mike Posner|https://open.spot...|           Belgium|top200|   null|  5718.0|17Fd6Yb7mSbinKG8L...|      null|       null|    null|        null|       2016-05-06|           null|    0.663|  null|        7.0|   null|           0.0|          0.112|             0.0353|    7.68E-6|    0.0843|    0.69|             null|\n",
      "| 671|                Ride|  68|2017-01-01|   Twenty One Pilots|https://open.spot...|           Belgium|top200|   null|  4256.0|2Z8WuEywRWYTKe1Ny...|      null|       null|    null|        null|       2015-05-15|           null|    0.645|  null|        6.0|   null|           1.0|         0.0393|            0.00835|        0.0|     0.113|   0.566|             null|\n",
      "| 790|        Stay A While| 188|2017-01-01|Dimitri Vegas & L...|https://open.spot...|           Belgium|top200|   null|  2215.0|7GnbL96pHeYnzY5Rr...|      null|       null|    null|        null|       2016-08-26|           null|    0.516|  null|        7.0|   null|           1.0|         0.0486|             0.0511|        0.0|      0.11|   0.155|             null|\n",
      "| 824|           Me Rehúso|  22|2017-01-01|         Danny Ocean|https://open.spot...|           Bolivia|top200|   null|  2114.0|6De0lHrwBfPfrhorm...|      null|       null|    null|        null|       2016-09-16|           null|    0.744|  null|        1.0|   null|           1.0|         0.0677|             0.0231|        0.0|    0.0494|   0.426|             null|\n",
      "| 914|Pra Sempre Com Vo...|  45|2017-01-01|      Jorge & Mateus|https://open.spot...|            Brazil|top200|   null|103167.0|2KGv51jgAz8OTjNPy...|      null|       null|    null|        null|       2016-02-19|           null|    0.625|  null|       11.0|   null|           1.0|         0.0382|              0.384|        0.0|     0.874|   0.544|             null|\n",
      "| 977|Não Me Deixe Sozinho| 108|2017-01-01|       Nego do Borel|https://open.spot...|            Brazil|top200|   null| 41635.0|0gNxi721t2RcPt5Ld...|      null|       null|    null|        null|       2015-11-06|           null|    0.782|  null|        8.0|   null|           0.0|          0.115|              0.274|    3.09E-6|    0.0521|   0.691|             null|\n",
      "|1224|             Ophelia| 153|2017-01-01|       The Lumineers|https://open.spot...|            Canada|top200|   null| 18752.0|7bTwYGhBdSQ8vuXc7...|      null|       null|    null|        null|       2016-04-08|           null|    0.667|  null|        5.0|   null|           1.0|         0.0286|              0.605|    2.31E-4|    0.0849|   0.579|             null|\n",
      "|1274|Otra vez (feat. J...|   2|2017-01-01|       Zion & Lennox|https://open.spot...|             Chile|top200|   null|108344.0|3QwBODjSEzelZyVjx...|      null|       null|    null|        null|       2016-09-30|           null|    0.832|  null|       10.0|   null|           1.0|            0.1|             0.0559|    4.86E-4|      0.44|   0.704|             null|\n",
      "|1770|            Too Good|  97|2017-01-01|      Drake, Rihanna|https://open.spot...|        Costa Rica|top200|   null|  2765.0|11KJSRSgaDxqydKYi...|      null|       null|    null|        null|       2016-05-06|           null|    0.804|  null|        7.0|   null|           1.0|          0.117|             0.0573|    3.49E-5|     0.102|   0.392|             null|\n",
      "|1895|               Alone|  22|2017-01-01|         Alan Walker|https://open.spot...|    Czech Republic|top200|   null|  3516.0|0JiVRyTJcJnmlwCZ8...|      null|       null|    null|        null|       2016-12-02|           null|    0.676|  null|       10.0|   null|           1.0|         0.0458|              0.186|    4.05E-4|     0.121|   0.157|             null|\n",
      "|1942|   Cake By The Ocean|  68|2017-01-01|                DNCE|https://open.spot...|    Czech Republic|top200|   null|  1698.0|2aFiaMXmWsM3Vj72F...|      null|       null|    null|        null|       2016-11-18|           null|    0.774|  null|        4.0|   null|           0.0|         0.0518|              0.156|        0.0|    0.0383|   0.912|             null|\n",
      "|1950|           I Got You|  76|2017-01-01|          Bebe Rexha|https://open.spot...|    Czech Republic|top200|   null|  1585.0|1FUViuNSldssMIawr...|      null|       null|    null|        null|       2016-10-28|           null|    0.609|  null|        9.0|   null|           0.0|         0.0507|             0.0504|    4.76E-6|      0.09|   0.316|             null|\n",
      "|2259|    I Feel It Coming|  51|2017-01-01|The Weeknd, Daft ...|https://open.spot...|Dominican Republic|top200|   null|  2016.0|5GXAXm5YOmYT0kL5j...|      null|       null|    null|        null|       2016-11-24|           null|    0.773|  null|        0.0|   null|           0.0|          0.118|              0.426|        0.0|    0.0679|   0.585|             null|\n",
      "|2916|         Lost on You|  84|2017-01-01|                  LP|https://open.spot...|            France|top200|   null| 26987.0|3SqvR3HYLlCTYzbDX...|      null|       null|    null|        null|       2016-12-09|           null|    0.433|  null|        5.0|   null|           0.0|         0.0372|                0.1|        0.0|    0.0918|   0.689|             null|\n",
      "|2949|   Cake By The Ocean| 117|2017-01-01|                DNCE|https://open.spot...|            France|top200|   null| 21216.0|2aFiaMXmWsM3Vj72F...|      null|       null|    null|        null|       2016-11-18|           null|    0.774|  null|        4.0|   null|           0.0|         0.0518|              0.156|        0.0|    0.0383|   0.912|             null|\n",
      "|2982|Get Lucky (feat. ...| 150|2017-01-01|           Daft Punk|https://open.spot...|            France|top200|   null| 17343.0|2Foc5Q5nqNiosCNqt...|      null|       null|    null|        null|       2013-04-19|           null|    0.794|  null|        6.0|   null|           0.0|          0.038|             0.0426|    1.07E-6|     0.101|   0.862|             null|\n",
      "+----+--------------------+----+----------+--------------------+--------------------+------------------+------+-------+--------+--------------------+----------+-----------+--------+------------+-----------------+---------------+---------+------+-----------+-------+--------------+---------------+-------------------+-----------+----------+--------+-----------------+\n",
      "only showing top 20 rows\n",
      "\n"
     ]
    },
    {
     "name": "stderr",
     "output_type": "stream",
     "text": [
      "                                                                                \r"
     ]
    }
   ],
   "source": [
    "data.distinct().show()"
   ]
  },
  {
   "cell_type": "code",
   "execution_count": 48,
   "id": "6e842e5c-1f88-4386-bcf4-d187b1a6adcb",
   "metadata": {},
   "outputs": [
    {
     "data": {
      "text/plain": [
       "[('_c0', 'int'),\n",
       " ('title', 'string'),\n",
       " ('rank', 'int'),\n",
       " ('artist', 'string'),\n",
       " ('url', 'string'),\n",
       " ('region', 'string'),\n",
       " ('chart', 'string'),\n",
       " ('trend', 'string'),\n",
       " ('streams', 'int'),\n",
       " ('track_id', 'string'),\n",
       " ('album', 'string'),\n",
       " ('popularity', 'int'),\n",
       " ('duration_ms', 'int'),\n",
       " ('explicit', 'boolean'),\n",
       " ('release_date', 'date'),\n",
       " ('available_markets', 'string'),\n",
       " ('af_danceability', 'float'),\n",
       " ('af_energy', 'float'),\n",
       " ('af_key', 'int'),\n",
       " ('af_loudness', 'float'),\n",
       " ('af_mode', 'int'),\n",
       " ('af_speechiness', 'float'),\n",
       " ('af_acousticness', 'float'),\n",
       " ('af_instrumentalness', 'float'),\n",
       " ('af_liveness', 'float'),\n",
       " ('af_valence', 'float'),\n",
       " ('af_tempo', 'float'),\n",
       " ('af_time_signature', 'int')]"
      ]
     },
     "execution_count": 48,
     "metadata": {},
     "output_type": "execute_result"
    }
   ],
   "source": [
    "data.dtypes"
   ]
  },
  {
   "cell_type": "code",
   "execution_count": 53,
   "id": "78835b45-4974-445e-b221-cda2f10ed1ed",
   "metadata": {},
   "outputs": [
    {
     "name": "stdout",
     "output_type": "stream",
     "text": [
      "+--------------------+\n",
      "|     title_freqItems|\n",
      "+--------------------+\n",
      "|[Mi tesoro (feat....|\n",
      "+--------------------+\n",
      "\n"
     ]
    }
   ],
   "source": [
    "data.stat.freqItems(['title']).show()"
   ]
  },
  {
   "cell_type": "code",
   "execution_count": 57,
   "id": "3651113c-7695-415f-a415-73b2ebc10991",
   "metadata": {},
   "outputs": [
    {
     "name": "stdout",
     "output_type": "stream",
     "text": [
      "+---------+\n",
      "|af_energy|\n",
      "+---------+\n",
      "|     null|\n",
      "|    0.852|\n",
      "|    0.663|\n",
      "|    0.761|\n",
      "|    0.508|\n",
      "|    0.899|\n",
      "|    0.776|\n",
      "|    0.588|\n",
      "|    0.832|\n",
      "|    0.736|\n",
      "|    0.721|\n",
      "|     0.68|\n",
      "|     0.78|\n",
      "|     0.73|\n",
      "|    0.723|\n",
      "|     0.76|\n",
      "|    0.598|\n",
      "|    0.716|\n",
      "|    0.476|\n",
      "|    0.549|\n",
      "+---------+\n",
      "only showing top 20 rows\n",
      "\n"
     ]
    }
   ],
   "source": [
    "data.select('af_energy').show()"
   ]
  },
  {
   "cell_type": "code",
   "execution_count": 58,
   "id": "e621d163-5578-4b5d-aef3-d72ea3312613",
   "metadata": {},
   "outputs": [
    {
     "name": "stdout",
     "output_type": "stream",
     "text": [
      "+---+--------------------+----+----------+--------------------+--------------------+---------+------+-------+--------+--------------------+----------+-----------+--------+------------+-----------------+---------------+---------+------+-----------+-------+--------------+---------------+-------------------+-----------+----------+--------+-----------------+\n",
      "|_c0|               title|rank|    artist|                 url|              region|    chart| trend|streams|track_id|               album|popularity|duration_ms|explicit|release_date|available_markets|af_danceability|af_energy|af_key|af_loudness|af_mode|af_speechiness|af_acousticness|af_instrumentalness|af_liveness|af_valence|af_tempo|af_time_signature|\n",
      "+---+--------------------+----+----------+--------------------+--------------------+---------+------+-------+--------+--------------------+----------+-----------+--------+------------+-----------------+---------------+---------+------+-----------+-------+--------------+---------------+-------------------+-----------+----------+--------+-----------------+\n",
      "|  0|Chantaje (feat. M...|   1|2017-01-01|             Shakira|https://open.spot...|Argentina|top200|   null|253019.0|6mICuAdrwEjh6Y6lr...|      null|       null|    null|        null|       2017-05-26|           null|    0.852|  null|        8.0|   null|           0.0|         0.0776|              0.187|    3.05E-5|     0.159|   0.907|             null|\n",
      "|  1|Vente Pa' Ca (fea...|   2|2017-01-01|        Ricky Martin|https://open.spot...|Argentina|top200|   null|223988.0|7DM4BPaS7uofFul3y...|      null|       null|    null|        null|       2016-09-22|           null|    0.663|  null|       11.0|   null|           0.0|          0.226|            0.00431|    1.69E-5|     0.101|   0.533|             null|\n",
      "|  2|Reggaetón Lento (...|   3|2017-01-01|                CNCO|https://open.spot...|Argentina|top200|   null|210943.0|3AEZUABDXNtecAOSC...|      null|       null|    null|        null|       2016-08-26|           null|    0.761|  null|        4.0|   null|           0.0|         0.0502|                0.4|        0.0|     0.176|    0.71|             null|\n",
      "|  3|              Safari|   4|2017-01-01|J Balvin, Pharrel...|https://open.spot...|Argentina|top200|   null|173865.0|6rQSrBHf7HlZjtcMZ...|      null|       null|    null|        null|       2016-06-24|           null|    0.508|  null|        0.0|   null|           1.0|          0.326|              0.551|    3.41E-6|     0.126|   0.555|             null|\n",
      "|  4|         Shaky Shaky|   5|2017-01-01|        Daddy Yankee|https://open.spot...|Argentina|top200|   null|153956.0|58IL315gMSTD37DOZ...|      null|       null|    null|        null|       2016-04-08|           null|    0.899|  null|        6.0|   null|           0.0|          0.292|              0.076|        0.0|    0.0631|   0.873|             null|\n",
      "|  5|         Traicionera|   6|2017-01-01|     Sebastian Yatra|https://open.spot...|Argentina|top200|   null|151140.0|5J1c3M4EldCfNxXwr...|      null|       null|    null|        null|       2016-06-24|           null|    0.776|  null|       11.0|   null|           1.0|         0.0638|              0.142|        0.0|     0.219|   0.661|             null|\n",
      "|  6|Cuando Se Pone a ...|   7|2017-01-01|              Rombai|https://open.spot...|Argentina|top200|   null|148369.0|1MpKZi1zTXpERKwxm...|      null|       null|    null|        null|       2016-12-02|           null|    0.588|  null|       11.0|   null|           0.0|          0.173|             0.0851|    2.69E-5|     0.084|   0.937|             null|\n",
      "|  7|Otra vez (feat. J...|   8|2017-01-01|       Zion & Lennox|https://open.spot...|Argentina|top200|   null|143004.0|3QwBODjSEzelZyVjx...|      null|       null|    null|        null|       2016-09-30|           null|    0.832|  null|       10.0|   null|           1.0|            0.1|             0.0559|    4.86E-4|      0.44|   0.704|             null|\n",
      "|  8|        La Bicicleta|   9|2017-01-01|Carlos Vives, Sha...|https://open.spot...|Argentina|top200|   null|126389.0|0sXvAOmXgjR2QUqLK...|      null|       null|    null|        null|       2017-05-26|           null|    0.736|  null|        0.0|   null|           1.0|          0.129|              0.198|    2.32E-6|     0.336|   0.953|             null|\n",
      "|  9|Dile Que Tu Me Qu...|  10|2017-01-01|               Ozuna|https://open.spot...|Argentina|top200|   null|112012.0|20ZAJdsKB5IGbGj4i...|      null|       null|    null|        null|       2016-06-06|           null|    0.721|  null|        1.0|   null|           1.0|         0.0782|             0.0998|        0.0|    0.0679|   0.825|             null|\n",
      "| 10|  Andas En Mi Cabeza|  11|2017-01-01|Chino & Nacho, Da...|https://open.spot...|Argentina|top200|   null|110395.0|5mey7CLLuFToM2P68...|      null|       null|    null|        null|       2016-02-19|           null|     0.68|  null|        9.0|   null|           1.0|          0.119|             0.0244|        0.0|     0.112|   0.521|             null|\n",
      "| 11|Desde Esa Noche (...|  12|2017-01-01|              Thalia|https://open.spot...|Argentina|top200|   null|104592.0|1pWYnQIlqxTh5bxuP...|      null|       null|    null|        null|       2016-05-06|           null|     0.78|  null|       11.0|   null|           0.0|         0.0532|              0.171|        0.0|    0.0677|   0.837|             null|\n",
      "| 12|      Borro Cassette|  13|2017-01-01|              Maluma|https://open.spot...|Argentina|top200|   null|101535.0|6DUdDIRgLqCGq1Dwk...|      null|       null|    null|        null|       2015-10-30|           null|     0.73|  null|        5.0|   null|           0.0|          0.106|              0.132|        0.0|     0.151|   0.785|             null|\n",
      "| 13|Gyal You A Party ...|  14|2017-01-01|Charly Black, Dad...|https://open.spot...|Argentina|top200|   null| 99722.0|1AkTW13ysu0AJrwuM...|      null|       null|    null|        null|       2016-10-07|           null|    0.723|  null|        0.0|   null|           1.0|         0.0939|             0.0673|        0.0|     0.363|   0.701|             null|\n",
      "| 14|Me llamas (feat. ...|  15|2017-01-01|             Piso 21|https://open.spot...|Argentina|top200|   null| 95010.0|5hEM0JchdVzQ5PwvS...|      null|       null|    null|        null|       2016-12-02|           null|     0.76|  null|        7.0|   null|           0.0|         0.0529|              0.547|     1.3E-6|    0.0664|   0.745|             null|\n",
      "| 15|La Bicicleta (fea...|  16|2017-01-01|Carlos Vives, Sha...|https://open.spot...|Argentina|top200|   null| 92723.0|7IRuf7FrdQvOGs0g9...|      null|       null|    null|        null|       2016-08-19|           null|    0.598|  null|        0.0|   null|           1.0|          0.159|              0.117|        0.0|     0.398|   0.575|             null|\n",
      "| 16|DUELE EL CORAZON ...|  17|2017-01-01|    Enrique Iglesias|https://open.spot...|Argentina|top200|   null| 91325.0|6YZdkObH88npeKrrk...|      null|       null|    null|        null|       2016-04-18|           null|    0.716|  null|        8.0|   null|           0.0|          0.103|             0.0858|        0.0|     0.135|   0.869|             null|\n",
      "| 18|La Noche No Es pa...|  19|2017-01-01|         Mano Arriba|https://open.spot...|Argentina|top200|   null| 87033.0|3gEebOzxHpEwElicl...|      null|       null|    null|        null|       2016-03-11|           null|    0.549|  null|        6.0|   null|           1.0|         0.0705|              0.126|        0.0|     0.329|   0.905|             null|\n",
      "| 19|          Vacaciones|  20|2017-01-01|               Wisin|https://open.spot...|Argentina|top200|   null| 86103.0|3dQDid3IUNhZy1Oeh...|      null|       null|    null|        null|       2016-09-30|           null|    0.772|  null|        6.0|   null|           0.0|          0.166|              0.256|        0.0|     0.255|   0.694|             null|\n",
      "| 20|Rockabye (feat. S...|  21|2017-01-01|        Clean Bandit|https://open.spot...|Argentina|top200|   null| 76123.0|5knuzwU65gJK7IF5y...|      null|       null|    null|        null|       2016-10-21|           null|     0.72|  null|        9.0|   null|           0.0|         0.0523|              0.406|        0.0|      0.18|   0.742|             null|\n",
      "+---+--------------------+----+----------+--------------------+--------------------+---------+------+-------+--------+--------------------+----------+-----------+--------+------------+-----------------+---------------+---------+------+-----------+-------+--------------+---------------+-------------------+-----------+----------+--------+-----------------+\n",
      "only showing top 20 rows\n",
      "\n"
     ]
    }
   ],
   "source": [
    "data.filter(data['af_energy']>0.5).show()"
   ]
  },
  {
   "cell_type": "code",
   "execution_count": 64,
   "id": "3b399d9d-aaa7-4bf8-b308-ef1087f8c321",
   "metadata": {},
   "outputs": [
    {
     "name": "stdout",
     "output_type": "stream",
     "text": [
      "+----------+--------------------+----------+\n",
      "|     title|               album|    artist|\n",
      "+----------+--------------------+----------+\n",
      "|     title|            track_id|      date|\n",
      "|    Dueles|1iRvhKiXRElIH2Uf4...|2018-03-02|\n",
      "|     BILLY|7bRRHQelMfrP86QYQ...|2018-03-02|\n",
      "|      Mine|6tHWl8ows5JOZq9Yf...|2018-03-01|\n",
      "|      Mine|6tHWl8ows5JOZq9Yf...|2018-03-01|\n",
      "|   Outcast|6jnDfM8vtRWgN7R4X...|2018-03-01|\n",
      "|        Du|0EM85Qj3526QtxCBO...|2018-03-01|\n",
      "|     Leika|6sIgHBjmtF5AgGa0a...|2018-03-01|\n",
      "|  Everyday|2zJJro5CPAVwwzLQQ...|2018-03-01|\n",
      "|      Mine|6tHWl8ows5JOZq9Yf...|2018-03-01|\n",
      "|   Skyldig|4k9zexSmoSS6EER7F...|2018-03-01|\n",
      "| STAY TUNE|0albLGvYx6ftOUJ7K...|2018-03-01|\n",
      "|     BILLY|7bRRHQelMfrP86QYQ...|2018-03-01|\n",
      "| Ko Ko Bop|5EzitieoPnjyKHAq0...|2018-03-01|\n",
      "|        楓|73xYYths9kvmFvYsd...|2018-03-01|\n",
      "|        TT|1nMbZ9OsVNSLEyijI...|2018-03-01|\n",
      "|   44 More|6iyp6udVpLuq3MCUu...|2018-03-01|\n",
      "|God's Plan|2XW4DbS6NddZxRPm5...|2018-03-01|\n",
      "|   Enkelit|6hAKGURpSwL2tvmfj...|2018-03-01|\n",
      "|      Chic|7jUJ2RmT4PFHHq4go...|2018-03-01|\n",
      "+----------+--------------------+----------+\n",
      "only showing top 20 rows\n",
      "\n"
     ]
    }
   ],
   "source": [
    "data.select(['title','album','artist']).orderBy(desc('artist')).show()"
   ]
  },
  {
   "cell_type": "code",
   "execution_count": null,
   "id": "bd73f615-e26d-45d7-89aa-3e502567bd59",
   "metadata": {},
   "outputs": [],
   "source": [
    "spark.sql(f\"SELECT * FROM merged_data_10k.csv\")"
   ]
  },
  {
   "cell_type": "code",
   "execution_count": 71,
   "id": "b1b26dbd-d8f5-4372-83bd-7ddf4b982b42",
   "metadata": {},
   "outputs": [
    {
     "name": "stdout",
     "output_type": "stream",
     "text": [
      "+----+--------------------+----+----------+--------------------+--------------------+---------+------+-------+--------+--------------------+----------+-----------+--------+------------+-----------------+---------------+---------+------+-----------+-------+--------------+---------------+-------------------+-----------+----------+--------+-----------------+\n",
      "| _c0|               title|rank|    artist|                 url|              region|    chart| trend|streams|track_id|               album|popularity|duration_ms|explicit|release_date|available_markets|af_danceability|af_energy|af_key|af_loudness|af_mode|af_speechiness|af_acousticness|af_instrumentalness|af_liveness|af_valence|af_tempo|af_time_signature|\n",
      "+----+--------------------+----+----------+--------------------+--------------------+---------+------+-------+--------+--------------------+----------+-----------+--------+------------+-----------------+---------------+---------+------+-----------+-------+--------------+---------------+-------------------+-----------+----------+--------+-----------------+\n",
      "|null|               title|null|      date|              artist|                 url|   region| chart|   null| streams|            track_id|      null|       null|    null|        null|     release_date|           null|     null|  null|       null|   null|          null|           null|               null|       null|      null|    null|             null|\n",
      "|   0|Chantaje (feat. M...|   1|2017-01-01|             Shakira|https://open.spot...|Argentina|top200|   null|253019.0|6mICuAdrwEjh6Y6lr...|      null|       null|    null|        null|       2017-05-26|           null|    0.852|  null|        8.0|   null|           0.0|         0.0776|              0.187|    3.05E-5|     0.159|   0.907|             null|\n",
      "|   1|Vente Pa' Ca (fea...|   2|2017-01-01|        Ricky Martin|https://open.spot...|Argentina|top200|   null|223988.0|7DM4BPaS7uofFul3y...|      null|       null|    null|        null|       2016-09-22|           null|    0.663|  null|       11.0|   null|           0.0|          0.226|            0.00431|    1.69E-5|     0.101|   0.533|             null|\n",
      "|   2|Reggaetón Lento (...|   3|2017-01-01|                CNCO|https://open.spot...|Argentina|top200|   null|210943.0|3AEZUABDXNtecAOSC...|      null|       null|    null|        null|       2016-08-26|           null|    0.761|  null|        4.0|   null|           0.0|         0.0502|                0.4|        0.0|     0.176|    0.71|             null|\n",
      "|   3|              Safari|   4|2017-01-01|J Balvin, Pharrel...|https://open.spot...|Argentina|top200|   null|173865.0|6rQSrBHf7HlZjtcMZ...|      null|       null|    null|        null|       2016-06-24|           null|    0.508|  null|        0.0|   null|           1.0|          0.326|              0.551|    3.41E-6|     0.126|   0.555|             null|\n",
      "+----+--------------------+----+----------+--------------------+--------------------+---------+------+-------+--------+--------------------+----------+-----------+--------+------------+-----------------+---------------+---------+------+-----------+-------+--------------+---------------+-------------------+-----------+----------+--------+-----------------+\n",
      "only showing top 5 rows\n",
      "\n"
     ]
    }
   ],
   "source": [
    "data.show(n=5)"
   ]
  },
  {
   "cell_type": "code",
   "execution_count": null,
   "id": "3ee5c655-8326-4cd5-bbd0-764064292afe",
   "metadata": {},
   "outputs": [],
   "source": []
  },
  {
   "cell_type": "code",
   "execution_count": null,
   "id": "1043a6a2-a3f5-4cf6-b6ca-9165101b42fe",
   "metadata": {},
   "outputs": [],
   "source": []
  },
  {
   "cell_type": "code",
   "execution_count": 9,
   "id": "f150f2a8-1428-472c-84f3-8ef7ce4956fb",
   "metadata": {},
   "outputs": [],
   "source": [
    "data=data.withColumnRenamed(\"_c0\", \"index\")\n",
    "  "
   ]
  },
  {
   "cell_type": "markdown",
   "id": "fb6a141a-82ad-4886-9912-0930baa89ff3",
   "metadata": {},
   "source": [
    "# Create/Update features"
   ]
  },
  {
   "cell_type": "code",
   "execution_count": null,
   "id": "55b01a7d-60cb-406f-bd1c-b0be6d2a1ce3",
   "metadata": {},
   "outputs": [],
   "source": [
    " data = data.withColumn("
   ]
  },
  {
   "cell_type": "code",
   "execution_count": 95,
   "id": "1f148ac8-53c2-4c83-a039-6f61e05743e9",
   "metadata": {},
   "outputs": [
    {
     "name": "stdout",
     "output_type": "stream",
     "text": [
      "+-----------------+---------------+---------+------+-----------+-------+--------------+---------------+-------------------+-----------+----------+--------+-----------------+\n",
      "|available_markets|af_danceability|af_energy|af_key|af_loudness|af_mode|af_speechiness|af_acousticness|af_instrumentalness|af_liveness|af_valence|af_tempo|af_time_signature|\n",
      "+-----------------+---------------+---------+------+-----------+-------+--------------+---------------+-------------------+-----------+----------+--------+-----------------+\n",
      "|     release_date|           null|     null|  null|       null|   null|          null|           null|               null|       null|      null|    null|             null|\n",
      "|       2017-05-26|           null|    0.852|  null|        8.0|   null|           0.0|         0.0776|              0.187|    3.05E-5|     0.159|   0.907|             null|\n",
      "|       2016-09-22|           null|    0.663|  null|       11.0|   null|           0.0|          0.226|            0.00431|    1.69E-5|     0.101|   0.533|             null|\n",
      "|       2016-08-26|           null|    0.761|  null|        4.0|   null|           0.0|         0.0502|                0.4|        0.0|     0.176|    0.71|             null|\n",
      "|       2016-06-24|           null|    0.508|  null|        0.0|   null|           1.0|          0.326|              0.551|    3.41E-6|     0.126|   0.555|             null|\n",
      "|       2016-04-08|           null|    0.899|  null|        6.0|   null|           0.0|          0.292|              0.076|        0.0|    0.0631|   0.873|             null|\n",
      "|       2016-06-24|           null|    0.776|  null|       11.0|   null|           1.0|         0.0638|              0.142|        0.0|     0.219|   0.661|             null|\n",
      "|       2016-12-02|           null|    0.588|  null|       11.0|   null|           0.0|          0.173|             0.0851|    2.69E-5|     0.084|   0.937|             null|\n",
      "|       2016-09-30|           null|    0.832|  null|       10.0|   null|           1.0|            0.1|             0.0559|    4.86E-4|      0.44|   0.704|             null|\n",
      "|       2017-05-26|           null|    0.736|  null|        0.0|   null|           1.0|          0.129|              0.198|    2.32E-6|     0.336|   0.953|             null|\n",
      "|       2016-06-06|           null|    0.721|  null|        1.0|   null|           1.0|         0.0782|             0.0998|        0.0|    0.0679|   0.825|             null|\n",
      "|       2016-02-19|           null|     0.68|  null|        9.0|   null|           1.0|          0.119|             0.0244|        0.0|     0.112|   0.521|             null|\n",
      "|       2016-05-06|           null|     0.78|  null|       11.0|   null|           0.0|         0.0532|              0.171|        0.0|    0.0677|   0.837|             null|\n",
      "|       2015-10-30|           null|     0.73|  null|        5.0|   null|           0.0|          0.106|              0.132|        0.0|     0.151|   0.785|             null|\n",
      "|       2016-10-07|           null|    0.723|  null|        0.0|   null|           1.0|         0.0939|             0.0673|        0.0|     0.363|   0.701|             null|\n",
      "|       2016-12-02|           null|     0.76|  null|        7.0|   null|           0.0|         0.0529|              0.547|     1.3E-6|    0.0664|   0.745|             null|\n",
      "|       2016-08-19|           null|    0.598|  null|        0.0|   null|           1.0|          0.159|              0.117|        0.0|     0.398|   0.575|             null|\n",
      "|       2016-04-18|           null|    0.716|  null|        8.0|   null|           0.0|          0.103|             0.0858|        0.0|     0.135|   0.869|             null|\n",
      "|       2016-08-05|           null|    0.476|  null|        8.0|   null|           1.0|         0.0576|             0.0784|    1.02E-5|     0.122|   0.142|             null|\n",
      "|       2016-03-11|           null|    0.549|  null|        6.0|   null|           1.0|         0.0705|              0.126|        0.0|     0.329|   0.905|             null|\n",
      "+-----------------+---------------+---------+------+-----------+-------+--------------+---------------+-------------------+-----------+----------+--------+-----------------+\n",
      "only showing top 20 rows\n",
      "\n"
     ]
    }
   ],
   "source": [
    "data.select([ 'available_markets','af_danceability','af_energy','af_key','af_loudness','af_mode','af_speechiness', 'af_acousticness','af_instrumentalness','af_liveness','af_valence','af_tempo','af_time_signature']).show()"
   ]
  },
  {
   "cell_type": "code",
   "execution_count": 104,
   "id": "addcb8b9-b18b-4ff8-a560-3e5a8bd4d41f",
   "metadata": {},
   "outputs": [
    {
     "data": {
      "text/plain": [
       "Column<'sum(af_danceability)'>"
      ]
     },
     "execution_count": 104,
     "metadata": {},
     "output_type": "execute_result"
    }
   ],
   "source": [
    "sum(col('af_danceability'))."
   ]
  },
  {
   "cell_type": "code",
   "execution_count": 110,
   "id": "7b1c9745-b2d3-4312-a73a-37b7b5d6afc9",
   "metadata": {},
   "outputs": [],
   "source": [
    "data = data.withColumn(\"title\", lower(col('title')))\\\n",
    "            .withColumn(\"Class\", when(col('af_energy')>0.5, \"High Energy\").otherwise(when(col('af_loudness')>0.5, \"Loud\").otherwise(\"Classical\")))\\\n",
    "            .withColumn(\"Weight\", when((col('af_loudness').isNotNull()) & (col('af_energy').isNotNull()), col('af_loudness')+ col('af_energy')))\\\n",
    "           "
   ]
  },
  {
   "cell_type": "code",
   "execution_count": 111,
   "id": "9c4f734d-ab19-4a6e-86dd-7e702224e8cb",
   "metadata": {},
   "outputs": [
    {
     "name": "stdout",
     "output_type": "stream",
     "text": [
      "+----+--------------------+----+----------+------------+--------------------+---------+------+-------+--------+--------------------+----------+-----------+--------+------------+-----------------+---------------+---------+------+-----------+-------+--------------+---------------+-------------------+-----------+----------+--------+-----------------+-----------+------+\n",
      "| _c0|               title|rank|    artist|         url|              region|    chart| trend|streams|track_id|               album|popularity|duration_ms|explicit|release_date|available_markets|af_danceability|af_energy|af_key|af_loudness|af_mode|af_speechiness|af_acousticness|af_instrumentalness|af_liveness|af_valence|af_tempo|af_time_signature|      Class|Weight|\n",
      "+----+--------------------+----+----------+------------+--------------------+---------+------+-------+--------+--------------------+----------+-----------+--------+------------+-----------------+---------------+---------+------+-----------+-------+--------------+---------------+-------------------+-----------+----------+--------+-----------------+-----------+------+\n",
      "|null|               title|null|      date|      artist|                 url|   region| chart|   null| streams|            track_id|      null|       null|    null|        null|     release_date|           null|     null|  null|       null|   null|          null|           null|               null|       null|      null|    null|             null|  Classical|  null|\n",
      "|   0|chantaje (feat. m...|   1|2017-01-01|     Shakira|https://open.spot...|Argentina|top200|   null|253019.0|6mICuAdrwEjh6Y6lr...|      null|       null|    null|        null|       2017-05-26|           null|    0.852|  null|        8.0|   null|           0.0|         0.0776|              0.187|    3.05E-5|     0.159|   0.907|             null|High Energy| 8.852|\n",
      "|   1|vente pa' ca (fea...|   2|2017-01-01|Ricky Martin|https://open.spot...|Argentina|top200|   null|223988.0|7DM4BPaS7uofFul3y...|      null|       null|    null|        null|       2016-09-22|           null|    0.663|  null|       11.0|   null|           0.0|          0.226|            0.00431|    1.69E-5|     0.101|   0.533|             null|High Energy|11.663|\n",
      "+----+--------------------+----+----------+------------+--------------------+---------+------+-------+--------+--------------------+----------+-----------+--------+------------+-----------------+---------------+---------+------+-----------+-------+--------------+---------------+-------------------+-----------+----------+--------+-----------------+-----------+------+\n",
      "only showing top 3 rows\n",
      "\n"
     ]
    }
   ],
   "source": [
    "data.show(n=3)"
   ]
  },
  {
   "cell_type": "code",
   "execution_count": null,
   "id": "6ec64813-3216-4b11-bd6c-e2412de5d04c",
   "metadata": {},
   "outputs": [],
   "source": []
  },
  {
   "cell_type": "code",
   "execution_count": null,
   "id": "8ce99a81-52fd-4aec-9bd1-c192bd54cd1d",
   "metadata": {},
   "outputs": [],
   "source": []
  },
  {
   "cell_type": "markdown",
   "id": "141eb627-9ed4-413f-b03c-7698f6828d21",
   "metadata": {},
   "source": [
    "# Fill in missing values"
   ]
  },
  {
   "cell_type": "code",
   "execution_count": 112,
   "id": "d90f82c8-6912-48cf-a58b-9727c660787e",
   "metadata": {},
   "outputs": [],
   "source": [
    "data =data.fillna(0)"
   ]
  },
  {
   "cell_type": "code",
   "execution_count": 113,
   "id": "393d5d95-78b3-405a-99c3-881fe5188342",
   "metadata": {},
   "outputs": [
    {
     "name": "stderr",
     "output_type": "stream",
     "text": [
      "[Stage 63:===================>                                      (1 + 2) / 3]\r"
     ]
    },
    {
     "name": "stdout",
     "output_type": "stream",
     "text": [
      "-RECORD 0-----------------------------------\n",
      " summary             | count                \n",
      " _c0                 | 10000                \n",
      " title               | 10000                \n",
      " rank                | 10000                \n",
      " artist              | 10000                \n",
      " url                 | 10000                \n",
      " region              | 10000                \n",
      " chart               | 10000                \n",
      " trend               | 10000                \n",
      " streams             | 10000                \n",
      " track_id            | 10000                \n",
      " album               | 10000                \n",
      " popularity          | 10000                \n",
      " duration_ms         | 10000                \n",
      " available_markets   | 10000                \n",
      " af_danceability     | 10000                \n",
      " af_energy           | 10000                \n",
      " af_key              | 10000                \n",
      " af_loudness         | 10000                \n",
      " af_mode             | 10000                \n",
      " af_speechiness      | 10000                \n",
      " af_acousticness     | 10000                \n",
      " af_instrumentalness | 10000                \n",
      " af_liveness         | 10000                \n",
      " af_valence          | 10000                \n",
      " af_tempo            | 10000                \n",
      " af_time_signature   | 10000                \n",
      " Class               | 10000                \n",
      " Weight              | 10000                \n",
      "-RECORD 1-----------------------------------\n",
      " summary             | mean                 \n",
      " _c0                 | 4998.5001            \n",
      " title               | 1036.6666666666667   \n",
      " rank                | 93.1821              \n",
      " artist              | null                 \n",
      " url                 | null                 \n",
      " region              | null                 \n",
      " chart               | null                 \n",
      " trend               | null                 \n",
      " streams             | 0.0                  \n",
      " track_id            | 38140.79743923177    \n",
      " album               | null                 \n",
      " popularity          | 51.6892              \n",
      " duration_ms         | 0.0                  \n",
      " available_markets   | 2821.4649446494464   \n",
      " af_danceability     | 22.3861              \n",
      " af_energy           | 0.668255000898242    \n",
      " af_key              | 0.0                  \n",
      " af_loudness         | 5.289730900007486    \n",
      " af_mode             | 0.0                  \n",
      " af_speechiness      | 0.5506606998085976   \n",
      " af_acousticness     | 0.10046052010171115  \n",
      " af_instrumentalness | 0.2019887711095764   \n",
      " af_liveness         | 0.008874404249507393 \n",
      " af_valence          | 0.17613970013819635  \n",
      " af_tempo            | 0.5505938245630503   \n",
      " af_time_signature   | 0.0                  \n",
      " Class               | null                 \n",
      " Weight              | 5.957554984420538    \n",
      "-RECORD 2-----------------------------------\n",
      " summary             | stddev               \n",
      " _c0                 | 2886.8955067280613   \n",
      " title               | 762.3672780665935    \n",
      " rank                | 57.97596278472728    \n",
      " artist              | null                 \n",
      " url                 | null                 \n",
      " region              | null                 \n",
      " chart               | null                 \n",
      " trend               | null                 \n",
      " streams             | 0.0                  \n",
      " track_id            | 135659.85358278954   \n",
      " album               | null                 \n",
      " popularity          | 3498.57600454947     \n",
      " duration_ms         | 0.0                  \n",
      " available_markets   | 13851.971069987356   \n",
      " af_danceability     | 2238.609999999997    \n",
      " af_energy           | 0.128111031434989    \n",
      " af_key              | 0.0                  \n",
      " af_loudness         | 3.728836314943135    \n",
      " af_mode             | 0.0                  \n",
      " af_speechiness      | 0.6056100592925904   \n",
      " af_acousticness     | 0.13592314699331579  \n",
      " af_instrumentalness | 0.22081050595171584  \n",
      " af_liveness         | 0.06700935789509341  \n",
      " af_valence          | 0.13986732990249034  \n",
      " af_tempo            | 0.23238888489981102  \n",
      " af_time_signature   | 0.0                  \n",
      " Class               | null                 \n",
      " Weight              | 3.7283788057632385   \n",
      "-RECORD 3-----------------------------------\n",
      " summary             | min                  \n",
      " _c0                 | 0                    \n",
      " title               | \"a lovely night -... \n",
      " rank                | 0                    \n",
      " artist              | 2017-01-01           \n",
      " url                 | \"Franco \"\"El Gori... \n",
      " region              |  De La Ghetto        \n",
      " chart               |  Fuego\"              \n",
      " trend               |  Ozuna\"              \n",
      " streams             | 0                    \n",
      " track_id            | 100017.0             \n",
      " album               | 000xYdQfIZ4pDmBGz... \n",
      " popularity          | 0                    \n",
      " duration_ms         | 0                    \n",
      " available_markets   | 0.0                  \n",
      " af_danceability     | 0.0                  \n",
      " af_energy           | 0.0                  \n",
      " af_key              | 0                    \n",
      " af_loudness         | 0.0                  \n",
      " af_mode             | 0                    \n",
      " af_speechiness      | -10.425              \n",
      " af_acousticness     | -6.904               \n",
      " af_instrumentalness | -3.454               \n",
      " af_liveness         | 0.0                  \n",
      " af_valence          | 0.0                  \n",
      " af_tempo            | 0.0                  \n",
      " af_time_signature   | 0                    \n",
      " Class               | Classical            \n",
      " Weight              | 0.0                  \n",
      "-RECORD 4-----------------------------------\n",
      " summary             | max                  \n",
      " _c0                 | 9998                 \n",
      " title               | 불타오르네 fire      \n",
      " rank                | 200                  \n",
      " artist              | date                 \n",
      " url                 | 陳以桐               \n",
      " region              | url                  \n",
      " chart               | region               \n",
      " trend               | top200               \n",
      " streams             | 0                    \n",
      " track_id            | top200               \n",
      " album               | track_id             \n",
      " popularity          | 247365               \n",
      " duration_ms         | 0                    \n",
      " available_markets   | release_date         \n",
      " af_danceability     | 223861.0             \n",
      " af_energy           | 0.976                \n",
      " af_key              | 0                    \n",
      " af_loudness         | 11.0                 \n",
      " af_mode             | 0                    \n",
      " af_speechiness      | 2.0                  \n",
      " af_acousticness     | 7.0                  \n",
      " af_instrumentalness | 1.0                  \n",
      " af_liveness         | 0.987                \n",
      " af_valence          | 0.993                \n",
      " af_tempo            | 0.989                \n",
      " af_time_signature   | 0                    \n",
      " Class               | Loud                 \n",
      " Weight              | 11.943               \n",
      "\n"
     ]
    },
    {
     "name": "stderr",
     "output_type": "stream",
     "text": [
      "                                                                                \r"
     ]
    }
   ],
   "source": [
    "data.describe().show(vertical=True)"
   ]
  },
  {
   "cell_type": "code",
   "execution_count": 114,
   "id": "a9ec203b-5ffc-4205-887a-4f973b13b637",
   "metadata": {},
   "outputs": [
    {
     "name": "stdout",
     "output_type": "stream",
     "text": [
      "+---+--------------------+----+----------+------------+--------------------+---------+------+-------+--------+--------------------+----------+-----------+--------+------------+-----------------+---------------+---------+------+-----------+-------+--------------+---------------+-------------------+-----------+----------+--------+-----------------+-----------+------+\n",
      "|_c0|               title|rank|    artist|         url|              region|    chart| trend|streams|track_id|               album|popularity|duration_ms|explicit|release_date|available_markets|af_danceability|af_energy|af_key|af_loudness|af_mode|af_speechiness|af_acousticness|af_instrumentalness|af_liveness|af_valence|af_tempo|af_time_signature|      Class|Weight|\n",
      "+---+--------------------+----+----------+------------+--------------------+---------+------+-------+--------+--------------------+----------+-----------+--------+------------+-----------------+---------------+---------+------+-----------+-------+--------------+---------------+-------------------+-----------+----------+--------+-----------------+-----------+------+\n",
      "|  0|               title|   0|      date|      artist|                 url|   region| chart|      0| streams|            track_id|         0|          0|    null|        null|     release_date|            0.0|      0.0|     0|        0.0|      0|           0.0|            0.0|                0.0|        0.0|       0.0|     0.0|                0|  Classical|   0.0|\n",
      "|  0|chantaje (feat. m...|   1|2017-01-01|     Shakira|https://open.spot...|Argentina|top200|      0|253019.0|6mICuAdrwEjh6Y6lr...|         0|          0|    null|        null|       2017-05-26|            0.0|    0.852|     0|        8.0|      0|           0.0|         0.0776|              0.187|    3.05E-5|     0.159|   0.907|                0|High Energy| 8.852|\n",
      "|  1|vente pa' ca (fea...|   2|2017-01-01|Ricky Martin|https://open.spot...|Argentina|top200|      0|223988.0|7DM4BPaS7uofFul3y...|         0|          0|    null|        null|       2016-09-22|            0.0|    0.663|     0|       11.0|      0|           0.0|          0.226|            0.00431|    1.69E-5|     0.101|   0.533|                0|High Energy|11.663|\n",
      "+---+--------------------+----+----------+------------+--------------------+---------+------+-------+--------+--------------------+----------+-----------+--------+------------+-----------------+---------------+---------+------+-----------+-------+--------------+---------------+-------------------+-----------+----------+--------+-----------------+-----------+------+\n",
      "only showing top 3 rows\n",
      "\n"
     ]
    }
   ],
   "source": [
    "data.show(n=3)"
   ]
  },
  {
   "cell_type": "code",
   "execution_count": null,
   "id": "6df0c61a-a70f-4b63-bd74-4470ee8c8d69",
   "metadata": {},
   "outputs": [],
   "source": [
    "gcs_bucket = \"\"\n",
    "data.write.csv(gcs_bucket, header=TRue)"
   ]
  },
  {
   "cell_type": "code",
   "execution_count": null,
   "id": "0a8ae7e1-6a7e-43a6-abd4-3f12175456bd",
   "metadata": {},
   "outputs": [],
   "source": [
    "import os\n",
    "import airflow"
   ]
  },
  {
   "cell_type": "code",
   "execution_count": null,
   "id": "b1870895-c68d-41c4-9f66-d8f2414bf6c3",
   "metadata": {},
   "outputs": [],
   "source": [
    "def read_files_in_batches(directory, batch_size):\n",
    "    files = [os.path.join(directory, f) for f in os.listdir(directory) if f.endswith('.csv')]\n",
    "    for i in range(0, len(files), batch_size):\n",
    "        yield files[i:i+batch_size]"
   ]
  },
  {
   "cell_type": "code",
   "execution_count": null,
   "id": "dc92d7cb-cddf-4f70-bc1e-f8cf76d688de",
   "metadata": {},
   "outputs": [],
   "source": [
    "for file in read_files_in_batches('../data',2):\n",
    "    print(file)"
   ]
  },
  {
   "cell_type": "code",
   "execution_count": null,
   "id": "73096317-4aac-499f-8c48-1b87f4c00915",
   "metadata": {},
   "outputs": [],
   "source": []
  },
  {
   "cell_type": "code",
   "execution_count": null,
   "id": "3b8ad539-13bb-472c-92cd-5eced2bf8fc0",
   "metadata": {},
   "outputs": [],
   "source": []
  },
  {
   "cell_type": "code",
   "execution_count": null,
   "id": "cdeda401-445c-4c71-9f58-65936d74d329",
   "metadata": {},
   "outputs": [],
   "source": []
  },
  {
   "cell_type": "code",
   "execution_count": null,
   "id": "da22e700-4a52-4bbe-8ba5-a71980eeb08f",
   "metadata": {},
   "outputs": [],
   "source": []
  },
  {
   "cell_type": "code",
   "execution_count": null,
   "id": "11a560f5-b320-42e9-9732-fe15e20f6629",
   "metadata": {},
   "outputs": [],
   "source": []
  },
  {
   "cell_type": "code",
   "execution_count": null,
   "id": "1da89080-00d8-4872-9e24-1306f0e60d9c",
   "metadata": {},
   "outputs": [],
   "source": []
  },
  {
   "cell_type": "code",
   "execution_count": null,
   "id": "6fb5b100-d443-4456-af6f-b658cc3185f8",
   "metadata": {},
   "outputs": [],
   "source": []
  },
  {
   "cell_type": "code",
   "execution_count": null,
   "id": "edd89eaa-f97f-4d5a-bf2f-51dcff99a9c0",
   "metadata": {},
   "outputs": [],
   "source": []
  },
  {
   "cell_type": "code",
   "execution_count": null,
   "id": "f246c198-2e7a-445f-bc17-caa4e6f364c8",
   "metadata": {},
   "outputs": [],
   "source": []
  },
  {
   "cell_type": "code",
   "execution_count": null,
   "id": "31f69b6c-50f9-4cb5-9963-af781d00a63f",
   "metadata": {},
   "outputs": [],
   "source": []
  },
  {
   "cell_type": "code",
   "execution_count": null,
   "id": "19db7a16-2df5-4c4e-b916-35211441ff0a",
   "metadata": {},
   "outputs": [],
   "source": []
  },
  {
   "cell_type": "code",
   "execution_count": null,
   "id": "30f97945-ecf9-4fe1-98fc-117cbad676f4",
   "metadata": {},
   "outputs": [],
   "source": []
  },
  {
   "cell_type": "code",
   "execution_count": null,
   "id": "8c452d01-10fa-4d51-bb97-bdd0425d08ac",
   "metadata": {},
   "outputs": [],
   "source": []
  },
  {
   "cell_type": "code",
   "execution_count": null,
   "id": "7e8f7cff-449d-457a-bde2-6c6d2f54495a",
   "metadata": {},
   "outputs": [],
   "source": []
  },
  {
   "cell_type": "code",
   "execution_count": null,
   "id": "880c97da-5bbf-4f30-b8c2-f58b0a6e4661",
   "metadata": {},
   "outputs": [],
   "source": []
  },
  {
   "cell_type": "code",
   "execution_count": null,
   "id": "c3675865-eaaa-4e9d-b154-7e584cc9981b",
   "metadata": {},
   "outputs": [],
   "source": []
  }
 ],
 "metadata": {
  "kernelspec": {
   "display_name": "Python 3 (ipykernel)",
   "language": "python",
   "name": "python3"
  },
  "language_info": {
   "codemirror_mode": {
    "name": "ipython",
    "version": 3
   },
   "file_extension": ".py",
   "mimetype": "text/x-python",
   "name": "python",
   "nbconvert_exporter": "python",
   "pygments_lexer": "ipython3",
   "version": "3.10.12"
  }
 },
 "nbformat": 4,
 "nbformat_minor": 5
}
