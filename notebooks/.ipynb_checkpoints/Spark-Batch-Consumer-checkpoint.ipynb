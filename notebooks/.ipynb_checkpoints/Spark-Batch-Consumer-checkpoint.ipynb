{
 "cells": [
  {
   "cell_type": "code",
   "execution_count": 1,
   "id": "686a0e38-227f-4c6a-9a80-7a3928f93f8e",
   "metadata": {},
   "outputs": [],
   "source": [
    "from pyspark.sql import SparkSession\n",
    "import os\n",
    "from pyspark.sql.types import StructType, StructField, IntegerType, StringType, DateType\n",
    "from pyspark.sql.functions import from_json, col, window, count, explode, expr\n",
    "import tempfile\n",
    "from ast import literal_eval"
   ]
  },
  {
   "cell_type": "code",
   "execution_count": 2,
   "id": "e5a42423-44f4-42a4-9e0c-454cb1cd3e46",
   "metadata": {},
   "outputs": [],
   "source": [
    "import os\n",
    "import sys\n",
    "\n",
    "os.environ['PYSPARK_PYTHON'] = sys.executable\n",
    "os.environ['PYSPARK_DRIVER_PYTHON'] = sys.executable"
   ]
  },
  {
   "cell_type": "code",
   "execution_count": 3,
   "id": "ef9a784a-b2b5-4ea0-bdbf-2a1809b8d042",
   "metadata": {},
   "outputs": [
    {
     "name": "stdout",
     "output_type": "stream",
     "text": [
      "24/07/27 21:37:38 WARN Utils: Your hostname, rihab-X556UJ resolves to a loopback address: 127.0.1.1; using 192.168.1.10 instead (on interface wlp3s0)\n",
      "24/07/27 21:37:38 WARN Utils: Set SPARK_LOCAL_IP if you need to bind to another address\n",
      ":: loading settings :: url = jar:file:/home/rihab/spark-3.3.2-bin-hadoop3/jars/ivy-2.5.1.jar!/org/apache/ivy/core/settings/ivysettings.xml\n"
     ]
    },
    {
     "name": "stderr",
     "output_type": "stream",
     "text": [
      "Ivy Default Cache set to: /home/rihab/.ivy2/cache\n",
      "The jars for the packages stored in: /home/rihab/.ivy2/jars\n",
      "org.apache.spark#spark-sql-kafka-0-10_2.12 added as a dependency\n",
      ":: resolving dependencies :: org.apache.spark#spark-submit-parent-ae05423f-a7cf-4493-932e-3cb32de07069;1.0\n",
      "\tconfs: [default]\n",
      "\tfound org.apache.spark#spark-sql-kafka-0-10_2.12;3.5.1 in central\n",
      "\tfound org.apache.spark#spark-token-provider-kafka-0-10_2.12;3.5.1 in central\n",
      "\tfound org.apache.kafka#kafka-clients;3.4.1 in central\n",
      "\tfound org.lz4#lz4-java;1.8.0 in central\n",
      "\tfound org.xerial.snappy#snappy-java;1.1.10.3 in central\n",
      "\tfound org.slf4j#slf4j-api;2.0.7 in central\n",
      "\tfound org.apache.hadoop#hadoop-client-runtime;3.3.4 in central\n",
      "\tfound org.apache.hadoop#hadoop-client-api;3.3.4 in central\n",
      "\tfound commons-logging#commons-logging;1.1.3 in central\n",
      "\tfound com.google.code.findbugs#jsr305;3.0.0 in central\n",
      "\tfound org.apache.commons#commons-pool2;2.11.1 in central\n",
      ":: resolution report :: resolve 1283ms :: artifacts dl 22ms\n",
      "\t:: modules in use:\n",
      "\tcom.google.code.findbugs#jsr305;3.0.0 from central in [default]\n",
      "\tcommons-logging#commons-logging;1.1.3 from central in [default]\n",
      "\torg.apache.commons#commons-pool2;2.11.1 from central in [default]\n",
      "\torg.apache.hadoop#hadoop-client-api;3.3.4 from central in [default]\n",
      "\torg.apache.hadoop#hadoop-client-runtime;3.3.4 from central in [default]\n",
      "\torg.apache.kafka#kafka-clients;3.4.1 from central in [default]\n",
      "\torg.apache.spark#spark-sql-kafka-0-10_2.12;3.5.1 from central in [default]\n",
      "\torg.apache.spark#spark-token-provider-kafka-0-10_2.12;3.5.1 from central in [default]\n",
      "\torg.lz4#lz4-java;1.8.0 from central in [default]\n",
      "\torg.slf4j#slf4j-api;2.0.7 from central in [default]\n",
      "\torg.xerial.snappy#snappy-java;1.1.10.3 from central in [default]\n",
      "\t---------------------------------------------------------------------\n",
      "\t|                  |            modules            ||   artifacts   |\n",
      "\t|       conf       | number| search|dwnlded|evicted|| number|dwnlded|\n",
      "\t---------------------------------------------------------------------\n",
      "\t|      default     |   11  |   0   |   0   |   0   ||   11  |   0   |\n",
      "\t---------------------------------------------------------------------\n",
      ":: retrieving :: org.apache.spark#spark-submit-parent-ae05423f-a7cf-4493-932e-3cb32de07069\n",
      "\tconfs: [default]\n",
      "\t0 artifacts copied, 11 already retrieved (0kB/15ms)\n"
     ]
    },
    {
     "name": "stdout",
     "output_type": "stream",
     "text": [
      "24/07/27 21:37:41 WARN NativeCodeLoader: Unable to load native-hadoop library for your platform... using builtin-java classes where applicable\n"
     ]
    },
    {
     "name": "stderr",
     "output_type": "stream",
     "text": [
      "Setting default log level to \"WARN\".\n",
      "To adjust logging level use sc.setLogLevel(newLevel). For SparkR, use setLogLevel(newLevel).\n"
     ]
    },
    {
     "data": {
      "text/html": [
       "\n",
       "            <div>\n",
       "                <p><b>SparkSession - in-memory</b></p>\n",
       "                \n",
       "        <div>\n",
       "            <p><b>SparkContext</b></p>\n",
       "\n",
       "            <p><a href=\"http://192.168.1.10:4040\">Spark UI</a></p>\n",
       "\n",
       "            <dl>\n",
       "              <dt>Version</dt>\n",
       "                <dd><code>v3.3.2</code></dd>\n",
       "              <dt>Master</dt>\n",
       "                <dd><code>local[*]</code></dd>\n",
       "              <dt>AppName</dt>\n",
       "                <dd><code>Streaming from Kafka</code></dd>\n",
       "            </dl>\n",
       "        </div>\n",
       "        \n",
       "            </div>\n",
       "        "
      ],
      "text/plain": [
       "<pyspark.sql.session.SparkSession at 0x7ecda77d5090>"
      ]
     },
     "execution_count": 3,
     "metadata": {},
     "output_type": "execute_result"
    }
   ],
   "source": [
    "# Create the Spark Session\n",
    "from pyspark.sql import SparkSession\n",
    "\n",
    "spark = SparkSession \\\n",
    "    .builder \\\n",
    "    .appName(\"Streaming from Kafka\") \\\n",
    "    .config(\"spark.streaming.stopGracefullyOnShutdown\", True) \\\n",
    "    .config('spark.jars.packages', 'org.apache.spark:spark-sql-kafka-0-10_2.12:3.5.1') \\\n",
    "    .config(\"spark.sql.shuffle.partitions\", 4) \\\n",
    "    .master(\"local[*]\") \\\n",
    "    .getOrCreate()\n",
    "\n",
    "spark"
   ]
  },
  {
   "cell_type": "code",
   "execution_count": 8,
   "id": "e348344e-31d9-42bd-8ace-7e6ed120ec1d",
   "metadata": {},
   "outputs": [],
   "source": [
    "# Create the streaming_df to read from kafka\n",
    "streaming_df = spark.readStream\\\n",
    "    .format(\"kafka\") \\\n",
    "    .option(\"kafka.bootstrap.servers\", \"localhost:9092\") \\\n",
    "    .option(\"subscribe\", \"velib_bikes\") \\\n",
    "    .option(\"startingOffsets\", \"earliest\") \\\n",
    "    .load()"
   ]
  },
  {
   "cell_type": "code",
   "execution_count": 9,
   "id": "78d4cc68-e7aa-426b-9d61-2ac5affcebb4",
   "metadata": {},
   "outputs": [],
   "source": [
    "df = streaming_df.selectExpr(\"CAST(value AS STRING)\")"
   ]
  },
  {
   "cell_type": "code",
   "execution_count": 11,
   "id": "155d85e4-35dc-4271-84b9-12864afa2245",
   "metadata": {},
   "outputs": [
    {
     "name": "stdout",
     "output_type": "stream",
     "text": [
      "24/07/27 21:40:36 WARN ResolveWriteToStream: Temporary checkpoint location created which is deleted normally when the query didn't fail: /tmp/temporary-ba7828fa-a180-45ed-a6e8-6eb5a9d05225. If it's required to delete it under any circumstances, please set spark.sql.streaming.forceDeleteTempCheckpointLocation to true. Important to know deleting temp checkpoint folder is best effort.\n",
      "24/07/27 21:40:36 WARN ResolveWriteToStream: spark.sql.adaptive.enabled is not supported in streaming DataFrames/Datasets and will be disabled.\n"
     ]
    },
    {
     "name": "stderr",
     "output_type": "stream",
     "text": [
      "[Stage 2:>                                                          (0 + 1) / 1]\r"
     ]
    }
   ],
   "source": [
    "bikes_query = df.writeStream.queryName(\"bikes10\").format(\"memory\").start()"
   ]
  },
  {
   "cell_type": "code",
   "execution_count": 13,
   "id": "3b12e24a-647b-4cb5-9c17-d01e0c256665",
   "metadata": {},
   "outputs": [
    {
     "name": "stdout",
     "output_type": "stream",
     "text": [
      "+--------------------+\n",
      "|               value|\n",
      "+--------------------+\n",
      "|{\"total_count\": 1...|\n",
      "|{\"total_count\": 1...|\n",
      "+--------------------+\n",
      "\n"
     ]
    }
   ],
   "source": [
    "bikes= spark.sql(\"select * from bikes10\")\n",
    "bikes.show()"
   ]
  },
  {
   "cell_type": "code",
   "execution_count": null,
   "id": "1fc3c663-46d9-43ba-ab05-9efa6af27f87",
   "metadata": {},
   "outputs": [],
   "source": []
  },
  {
   "cell_type": "code",
   "execution_count": 18,
   "id": "a3415b93-4b23-411f-942c-cbe25819ffe1",
   "metadata": {},
   "outputs": [],
   "source": [
    "rdds = bikes.rdd.map(lambda bike: bike['value'])"
   ]
  },
  {
   "cell_type": "code",
   "execution_count": 19,
   "id": "aa216de4-940e-450e-866a-cf56982121ed",
   "metadata": {},
   "outputs": [
    {
     "data": {
      "text/plain": [
       "PythonRDD[15] at RDD at PythonRDD.scala:53"
      ]
     },
     "execution_count": 19,
     "metadata": {},
     "output_type": "execute_result"
    }
   ],
   "source": [
    "rdds"
   ]
  },
  {
   "cell_type": "code",
   "execution_count": 20,
   "id": "b35b857a-b212-4858-bb1a-bd77f333fb41",
   "metadata": {},
   "outputs": [
    {
     "name": "stderr",
     "output_type": "stream",
     "text": [
      "                                                                                \r"
     ]
    }
   ],
   "source": [
    "data = rdds.collect()"
   ]
  },
  {
   "cell_type": "code",
   "execution_count": 33,
   "id": "dbeb40db-5dd9-4be4-8807-7cb861f0a524",
   "metadata": {},
   "outputs": [
    {
     "data": {
      "text/plain": [
       "['{\"total_count\": 1496, \"results\": [{\"stationcode\": \"44015\", \"name\": \"Rouget de L\\'isle - Watteau\", \"is_installed\": \"OUI\", \"capacity\": 20, \"numdocksavailable\": 4, \"numbikesavailable\": 15, \"mechanical\": 11, \"ebike\": 4, \"is_renting\": \"OUI\", \"is_returning\": \"OUI\", \"duedate\": \"2024-07-27T15:04:02+00:00\", \"coordonnees_geo\": {\"lon\": 2.3963020229163, \"lat\": 48.778192750803}, \"nom_arrondissement_communes\": \"Vitry-sur-Seine\", \"code_insee_commune\": null}]}',\n",
       " '{\"total_count\": 1496, \"results\": [{\"stationcode\": \"44015\", \"name\": \"Rouget de L\\'isle - Watteau\", \"is_installed\": \"OUI\", \"capacity\": 20, \"numdocksavailable\": 4, \"numbikesavailable\": 16, \"mechanical\": 11, \"ebike\": 5, \"is_renting\": \"OUI\", \"is_returning\": \"OUI\", \"duedate\": \"2024-07-27T19:05:12+00:00\", \"coordonnees_geo\": {\"lon\": 2.3963020229163, \"lat\": 48.778192750803}, \"nom_arrondissement_communes\": \"Vitry-sur-Seine\", \"code_insee_commune\": null}]}']"
      ]
     },
     "execution_count": 33,
     "metadata": {},
     "output_type": "execute_result"
    }
   ],
   "source": [
    "data"
   ]
  },
  {
   "cell_type": "code",
   "execution_count": 37,
   "id": "0bb3faf5-df16-496d-ab17-1d0ffae40a38",
   "metadata": {},
   "outputs": [
    {
     "name": "stdout",
     "output_type": "stream",
     "text": [
      "24/07/27 22:09:48 ERROR Executor: Exception in task 0.0 in stage 9.0 (TID 14)\n",
      "org.apache.spark.api.python.PythonException: Traceback (most recent call last):\n",
      "  File \"/home/rihab/spark-3.3.2-bin-hadoop3/python/lib/pyspark.zip/pyspark/worker.py\", line 686, in main\n",
      "    process()\n",
      "  File \"/home/rihab/spark-3.3.2-bin-hadoop3/python/lib/pyspark.zip/pyspark/worker.py\", line 678, in process\n",
      "    serializer.dump_stream(out_iter, outfile)\n",
      "  File \"/home/rihab/spark-3.3.2-bin-hadoop3/python/lib/pyspark.zip/pyspark/serializers.py\", line 273, in dump_stream\n",
      "    vs = list(itertools.islice(iterator, batch))\n",
      "  File \"/home/rihab/spark-3.3.2-bin-hadoop3/python/lib/pyspark.zip/pyspark/util.py\", line 81, in wrapper\n",
      "    return f(*args, **kwargs)\n",
      "  File \"/home/rihab/.local/lib/python3.10/site-packages/pyspark/sql/session.py\", line 910, in prepare\n",
      "    verify_func(obj)\n",
      "  File \"/home/rihab/.local/lib/python3.10/site-packages/pyspark/sql/types.py\", line 1722, in verify\n",
      "    verify_value(obj)\n",
      "  File \"/home/rihab/.local/lib/python3.10/site-packages/pyspark/sql/types.py\", line 1706, in verify_struct\n",
      "    raise TypeError(\n",
      "TypeError: StructType can not accept object '{\"total_count\": 1496, \"results\": [{\"stationcode\": \"44015\", \"name\": \"Rouget de L\\'isle - Watteau\", \"is_installed\": \"OUI\", \"capacity\": 20, \"numdocksavailable\": 4, \"numbikesavailable\": 15, \"mechanical\": 11, \"ebike\": 4, \"is_renting\": \"OUI\", \"is_returning\": \"OUI\", \"duedate\": \"2024-07-27T15:04:02+00:00\", \"coordonnees_geo\": {\"lon\": 2.3963020229163, \"lat\": 48.778192750803}, \"nom_arrondissement_communes\": \"Vitry-sur-Seine\", \"code_insee_commune\": null}]}' in type <class 'str'>\n",
      "\n",
      "\tat org.apache.spark.api.python.BasePythonRunner$ReaderIterator.handlePythonException(PythonRunner.scala:552)\n",
      "\tat org.apache.spark.api.python.PythonRunner$$anon$3.read(PythonRunner.scala:758)\n",
      "\tat org.apache.spark.api.python.PythonRunner$$anon$3.read(PythonRunner.scala:740)\n",
      "\tat org.apache.spark.api.python.BasePythonRunner$ReaderIterator.hasNext(PythonRunner.scala:505)\n",
      "\tat org.apache.spark.InterruptibleIterator.hasNext(InterruptibleIterator.scala:37)\n",
      "\tat scala.collection.Iterator$$anon$11.hasNext(Iterator.scala:491)\n",
      "\tat scala.collection.Iterator$$anon$10.hasNext(Iterator.scala:460)\n",
      "\tat scala.collection.Iterator$$anon$10.hasNext(Iterator.scala:460)\n",
      "\tat org.apache.spark.sql.catalyst.expressions.GeneratedClass$GeneratedIteratorForCodegenStage1.processNext(Unknown Source)\n",
      "\tat org.apache.spark.sql.execution.BufferedRowIterator.hasNext(BufferedRowIterator.java:43)\n",
      "\tat org.apache.spark.sql.execution.WholeStageCodegenExec$$anon$1.hasNext(WholeStageCodegenExec.scala:760)\n",
      "\tat org.apache.spark.sql.execution.SparkPlan.$anonfun$getByteArrayRdd$1(SparkPlan.scala:364)\n",
      "\tat org.apache.spark.rdd.RDD.$anonfun$mapPartitionsInternal$2(RDD.scala:890)\n",
      "\tat org.apache.spark.rdd.RDD.$anonfun$mapPartitionsInternal$2$adapted(RDD.scala:890)\n",
      "\tat org.apache.spark.rdd.MapPartitionsRDD.compute(MapPartitionsRDD.scala:52)\n",
      "\tat org.apache.spark.rdd.RDD.computeOrReadCheckpoint(RDD.scala:365)\n",
      "\tat org.apache.spark.rdd.RDD.iterator(RDD.scala:329)\n",
      "\tat org.apache.spark.scheduler.ResultTask.runTask(ResultTask.scala:90)\n",
      "\tat org.apache.spark.scheduler.Task.run(Task.scala:136)\n",
      "\tat org.apache.spark.executor.Executor$TaskRunner.$anonfun$run$3(Executor.scala:548)\n",
      "\tat org.apache.spark.util.Utils$.tryWithSafeFinally(Utils.scala:1504)\n",
      "\tat org.apache.spark.executor.Executor$TaskRunner.run(Executor.scala:551)\n",
      "\tat java.base/java.util.concurrent.ThreadPoolExecutor.runWorker(ThreadPoolExecutor.java:1128)\n",
      "\tat java.base/java.util.concurrent.ThreadPoolExecutor$Worker.run(ThreadPoolExecutor.java:628)\n",
      "\tat java.base/java.lang.Thread.run(Thread.java:829)\n",
      "24/07/27 22:09:48 WARN TaskSetManager: Lost task 0.0 in stage 9.0 (TID 14) (192.168.1.10 executor driver): org.apache.spark.api.python.PythonException: Traceback (most recent call last):\n",
      "  File \"/home/rihab/spark-3.3.2-bin-hadoop3/python/lib/pyspark.zip/pyspark/worker.py\", line 686, in main\n",
      "    process()\n",
      "  File \"/home/rihab/spark-3.3.2-bin-hadoop3/python/lib/pyspark.zip/pyspark/worker.py\", line 678, in process\n",
      "    serializer.dump_stream(out_iter, outfile)\n",
      "  File \"/home/rihab/spark-3.3.2-bin-hadoop3/python/lib/pyspark.zip/pyspark/serializers.py\", line 273, in dump_stream\n",
      "    vs = list(itertools.islice(iterator, batch))\n",
      "  File \"/home/rihab/spark-3.3.2-bin-hadoop3/python/lib/pyspark.zip/pyspark/util.py\", line 81, in wrapper\n",
      "    return f(*args, **kwargs)\n",
      "  File \"/home/rihab/.local/lib/python3.10/site-packages/pyspark/sql/session.py\", line 910, in prepare\n",
      "    verify_func(obj)\n",
      "  File \"/home/rihab/.local/lib/python3.10/site-packages/pyspark/sql/types.py\", line 1722, in verify\n",
      "    verify_value(obj)\n",
      "  File \"/home/rihab/.local/lib/python3.10/site-packages/pyspark/sql/types.py\", line 1706, in verify_struct\n",
      "    raise TypeError(\n",
      "TypeError: StructType can not accept object '{\"total_count\": 1496, \"results\": [{\"stationcode\": \"44015\", \"name\": \"Rouget de L\\'isle - Watteau\", \"is_installed\": \"OUI\", \"capacity\": 20, \"numdocksavailable\": 4, \"numbikesavailable\": 15, \"mechanical\": 11, \"ebike\": 4, \"is_renting\": \"OUI\", \"is_returning\": \"OUI\", \"duedate\": \"2024-07-27T15:04:02+00:00\", \"coordonnees_geo\": {\"lon\": 2.3963020229163, \"lat\": 48.778192750803}, \"nom_arrondissement_communes\": \"Vitry-sur-Seine\", \"code_insee_commune\": null}]}' in type <class 'str'>\n",
      "\n",
      "\tat org.apache.spark.api.python.BasePythonRunner$ReaderIterator.handlePythonException(PythonRunner.scala:552)\n",
      "\tat org.apache.spark.api.python.PythonRunner$$anon$3.read(PythonRunner.scala:758)\n",
      "\tat org.apache.spark.api.python.PythonRunner$$anon$3.read(PythonRunner.scala:740)\n",
      "\tat org.apache.spark.api.python.BasePythonRunner$ReaderIterator.hasNext(PythonRunner.scala:505)\n",
      "\tat org.apache.spark.InterruptibleIterator.hasNext(InterruptibleIterator.scala:37)\n",
      "\tat scala.collection.Iterator$$anon$11.hasNext(Iterator.scala:491)\n",
      "\tat scala.collection.Iterator$$anon$10.hasNext(Iterator.scala:460)\n",
      "\tat scala.collection.Iterator$$anon$10.hasNext(Iterator.scala:460)\n",
      "\tat org.apache.spark.sql.catalyst.expressions.GeneratedClass$GeneratedIteratorForCodegenStage1.processNext(Unknown Source)\n",
      "\tat org.apache.spark.sql.execution.BufferedRowIterator.hasNext(BufferedRowIterator.java:43)\n",
      "\tat org.apache.spark.sql.execution.WholeStageCodegenExec$$anon$1.hasNext(WholeStageCodegenExec.scala:760)\n",
      "\tat org.apache.spark.sql.execution.SparkPlan.$anonfun$getByteArrayRdd$1(SparkPlan.scala:364)\n",
      "\tat org.apache.spark.rdd.RDD.$anonfun$mapPartitionsInternal$2(RDD.scala:890)\n",
      "\tat org.apache.spark.rdd.RDD.$anonfun$mapPartitionsInternal$2$adapted(RDD.scala:890)\n",
      "\tat org.apache.spark.rdd.MapPartitionsRDD.compute(MapPartitionsRDD.scala:52)\n",
      "\tat org.apache.spark.rdd.RDD.computeOrReadCheckpoint(RDD.scala:365)\n",
      "\tat org.apache.spark.rdd.RDD.iterator(RDD.scala:329)\n",
      "\tat org.apache.spark.scheduler.ResultTask.runTask(ResultTask.scala:90)\n",
      "\tat org.apache.spark.scheduler.Task.run(Task.scala:136)\n",
      "\tat org.apache.spark.executor.Executor$TaskRunner.$anonfun$run$3(Executor.scala:548)\n",
      "\tat org.apache.spark.util.Utils$.tryWithSafeFinally(Utils.scala:1504)\n",
      "\tat org.apache.spark.executor.Executor$TaskRunner.run(Executor.scala:551)\n",
      "\tat java.base/java.util.concurrent.ThreadPoolExecutor.runWorker(ThreadPoolExecutor.java:1128)\n",
      "\tat java.base/java.util.concurrent.ThreadPoolExecutor$Worker.run(ThreadPoolExecutor.java:628)\n",
      "\tat java.base/java.lang.Thread.run(Thread.java:829)\n",
      "\n",
      "24/07/27 22:09:48 ERROR TaskSetManager: Task 0 in stage 9.0 failed 1 times; aborting job\n"
     ]
    },
    {
     "ename": "Py4JJavaError",
     "evalue": "An error occurred while calling o234.showString.\n: org.apache.spark.SparkException: Job aborted due to stage failure: Task 0 in stage 9.0 failed 1 times, most recent failure: Lost task 0.0 in stage 9.0 (TID 14) (192.168.1.10 executor driver): org.apache.spark.api.python.PythonException: Traceback (most recent call last):\n  File \"/home/rihab/spark-3.3.2-bin-hadoop3/python/lib/pyspark.zip/pyspark/worker.py\", line 686, in main\n    process()\n  File \"/home/rihab/spark-3.3.2-bin-hadoop3/python/lib/pyspark.zip/pyspark/worker.py\", line 678, in process\n    serializer.dump_stream(out_iter, outfile)\n  File \"/home/rihab/spark-3.3.2-bin-hadoop3/python/lib/pyspark.zip/pyspark/serializers.py\", line 273, in dump_stream\n    vs = list(itertools.islice(iterator, batch))\n  File \"/home/rihab/spark-3.3.2-bin-hadoop3/python/lib/pyspark.zip/pyspark/util.py\", line 81, in wrapper\n    return f(*args, **kwargs)\n  File \"/home/rihab/.local/lib/python3.10/site-packages/pyspark/sql/session.py\", line 910, in prepare\n    verify_func(obj)\n  File \"/home/rihab/.local/lib/python3.10/site-packages/pyspark/sql/types.py\", line 1722, in verify\n    verify_value(obj)\n  File \"/home/rihab/.local/lib/python3.10/site-packages/pyspark/sql/types.py\", line 1706, in verify_struct\n    raise TypeError(\nTypeError: StructType can not accept object '{\"total_count\": 1496, \"results\": [{\"stationcode\": \"44015\", \"name\": \"Rouget de L\\'isle - Watteau\", \"is_installed\": \"OUI\", \"capacity\": 20, \"numdocksavailable\": 4, \"numbikesavailable\": 15, \"mechanical\": 11, \"ebike\": 4, \"is_renting\": \"OUI\", \"is_returning\": \"OUI\", \"duedate\": \"2024-07-27T15:04:02+00:00\", \"coordonnees_geo\": {\"lon\": 2.3963020229163, \"lat\": 48.778192750803}, \"nom_arrondissement_communes\": \"Vitry-sur-Seine\", \"code_insee_commune\": null}]}' in type <class 'str'>\n\n\tat org.apache.spark.api.python.BasePythonRunner$ReaderIterator.handlePythonException(PythonRunner.scala:552)\n\tat org.apache.spark.api.python.PythonRunner$$anon$3.read(PythonRunner.scala:758)\n\tat org.apache.spark.api.python.PythonRunner$$anon$3.read(PythonRunner.scala:740)\n\tat org.apache.spark.api.python.BasePythonRunner$ReaderIterator.hasNext(PythonRunner.scala:505)\n\tat org.apache.spark.InterruptibleIterator.hasNext(InterruptibleIterator.scala:37)\n\tat scala.collection.Iterator$$anon$11.hasNext(Iterator.scala:491)\n\tat scala.collection.Iterator$$anon$10.hasNext(Iterator.scala:460)\n\tat scala.collection.Iterator$$anon$10.hasNext(Iterator.scala:460)\n\tat org.apache.spark.sql.catalyst.expressions.GeneratedClass$GeneratedIteratorForCodegenStage1.processNext(Unknown Source)\n\tat org.apache.spark.sql.execution.BufferedRowIterator.hasNext(BufferedRowIterator.java:43)\n\tat org.apache.spark.sql.execution.WholeStageCodegenExec$$anon$1.hasNext(WholeStageCodegenExec.scala:760)\n\tat org.apache.spark.sql.execution.SparkPlan.$anonfun$getByteArrayRdd$1(SparkPlan.scala:364)\n\tat org.apache.spark.rdd.RDD.$anonfun$mapPartitionsInternal$2(RDD.scala:890)\n\tat org.apache.spark.rdd.RDD.$anonfun$mapPartitionsInternal$2$adapted(RDD.scala:890)\n\tat org.apache.spark.rdd.MapPartitionsRDD.compute(MapPartitionsRDD.scala:52)\n\tat org.apache.spark.rdd.RDD.computeOrReadCheckpoint(RDD.scala:365)\n\tat org.apache.spark.rdd.RDD.iterator(RDD.scala:329)\n\tat org.apache.spark.scheduler.ResultTask.runTask(ResultTask.scala:90)\n\tat org.apache.spark.scheduler.Task.run(Task.scala:136)\n\tat org.apache.spark.executor.Executor$TaskRunner.$anonfun$run$3(Executor.scala:548)\n\tat org.apache.spark.util.Utils$.tryWithSafeFinally(Utils.scala:1504)\n\tat org.apache.spark.executor.Executor$TaskRunner.run(Executor.scala:551)\n\tat java.base/java.util.concurrent.ThreadPoolExecutor.runWorker(ThreadPoolExecutor.java:1128)\n\tat java.base/java.util.concurrent.ThreadPoolExecutor$Worker.run(ThreadPoolExecutor.java:628)\n\tat java.base/java.lang.Thread.run(Thread.java:829)\n\nDriver stacktrace:\n\tat org.apache.spark.scheduler.DAGScheduler.failJobAndIndependentStages(DAGScheduler.scala:2672)\n\tat org.apache.spark.scheduler.DAGScheduler.$anonfun$abortStage$2(DAGScheduler.scala:2608)\n\tat org.apache.spark.scheduler.DAGScheduler.$anonfun$abortStage$2$adapted(DAGScheduler.scala:2607)\n\tat scala.collection.mutable.ResizableArray.foreach(ResizableArray.scala:62)\n\tat scala.collection.mutable.ResizableArray.foreach$(ResizableArray.scala:55)\n\tat scala.collection.mutable.ArrayBuffer.foreach(ArrayBuffer.scala:49)\n\tat org.apache.spark.scheduler.DAGScheduler.abortStage(DAGScheduler.scala:2607)\n\tat org.apache.spark.scheduler.DAGScheduler.$anonfun$handleTaskSetFailed$1(DAGScheduler.scala:1182)\n\tat org.apache.spark.scheduler.DAGScheduler.$anonfun$handleTaskSetFailed$1$adapted(DAGScheduler.scala:1182)\n\tat scala.Option.foreach(Option.scala:407)\n\tat org.apache.spark.scheduler.DAGScheduler.handleTaskSetFailed(DAGScheduler.scala:1182)\n\tat org.apache.spark.scheduler.DAGSchedulerEventProcessLoop.doOnReceive(DAGScheduler.scala:2860)\n\tat org.apache.spark.scheduler.DAGSchedulerEventProcessLoop.onReceive(DAGScheduler.scala:2802)\n\tat org.apache.spark.scheduler.DAGSchedulerEventProcessLoop.onReceive(DAGScheduler.scala:2791)\n\tat org.apache.spark.util.EventLoop$$anon$1.run(EventLoop.scala:49)\n\tat org.apache.spark.scheduler.DAGScheduler.runJob(DAGScheduler.scala:952)\n\tat org.apache.spark.SparkContext.runJob(SparkContext.scala:2238)\n\tat org.apache.spark.SparkContext.runJob(SparkContext.scala:2259)\n\tat org.apache.spark.SparkContext.runJob(SparkContext.scala:2278)\n\tat org.apache.spark.sql.execution.SparkPlan.executeTake(SparkPlan.scala:506)\n\tat org.apache.spark.sql.execution.SparkPlan.executeTake(SparkPlan.scala:459)\n\tat org.apache.spark.sql.execution.CollectLimitExec.executeCollect(limit.scala:48)\n\tat org.apache.spark.sql.Dataset.collectFromPlan(Dataset.scala:3868)\n\tat org.apache.spark.sql.Dataset.$anonfun$head$1(Dataset.scala:2863)\n\tat org.apache.spark.sql.Dataset.$anonfun$withAction$2(Dataset.scala:3858)\n\tat org.apache.spark.sql.execution.QueryExecution$.withInternalError(QueryExecution.scala:510)\n\tat org.apache.spark.sql.Dataset.$anonfun$withAction$1(Dataset.scala:3856)\n\tat org.apache.spark.sql.execution.SQLExecution$.$anonfun$withNewExecutionId$6(SQLExecution.scala:109)\n\tat org.apache.spark.sql.execution.SQLExecution$.withSQLConfPropagated(SQLExecution.scala:169)\n\tat org.apache.spark.sql.execution.SQLExecution$.$anonfun$withNewExecutionId$1(SQLExecution.scala:95)\n\tat org.apache.spark.sql.SparkSession.withActive(SparkSession.scala:779)\n\tat org.apache.spark.sql.execution.SQLExecution$.withNewExecutionId(SQLExecution.scala:64)\n\tat org.apache.spark.sql.Dataset.withAction(Dataset.scala:3856)\n\tat org.apache.spark.sql.Dataset.head(Dataset.scala:2863)\n\tat org.apache.spark.sql.Dataset.take(Dataset.scala:3084)\n\tat org.apache.spark.sql.Dataset.getRows(Dataset.scala:288)\n\tat org.apache.spark.sql.Dataset.showString(Dataset.scala:327)\n\tat java.base/jdk.internal.reflect.NativeMethodAccessorImpl.invoke0(Native Method)\n\tat java.base/jdk.internal.reflect.NativeMethodAccessorImpl.invoke(NativeMethodAccessorImpl.java:62)\n\tat java.base/jdk.internal.reflect.DelegatingMethodAccessorImpl.invoke(DelegatingMethodAccessorImpl.java:43)\n\tat java.base/java.lang.reflect.Method.invoke(Method.java:566)\n\tat py4j.reflection.MethodInvoker.invoke(MethodInvoker.java:244)\n\tat py4j.reflection.ReflectionEngine.invoke(ReflectionEngine.java:357)\n\tat py4j.Gateway.invoke(Gateway.java:282)\n\tat py4j.commands.AbstractCommand.invokeMethod(AbstractCommand.java:132)\n\tat py4j.commands.CallCommand.execute(CallCommand.java:79)\n\tat py4j.ClientServerConnection.waitForCommands(ClientServerConnection.java:182)\n\tat py4j.ClientServerConnection.run(ClientServerConnection.java:106)\n\tat java.base/java.lang.Thread.run(Thread.java:829)\nCaused by: org.apache.spark.api.python.PythonException: Traceback (most recent call last):\n  File \"/home/rihab/spark-3.3.2-bin-hadoop3/python/lib/pyspark.zip/pyspark/worker.py\", line 686, in main\n    process()\n  File \"/home/rihab/spark-3.3.2-bin-hadoop3/python/lib/pyspark.zip/pyspark/worker.py\", line 678, in process\n    serializer.dump_stream(out_iter, outfile)\n  File \"/home/rihab/spark-3.3.2-bin-hadoop3/python/lib/pyspark.zip/pyspark/serializers.py\", line 273, in dump_stream\n    vs = list(itertools.islice(iterator, batch))\n  File \"/home/rihab/spark-3.3.2-bin-hadoop3/python/lib/pyspark.zip/pyspark/util.py\", line 81, in wrapper\n    return f(*args, **kwargs)\n  File \"/home/rihab/.local/lib/python3.10/site-packages/pyspark/sql/session.py\", line 910, in prepare\n    verify_func(obj)\n  File \"/home/rihab/.local/lib/python3.10/site-packages/pyspark/sql/types.py\", line 1722, in verify\n    verify_value(obj)\n  File \"/home/rihab/.local/lib/python3.10/site-packages/pyspark/sql/types.py\", line 1706, in verify_struct\n    raise TypeError(\nTypeError: StructType can not accept object '{\"total_count\": 1496, \"results\": [{\"stationcode\": \"44015\", \"name\": \"Rouget de L\\'isle - Watteau\", \"is_installed\": \"OUI\", \"capacity\": 20, \"numdocksavailable\": 4, \"numbikesavailable\": 15, \"mechanical\": 11, \"ebike\": 4, \"is_renting\": \"OUI\", \"is_returning\": \"OUI\", \"duedate\": \"2024-07-27T15:04:02+00:00\", \"coordonnees_geo\": {\"lon\": 2.3963020229163, \"lat\": 48.778192750803}, \"nom_arrondissement_communes\": \"Vitry-sur-Seine\", \"code_insee_commune\": null}]}' in type <class 'str'>\n\n\tat org.apache.spark.api.python.BasePythonRunner$ReaderIterator.handlePythonException(PythonRunner.scala:552)\n\tat org.apache.spark.api.python.PythonRunner$$anon$3.read(PythonRunner.scala:758)\n\tat org.apache.spark.api.python.PythonRunner$$anon$3.read(PythonRunner.scala:740)\n\tat org.apache.spark.api.python.BasePythonRunner$ReaderIterator.hasNext(PythonRunner.scala:505)\n\tat org.apache.spark.InterruptibleIterator.hasNext(InterruptibleIterator.scala:37)\n\tat scala.collection.Iterator$$anon$11.hasNext(Iterator.scala:491)\n\tat scala.collection.Iterator$$anon$10.hasNext(Iterator.scala:460)\n\tat scala.collection.Iterator$$anon$10.hasNext(Iterator.scala:460)\n\tat org.apache.spark.sql.catalyst.expressions.GeneratedClass$GeneratedIteratorForCodegenStage1.processNext(Unknown Source)\n\tat org.apache.spark.sql.execution.BufferedRowIterator.hasNext(BufferedRowIterator.java:43)\n\tat org.apache.spark.sql.execution.WholeStageCodegenExec$$anon$1.hasNext(WholeStageCodegenExec.scala:760)\n\tat org.apache.spark.sql.execution.SparkPlan.$anonfun$getByteArrayRdd$1(SparkPlan.scala:364)\n\tat org.apache.spark.rdd.RDD.$anonfun$mapPartitionsInternal$2(RDD.scala:890)\n\tat org.apache.spark.rdd.RDD.$anonfun$mapPartitionsInternal$2$adapted(RDD.scala:890)\n\tat org.apache.spark.rdd.MapPartitionsRDD.compute(MapPartitionsRDD.scala:52)\n\tat org.apache.spark.rdd.RDD.computeOrReadCheckpoint(RDD.scala:365)\n\tat org.apache.spark.rdd.RDD.iterator(RDD.scala:329)\n\tat org.apache.spark.scheduler.ResultTask.runTask(ResultTask.scala:90)\n\tat org.apache.spark.scheduler.Task.run(Task.scala:136)\n\tat org.apache.spark.executor.Executor$TaskRunner.$anonfun$run$3(Executor.scala:548)\n\tat org.apache.spark.util.Utils$.tryWithSafeFinally(Utils.scala:1504)\n\tat org.apache.spark.executor.Executor$TaskRunner.run(Executor.scala:551)\n\tat java.base/java.util.concurrent.ThreadPoolExecutor.runWorker(ThreadPoolExecutor.java:1128)\n\tat java.base/java.util.concurrent.ThreadPoolExecutor$Worker.run(ThreadPoolExecutor.java:628)\n\t... 1 more\n",
     "output_type": "error",
     "traceback": [
      "\u001b[0;31m---------------------------------------------------------------------------\u001b[0m",
      "\u001b[0;31mPy4JJavaError\u001b[0m                             Traceback (most recent call last)",
      "Cell \u001b[0;32mIn[37], line 1\u001b[0m\n\u001b[0;32m----> 1\u001b[0m \u001b[43mrdds\u001b[49m\u001b[38;5;241;43m.\u001b[39;49m\u001b[43mtoDF\u001b[49m\u001b[43m(\u001b[49m\u001b[43mschema\u001b[49m\u001b[38;5;241;43m=\u001b[39;49m\u001b[43mschema\u001b[49m\u001b[43m)\u001b[49m\u001b[38;5;241;43m.\u001b[39;49m\u001b[43mshow\u001b[49m\u001b[43m(\u001b[49m\u001b[43m)\u001b[49m\n",
      "File \u001b[0;32m~/.local/lib/python3.10/site-packages/pyspark/sql/dataframe.py:606\u001b[0m, in \u001b[0;36mDataFrame.show\u001b[0;34m(self, n, truncate, vertical)\u001b[0m\n\u001b[1;32m    603\u001b[0m     \u001b[38;5;28;01mraise\u001b[39;00m \u001b[38;5;167;01mTypeError\u001b[39;00m(\u001b[38;5;124m\"\u001b[39m\u001b[38;5;124mParameter \u001b[39m\u001b[38;5;124m'\u001b[39m\u001b[38;5;124mvertical\u001b[39m\u001b[38;5;124m'\u001b[39m\u001b[38;5;124m must be a bool\u001b[39m\u001b[38;5;124m\"\u001b[39m)\n\u001b[1;32m    605\u001b[0m \u001b[38;5;28;01mif\u001b[39;00m \u001b[38;5;28misinstance\u001b[39m(truncate, \u001b[38;5;28mbool\u001b[39m) \u001b[38;5;129;01mand\u001b[39;00m truncate:\n\u001b[0;32m--> 606\u001b[0m     \u001b[38;5;28mprint\u001b[39m(\u001b[38;5;28;43mself\u001b[39;49m\u001b[38;5;241;43m.\u001b[39;49m\u001b[43m_jdf\u001b[49m\u001b[38;5;241;43m.\u001b[39;49m\u001b[43mshowString\u001b[49m\u001b[43m(\u001b[49m\u001b[43mn\u001b[49m\u001b[43m,\u001b[49m\u001b[43m \u001b[49m\u001b[38;5;241;43m20\u001b[39;49m\u001b[43m,\u001b[49m\u001b[43m \u001b[49m\u001b[43mvertical\u001b[49m\u001b[43m)\u001b[49m)\n\u001b[1;32m    607\u001b[0m \u001b[38;5;28;01melse\u001b[39;00m:\n\u001b[1;32m    608\u001b[0m     \u001b[38;5;28;01mtry\u001b[39;00m:\n",
      "File \u001b[0;32m~/.local/lib/python3.10/site-packages/py4j/java_gateway.py:1321\u001b[0m, in \u001b[0;36mJavaMember.__call__\u001b[0;34m(self, *args)\u001b[0m\n\u001b[1;32m   1315\u001b[0m command \u001b[38;5;241m=\u001b[39m proto\u001b[38;5;241m.\u001b[39mCALL_COMMAND_NAME \u001b[38;5;241m+\u001b[39m\\\n\u001b[1;32m   1316\u001b[0m     \u001b[38;5;28mself\u001b[39m\u001b[38;5;241m.\u001b[39mcommand_header \u001b[38;5;241m+\u001b[39m\\\n\u001b[1;32m   1317\u001b[0m     args_command \u001b[38;5;241m+\u001b[39m\\\n\u001b[1;32m   1318\u001b[0m     proto\u001b[38;5;241m.\u001b[39mEND_COMMAND_PART\n\u001b[1;32m   1320\u001b[0m answer \u001b[38;5;241m=\u001b[39m \u001b[38;5;28mself\u001b[39m\u001b[38;5;241m.\u001b[39mgateway_client\u001b[38;5;241m.\u001b[39msend_command(command)\n\u001b[0;32m-> 1321\u001b[0m return_value \u001b[38;5;241m=\u001b[39m \u001b[43mget_return_value\u001b[49m\u001b[43m(\u001b[49m\n\u001b[1;32m   1322\u001b[0m \u001b[43m    \u001b[49m\u001b[43manswer\u001b[49m\u001b[43m,\u001b[49m\u001b[43m \u001b[49m\u001b[38;5;28;43mself\u001b[39;49m\u001b[38;5;241;43m.\u001b[39;49m\u001b[43mgateway_client\u001b[49m\u001b[43m,\u001b[49m\u001b[43m \u001b[49m\u001b[38;5;28;43mself\u001b[39;49m\u001b[38;5;241;43m.\u001b[39;49m\u001b[43mtarget_id\u001b[49m\u001b[43m,\u001b[49m\u001b[43m \u001b[49m\u001b[38;5;28;43mself\u001b[39;49m\u001b[38;5;241;43m.\u001b[39;49m\u001b[43mname\u001b[49m\u001b[43m)\u001b[49m\n\u001b[1;32m   1324\u001b[0m \u001b[38;5;28;01mfor\u001b[39;00m temp_arg \u001b[38;5;129;01min\u001b[39;00m temp_args:\n\u001b[1;32m   1325\u001b[0m     temp_arg\u001b[38;5;241m.\u001b[39m_detach()\n",
      "File \u001b[0;32m~/.local/lib/python3.10/site-packages/pyspark/sql/utils.py:190\u001b[0m, in \u001b[0;36mcapture_sql_exception.<locals>.deco\u001b[0;34m(*a, **kw)\u001b[0m\n\u001b[1;32m    188\u001b[0m \u001b[38;5;28;01mdef\u001b[39;00m \u001b[38;5;21mdeco\u001b[39m(\u001b[38;5;241m*\u001b[39ma: Any, \u001b[38;5;241m*\u001b[39m\u001b[38;5;241m*\u001b[39mkw: Any) \u001b[38;5;241m-\u001b[39m\u001b[38;5;241m>\u001b[39m Any:\n\u001b[1;32m    189\u001b[0m     \u001b[38;5;28;01mtry\u001b[39;00m:\n\u001b[0;32m--> 190\u001b[0m         \u001b[38;5;28;01mreturn\u001b[39;00m \u001b[43mf\u001b[49m\u001b[43m(\u001b[49m\u001b[38;5;241;43m*\u001b[39;49m\u001b[43ma\u001b[49m\u001b[43m,\u001b[49m\u001b[43m \u001b[49m\u001b[38;5;241;43m*\u001b[39;49m\u001b[38;5;241;43m*\u001b[39;49m\u001b[43mkw\u001b[49m\u001b[43m)\u001b[49m\n\u001b[1;32m    191\u001b[0m     \u001b[38;5;28;01mexcept\u001b[39;00m Py4JJavaError \u001b[38;5;28;01mas\u001b[39;00m e:\n\u001b[1;32m    192\u001b[0m         converted \u001b[38;5;241m=\u001b[39m convert_exception(e\u001b[38;5;241m.\u001b[39mjava_exception)\n",
      "File \u001b[0;32m~/.local/lib/python3.10/site-packages/py4j/protocol.py:326\u001b[0m, in \u001b[0;36mget_return_value\u001b[0;34m(answer, gateway_client, target_id, name)\u001b[0m\n\u001b[1;32m    324\u001b[0m value \u001b[38;5;241m=\u001b[39m OUTPUT_CONVERTER[\u001b[38;5;28mtype\u001b[39m](answer[\u001b[38;5;241m2\u001b[39m:], gateway_client)\n\u001b[1;32m    325\u001b[0m \u001b[38;5;28;01mif\u001b[39;00m answer[\u001b[38;5;241m1\u001b[39m] \u001b[38;5;241m==\u001b[39m REFERENCE_TYPE:\n\u001b[0;32m--> 326\u001b[0m     \u001b[38;5;28;01mraise\u001b[39;00m Py4JJavaError(\n\u001b[1;32m    327\u001b[0m         \u001b[38;5;124m\"\u001b[39m\u001b[38;5;124mAn error occurred while calling \u001b[39m\u001b[38;5;132;01m{0}\u001b[39;00m\u001b[38;5;132;01m{1}\u001b[39;00m\u001b[38;5;132;01m{2}\u001b[39;00m\u001b[38;5;124m.\u001b[39m\u001b[38;5;130;01m\\n\u001b[39;00m\u001b[38;5;124m\"\u001b[39m\u001b[38;5;241m.\u001b[39m\n\u001b[1;32m    328\u001b[0m         \u001b[38;5;28mformat\u001b[39m(target_id, \u001b[38;5;124m\"\u001b[39m\u001b[38;5;124m.\u001b[39m\u001b[38;5;124m\"\u001b[39m, name), value)\n\u001b[1;32m    329\u001b[0m \u001b[38;5;28;01melse\u001b[39;00m:\n\u001b[1;32m    330\u001b[0m     \u001b[38;5;28;01mraise\u001b[39;00m Py4JError(\n\u001b[1;32m    331\u001b[0m         \u001b[38;5;124m\"\u001b[39m\u001b[38;5;124mAn error occurred while calling \u001b[39m\u001b[38;5;132;01m{0}\u001b[39;00m\u001b[38;5;132;01m{1}\u001b[39;00m\u001b[38;5;132;01m{2}\u001b[39;00m\u001b[38;5;124m. Trace:\u001b[39m\u001b[38;5;130;01m\\n\u001b[39;00m\u001b[38;5;132;01m{3}\u001b[39;00m\u001b[38;5;130;01m\\n\u001b[39;00m\u001b[38;5;124m\"\u001b[39m\u001b[38;5;241m.\u001b[39m\n\u001b[1;32m    332\u001b[0m         \u001b[38;5;28mformat\u001b[39m(target_id, \u001b[38;5;124m\"\u001b[39m\u001b[38;5;124m.\u001b[39m\u001b[38;5;124m\"\u001b[39m, name, value))\n",
      "\u001b[0;31mPy4JJavaError\u001b[0m: An error occurred while calling o234.showString.\n: org.apache.spark.SparkException: Job aborted due to stage failure: Task 0 in stage 9.0 failed 1 times, most recent failure: Lost task 0.0 in stage 9.0 (TID 14) (192.168.1.10 executor driver): org.apache.spark.api.python.PythonException: Traceback (most recent call last):\n  File \"/home/rihab/spark-3.3.2-bin-hadoop3/python/lib/pyspark.zip/pyspark/worker.py\", line 686, in main\n    process()\n  File \"/home/rihab/spark-3.3.2-bin-hadoop3/python/lib/pyspark.zip/pyspark/worker.py\", line 678, in process\n    serializer.dump_stream(out_iter, outfile)\n  File \"/home/rihab/spark-3.3.2-bin-hadoop3/python/lib/pyspark.zip/pyspark/serializers.py\", line 273, in dump_stream\n    vs = list(itertools.islice(iterator, batch))\n  File \"/home/rihab/spark-3.3.2-bin-hadoop3/python/lib/pyspark.zip/pyspark/util.py\", line 81, in wrapper\n    return f(*args, **kwargs)\n  File \"/home/rihab/.local/lib/python3.10/site-packages/pyspark/sql/session.py\", line 910, in prepare\n    verify_func(obj)\n  File \"/home/rihab/.local/lib/python3.10/site-packages/pyspark/sql/types.py\", line 1722, in verify\n    verify_value(obj)\n  File \"/home/rihab/.local/lib/python3.10/site-packages/pyspark/sql/types.py\", line 1706, in verify_struct\n    raise TypeError(\nTypeError: StructType can not accept object '{\"total_count\": 1496, \"results\": [{\"stationcode\": \"44015\", \"name\": \"Rouget de L\\'isle - Watteau\", \"is_installed\": \"OUI\", \"capacity\": 20, \"numdocksavailable\": 4, \"numbikesavailable\": 15, \"mechanical\": 11, \"ebike\": 4, \"is_renting\": \"OUI\", \"is_returning\": \"OUI\", \"duedate\": \"2024-07-27T15:04:02+00:00\", \"coordonnees_geo\": {\"lon\": 2.3963020229163, \"lat\": 48.778192750803}, \"nom_arrondissement_communes\": \"Vitry-sur-Seine\", \"code_insee_commune\": null}]}' in type <class 'str'>\n\n\tat org.apache.spark.api.python.BasePythonRunner$ReaderIterator.handlePythonException(PythonRunner.scala:552)\n\tat org.apache.spark.api.python.PythonRunner$$anon$3.read(PythonRunner.scala:758)\n\tat org.apache.spark.api.python.PythonRunner$$anon$3.read(PythonRunner.scala:740)\n\tat org.apache.spark.api.python.BasePythonRunner$ReaderIterator.hasNext(PythonRunner.scala:505)\n\tat org.apache.spark.InterruptibleIterator.hasNext(InterruptibleIterator.scala:37)\n\tat scala.collection.Iterator$$anon$11.hasNext(Iterator.scala:491)\n\tat scala.collection.Iterator$$anon$10.hasNext(Iterator.scala:460)\n\tat scala.collection.Iterator$$anon$10.hasNext(Iterator.scala:460)\n\tat org.apache.spark.sql.catalyst.expressions.GeneratedClass$GeneratedIteratorForCodegenStage1.processNext(Unknown Source)\n\tat org.apache.spark.sql.execution.BufferedRowIterator.hasNext(BufferedRowIterator.java:43)\n\tat org.apache.spark.sql.execution.WholeStageCodegenExec$$anon$1.hasNext(WholeStageCodegenExec.scala:760)\n\tat org.apache.spark.sql.execution.SparkPlan.$anonfun$getByteArrayRdd$1(SparkPlan.scala:364)\n\tat org.apache.spark.rdd.RDD.$anonfun$mapPartitionsInternal$2(RDD.scala:890)\n\tat org.apache.spark.rdd.RDD.$anonfun$mapPartitionsInternal$2$adapted(RDD.scala:890)\n\tat org.apache.spark.rdd.MapPartitionsRDD.compute(MapPartitionsRDD.scala:52)\n\tat org.apache.spark.rdd.RDD.computeOrReadCheckpoint(RDD.scala:365)\n\tat org.apache.spark.rdd.RDD.iterator(RDD.scala:329)\n\tat org.apache.spark.scheduler.ResultTask.runTask(ResultTask.scala:90)\n\tat org.apache.spark.scheduler.Task.run(Task.scala:136)\n\tat org.apache.spark.executor.Executor$TaskRunner.$anonfun$run$3(Executor.scala:548)\n\tat org.apache.spark.util.Utils$.tryWithSafeFinally(Utils.scala:1504)\n\tat org.apache.spark.executor.Executor$TaskRunner.run(Executor.scala:551)\n\tat java.base/java.util.concurrent.ThreadPoolExecutor.runWorker(ThreadPoolExecutor.java:1128)\n\tat java.base/java.util.concurrent.ThreadPoolExecutor$Worker.run(ThreadPoolExecutor.java:628)\n\tat java.base/java.lang.Thread.run(Thread.java:829)\n\nDriver stacktrace:\n\tat org.apache.spark.scheduler.DAGScheduler.failJobAndIndependentStages(DAGScheduler.scala:2672)\n\tat org.apache.spark.scheduler.DAGScheduler.$anonfun$abortStage$2(DAGScheduler.scala:2608)\n\tat org.apache.spark.scheduler.DAGScheduler.$anonfun$abortStage$2$adapted(DAGScheduler.scala:2607)\n\tat scala.collection.mutable.ResizableArray.foreach(ResizableArray.scala:62)\n\tat scala.collection.mutable.ResizableArray.foreach$(ResizableArray.scala:55)\n\tat scala.collection.mutable.ArrayBuffer.foreach(ArrayBuffer.scala:49)\n\tat org.apache.spark.scheduler.DAGScheduler.abortStage(DAGScheduler.scala:2607)\n\tat org.apache.spark.scheduler.DAGScheduler.$anonfun$handleTaskSetFailed$1(DAGScheduler.scala:1182)\n\tat org.apache.spark.scheduler.DAGScheduler.$anonfun$handleTaskSetFailed$1$adapted(DAGScheduler.scala:1182)\n\tat scala.Option.foreach(Option.scala:407)\n\tat org.apache.spark.scheduler.DAGScheduler.handleTaskSetFailed(DAGScheduler.scala:1182)\n\tat org.apache.spark.scheduler.DAGSchedulerEventProcessLoop.doOnReceive(DAGScheduler.scala:2860)\n\tat org.apache.spark.scheduler.DAGSchedulerEventProcessLoop.onReceive(DAGScheduler.scala:2802)\n\tat org.apache.spark.scheduler.DAGSchedulerEventProcessLoop.onReceive(DAGScheduler.scala:2791)\n\tat org.apache.spark.util.EventLoop$$anon$1.run(EventLoop.scala:49)\n\tat org.apache.spark.scheduler.DAGScheduler.runJob(DAGScheduler.scala:952)\n\tat org.apache.spark.SparkContext.runJob(SparkContext.scala:2238)\n\tat org.apache.spark.SparkContext.runJob(SparkContext.scala:2259)\n\tat org.apache.spark.SparkContext.runJob(SparkContext.scala:2278)\n\tat org.apache.spark.sql.execution.SparkPlan.executeTake(SparkPlan.scala:506)\n\tat org.apache.spark.sql.execution.SparkPlan.executeTake(SparkPlan.scala:459)\n\tat org.apache.spark.sql.execution.CollectLimitExec.executeCollect(limit.scala:48)\n\tat org.apache.spark.sql.Dataset.collectFromPlan(Dataset.scala:3868)\n\tat org.apache.spark.sql.Dataset.$anonfun$head$1(Dataset.scala:2863)\n\tat org.apache.spark.sql.Dataset.$anonfun$withAction$2(Dataset.scala:3858)\n\tat org.apache.spark.sql.execution.QueryExecution$.withInternalError(QueryExecution.scala:510)\n\tat org.apache.spark.sql.Dataset.$anonfun$withAction$1(Dataset.scala:3856)\n\tat org.apache.spark.sql.execution.SQLExecution$.$anonfun$withNewExecutionId$6(SQLExecution.scala:109)\n\tat org.apache.spark.sql.execution.SQLExecution$.withSQLConfPropagated(SQLExecution.scala:169)\n\tat org.apache.spark.sql.execution.SQLExecution$.$anonfun$withNewExecutionId$1(SQLExecution.scala:95)\n\tat org.apache.spark.sql.SparkSession.withActive(SparkSession.scala:779)\n\tat org.apache.spark.sql.execution.SQLExecution$.withNewExecutionId(SQLExecution.scala:64)\n\tat org.apache.spark.sql.Dataset.withAction(Dataset.scala:3856)\n\tat org.apache.spark.sql.Dataset.head(Dataset.scala:2863)\n\tat org.apache.spark.sql.Dataset.take(Dataset.scala:3084)\n\tat org.apache.spark.sql.Dataset.getRows(Dataset.scala:288)\n\tat org.apache.spark.sql.Dataset.showString(Dataset.scala:327)\n\tat java.base/jdk.internal.reflect.NativeMethodAccessorImpl.invoke0(Native Method)\n\tat java.base/jdk.internal.reflect.NativeMethodAccessorImpl.invoke(NativeMethodAccessorImpl.java:62)\n\tat java.base/jdk.internal.reflect.DelegatingMethodAccessorImpl.invoke(DelegatingMethodAccessorImpl.java:43)\n\tat java.base/java.lang.reflect.Method.invoke(Method.java:566)\n\tat py4j.reflection.MethodInvoker.invoke(MethodInvoker.java:244)\n\tat py4j.reflection.ReflectionEngine.invoke(ReflectionEngine.java:357)\n\tat py4j.Gateway.invoke(Gateway.java:282)\n\tat py4j.commands.AbstractCommand.invokeMethod(AbstractCommand.java:132)\n\tat py4j.commands.CallCommand.execute(CallCommand.java:79)\n\tat py4j.ClientServerConnection.waitForCommands(ClientServerConnection.java:182)\n\tat py4j.ClientServerConnection.run(ClientServerConnection.java:106)\n\tat java.base/java.lang.Thread.run(Thread.java:829)\nCaused by: org.apache.spark.api.python.PythonException: Traceback (most recent call last):\n  File \"/home/rihab/spark-3.3.2-bin-hadoop3/python/lib/pyspark.zip/pyspark/worker.py\", line 686, in main\n    process()\n  File \"/home/rihab/spark-3.3.2-bin-hadoop3/python/lib/pyspark.zip/pyspark/worker.py\", line 678, in process\n    serializer.dump_stream(out_iter, outfile)\n  File \"/home/rihab/spark-3.3.2-bin-hadoop3/python/lib/pyspark.zip/pyspark/serializers.py\", line 273, in dump_stream\n    vs = list(itertools.islice(iterator, batch))\n  File \"/home/rihab/spark-3.3.2-bin-hadoop3/python/lib/pyspark.zip/pyspark/util.py\", line 81, in wrapper\n    return f(*args, **kwargs)\n  File \"/home/rihab/.local/lib/python3.10/site-packages/pyspark/sql/session.py\", line 910, in prepare\n    verify_func(obj)\n  File \"/home/rihab/.local/lib/python3.10/site-packages/pyspark/sql/types.py\", line 1722, in verify\n    verify_value(obj)\n  File \"/home/rihab/.local/lib/python3.10/site-packages/pyspark/sql/types.py\", line 1706, in verify_struct\n    raise TypeError(\nTypeError: StructType can not accept object '{\"total_count\": 1496, \"results\": [{\"stationcode\": \"44015\", \"name\": \"Rouget de L\\'isle - Watteau\", \"is_installed\": \"OUI\", \"capacity\": 20, \"numdocksavailable\": 4, \"numbikesavailable\": 15, \"mechanical\": 11, \"ebike\": 4, \"is_renting\": \"OUI\", \"is_returning\": \"OUI\", \"duedate\": \"2024-07-27T15:04:02+00:00\", \"coordonnees_geo\": {\"lon\": 2.3963020229163, \"lat\": 48.778192750803}, \"nom_arrondissement_communes\": \"Vitry-sur-Seine\", \"code_insee_commune\": null}]}' in type <class 'str'>\n\n\tat org.apache.spark.api.python.BasePythonRunner$ReaderIterator.handlePythonException(PythonRunner.scala:552)\n\tat org.apache.spark.api.python.PythonRunner$$anon$3.read(PythonRunner.scala:758)\n\tat org.apache.spark.api.python.PythonRunner$$anon$3.read(PythonRunner.scala:740)\n\tat org.apache.spark.api.python.BasePythonRunner$ReaderIterator.hasNext(PythonRunner.scala:505)\n\tat org.apache.spark.InterruptibleIterator.hasNext(InterruptibleIterator.scala:37)\n\tat scala.collection.Iterator$$anon$11.hasNext(Iterator.scala:491)\n\tat scala.collection.Iterator$$anon$10.hasNext(Iterator.scala:460)\n\tat scala.collection.Iterator$$anon$10.hasNext(Iterator.scala:460)\n\tat org.apache.spark.sql.catalyst.expressions.GeneratedClass$GeneratedIteratorForCodegenStage1.processNext(Unknown Source)\n\tat org.apache.spark.sql.execution.BufferedRowIterator.hasNext(BufferedRowIterator.java:43)\n\tat org.apache.spark.sql.execution.WholeStageCodegenExec$$anon$1.hasNext(WholeStageCodegenExec.scala:760)\n\tat org.apache.spark.sql.execution.SparkPlan.$anonfun$getByteArrayRdd$1(SparkPlan.scala:364)\n\tat org.apache.spark.rdd.RDD.$anonfun$mapPartitionsInternal$2(RDD.scala:890)\n\tat org.apache.spark.rdd.RDD.$anonfun$mapPartitionsInternal$2$adapted(RDD.scala:890)\n\tat org.apache.spark.rdd.MapPartitionsRDD.compute(MapPartitionsRDD.scala:52)\n\tat org.apache.spark.rdd.RDD.computeOrReadCheckpoint(RDD.scala:365)\n\tat org.apache.spark.rdd.RDD.iterator(RDD.scala:329)\n\tat org.apache.spark.scheduler.ResultTask.runTask(ResultTask.scala:90)\n\tat org.apache.spark.scheduler.Task.run(Task.scala:136)\n\tat org.apache.spark.executor.Executor$TaskRunner.$anonfun$run$3(Executor.scala:548)\n\tat org.apache.spark.util.Utils$.tryWithSafeFinally(Utils.scala:1504)\n\tat org.apache.spark.executor.Executor$TaskRunner.run(Executor.scala:551)\n\tat java.base/java.util.concurrent.ThreadPoolExecutor.runWorker(ThreadPoolExecutor.java:1128)\n\tat java.base/java.util.concurrent.ThreadPoolExecutor$Worker.run(ThreadPoolExecutor.java:628)\n\t... 1 more\n"
     ]
    }
   ],
   "source": [
    "rdds.toDF(schema=schema).show()"
   ]
  },
  {
   "cell_type": "code",
   "execution_count": 26,
   "id": "ff0d2161-4108-4d27-b4bf-11fd2078a38f",
   "metadata": {},
   "outputs": [],
   "source": [
    "import pandas as pd"
   ]
  },
  {
   "cell_type": "code",
   "execution_count": 41,
   "id": "f416f258-6ff2-42d0-b02c-c0a88e9cd360",
   "metadata": {},
   "outputs": [
    {
     "data": {
      "text/html": [
       "<div>\n",
       "<style scoped>\n",
       "    .dataframe tbody tr th:only-of-type {\n",
       "        vertical-align: middle;\n",
       "    }\n",
       "\n",
       "    .dataframe tbody tr th {\n",
       "        vertical-align: top;\n",
       "    }\n",
       "\n",
       "    .dataframe thead th {\n",
       "        text-align: right;\n",
       "    }\n",
       "</style>\n",
       "<table border=\"1\" class=\"dataframe\">\n",
       "  <thead>\n",
       "    <tr style=\"text-align: right;\">\n",
       "      <th></th>\n",
       "      <th>0</th>\n",
       "      <th>1</th>\n",
       "    </tr>\n",
       "  </thead>\n",
       "  <tbody>\n",
       "    <tr>\n",
       "      <th>0</th>\n",
       "      <td>{\"total_count\": 1496, \"results\": [{\"stationcod...</td>\n",
       "      <td>{\"total_count\": 1496, \"results\": [{\"stationcod...</td>\n",
       "    </tr>\n",
       "  </tbody>\n",
       "</table>\n",
       "</div>"
      ],
      "text/plain": [
       "                                                   0  \\\n",
       "0  {\"total_count\": 1496, \"results\": [{\"stationcod...   \n",
       "\n",
       "                                                   1  \n",
       "0  {\"total_count\": 1496, \"results\": [{\"stationcod...  "
      ]
     },
     "execution_count": 41,
     "metadata": {},
     "output_type": "execute_result"
    }
   ],
   "source": [
    "pd.DataFrame(dict(bikes.toPandas()['value']), index=[0])"
   ]
  },
  {
   "cell_type": "code",
   "execution_count": 28,
   "id": "77c8211c-aeeb-4898-9c3d-71900ed849de",
   "metadata": {},
   "outputs": [],
   "source": [
    "sparkdf = spark.createDataFrame([list(bikes.toPandas()['value'])])"
   ]
  },
  {
   "cell_type": "code",
   "execution_count": 30,
   "id": "24c26bc6-1cfb-4b92-9927-9a9f0051e99b",
   "metadata": {},
   "outputs": [
    {
     "name": "stdout",
     "output_type": "stream",
     "text": [
      "+--------------------+--------------------+\n",
      "|                  _1|                  _2|\n",
      "+--------------------+--------------------+\n",
      "|{\"total_count\": 1...|{\"total_count\": 1...|\n",
      "+--------------------+--------------------+\n",
      "\n"
     ]
    }
   ],
   "source": [
    "sparkdf.show()"
   ]
  },
  {
   "cell_type": "code",
   "execution_count": null,
   "id": "e55fa2da-8ab1-421a-bb00-72301807850a",
   "metadata": {},
   "outputs": [],
   "source": []
  },
  {
   "cell_type": "code",
   "execution_count": null,
   "id": "30664861-7291-4bb8-b438-833c9016f32e",
   "metadata": {},
   "outputs": [],
   "source": []
  },
  {
   "cell_type": "code",
   "execution_count": null,
   "id": "46c33f24-b642-4a88-9a96-112259383d04",
   "metadata": {},
   "outputs": [],
   "source": []
  },
  {
   "cell_type": "code",
   "execution_count": 64,
   "id": "18d1e064-fbb1-4e9d-ab89-c3630a0e6fdb",
   "metadata": {},
   "outputs": [],
   "source": [
    "schema1= StructType([StructField('total_count', StringType(), True),\n",
    "                    StructField('results', StringType(), True)])"
   ]
  },
  {
   "cell_type": "code",
   "execution_count": 65,
   "id": "be5d4fbd-28ea-41ec-90c4-b4b3bcf5aae7",
   "metadata": {},
   "outputs": [
    {
     "name": "stdout",
     "output_type": "stream",
     "text": [
      "24/07/27 19:28:42 WARN ResolveWriteToStream: Temporary checkpoint location created which is deleted normally when the query didn't fail: /tmp/temporary-20a999f9-f8d5-4505-9fea-7089215b7ff4. If it's required to delete it under any circumstances, please set spark.sql.streaming.forceDeleteTempCheckpointLocation to true. Important to know deleting temp checkpoint folder is best effort.\n",
      "24/07/27 19:28:42 WARN ResolveWriteToStream: spark.sql.adaptive.enabled is not supported in streaming DataFrames/Datasets and will be disabled.\n"
     ]
    },
    {
     "data": {
      "text/plain": [
       "<pyspark.sql.streaming.StreamingQuery at 0x7c61c3da2740>"
      ]
     },
     "execution_count": 65,
     "metadata": {},
     "output_type": "execute_result"
    },
    {
     "name": "stdout",
     "output_type": "stream",
     "text": [
      "-------------------------------------------\n",
      "Batch: 0\n",
      "-------------------------------------------\n",
      "+--------------------+\n",
      "|                test|\n",
      "+--------------------+\n",
      "|{\"total_count\": 1...|\n",
      "+--------------------+\n",
      "\n"
     ]
    }
   ],
   "source": [
    "streaming_df.select(col('value').cast('string').alias('test')).writeStream.format(\"console\").start()"
   ]
  },
  {
   "cell_type": "code",
   "execution_count": 66,
   "id": "ea4a4c54-01bb-4cfd-95f8-2bddb18ba9fa",
   "metadata": {},
   "outputs": [
    {
     "name": "stdout",
     "output_type": "stream",
     "text": [
      "24/07/27 19:28:45 WARN ResolveWriteToStream: Temporary checkpoint location created which is deleted normally when the query didn't fail: /tmp/temporary-ffafa7df-d2c9-47b9-809d-ade13275acf4. If it's required to delete it under any circumstances, please set spark.sql.streaming.forceDeleteTempCheckpointLocation to true. Important to know deleting temp checkpoint folder is best effort.\n",
      "24/07/27 19:28:45 WARN ResolveWriteToStream: spark.sql.adaptive.enabled is not supported in streaming DataFrames/Datasets and will be disabled.\n"
     ]
    },
    {
     "data": {
      "text/plain": [
       "<pyspark.sql.streaming.StreamingQuery at 0x7c61c3da0c10>"
      ]
     },
     "execution_count": 66,
     "metadata": {},
     "output_type": "execute_result"
    },
    {
     "name": "stdout",
     "output_type": "stream",
     "text": [
      "-------------------------------------------\n",
      "Batch: 0\n",
      "-------------------------------------------\n",
      "+--------------------+\n",
      "|               value|\n",
      "+--------------------+\n",
      "|{\"total_count\": 1...|\n",
      "+--------------------+\n",
      "\n"
     ]
    }
   ],
   "source": [
    "streaming_df.select(col('value').cast('string')).writeStream.format(\"console\").start()"
   ]
  },
  {
   "cell_type": "code",
   "execution_count": 67,
   "id": "e8d03512-0c50-4e29-91c7-5867e373f30c",
   "metadata": {},
   "outputs": [],
   "source": [
    "dp=streaming_df.select(from_json(col('value').cast('string'), schema1).alias('test1'))"
   ]
  },
  {
   "cell_type": "code",
   "execution_count": 68,
   "id": "b91de6fc-5548-4818-8cd7-622f21a4dc34",
   "metadata": {},
   "outputs": [],
   "source": [
    "df_processed = dp.select(\"test1.*\") "
   ]
  },
  {
   "cell_type": "code",
   "execution_count": 69,
   "id": "56070547-0355-4a5f-b823-31d63076007f",
   "metadata": {},
   "outputs": [
    {
     "name": "stdout",
     "output_type": "stream",
     "text": [
      "24/07/27 19:28:54 WARN ResolveWriteToStream: Temporary checkpoint location created which is deleted normally when the query didn't fail: /tmp/temporary-3678115a-9673-45f7-9472-e6d07d028d2f. If it's required to delete it under any circumstances, please set spark.sql.streaming.forceDeleteTempCheckpointLocation to true. Important to know deleting temp checkpoint folder is best effort.\n",
      "24/07/27 19:28:54 WARN ResolveWriteToStream: spark.sql.adaptive.enabled is not supported in streaming DataFrames/Datasets and will be disabled.\n"
     ]
    },
    {
     "data": {
      "text/plain": [
       "<pyspark.sql.streaming.StreamingQuery at 0x7c61c3da1480>"
      ]
     },
     "execution_count": 69,
     "metadata": {},
     "output_type": "execute_result"
    },
    {
     "name": "stdout",
     "output_type": "stream",
     "text": [
      "-------------------------------------------\n",
      "Batch: 0\n",
      "-------------------------------------------\n",
      "+-----------+--------------------+\n",
      "|total_count|             results|\n",
      "+-----------+--------------------+\n",
      "|       1496|[{\"stationcode\":\"...|\n",
      "+-----------+--------------------+\n",
      "\n"
     ]
    }
   ],
   "source": [
    "df_processed.writeStream.format(\"console\").start()"
   ]
  },
  {
   "cell_type": "code",
   "execution_count": 82,
   "id": "1b96fba7-12f8-40d5-a505-e296a4f55f12",
   "metadata": {},
   "outputs": [],
   "source": [
    "df_transformed = df_processed.withColumn(\"bikes\", expr(\"substring(results, 2, length(results) - 2)\"))\n"
   ]
  },
  {
   "cell_type": "code",
   "execution_count": 85,
   "id": "79b8824e-21cc-4f3a-88f1-9967b41831ce",
   "metadata": {},
   "outputs": [
    {
     "name": "stdout",
     "output_type": "stream",
     "text": [
      "24/07/27 19:47:46 WARN ResolveWriteToStream: Temporary checkpoint location created which is deleted normally when the query didn't fail: /tmp/temporary-b4a69f6d-1cb9-47f3-93ac-54400e7aefc3. If it's required to delete it under any circumstances, please set spark.sql.streaming.forceDeleteTempCheckpointLocation to true. Important to know deleting temp checkpoint folder is best effort.\n",
      "24/07/27 19:47:46 WARN ResolveWriteToStream: spark.sql.adaptive.enabled is not supported in streaming DataFrames/Datasets and will be disabled.\n"
     ]
    },
    {
     "data": {
      "text/plain": [
       "<pyspark.sql.streaming.StreamingQuery at 0x7c61c3b61180>"
      ]
     },
     "execution_count": 85,
     "metadata": {},
     "output_type": "execute_result"
    },
    {
     "name": "stderr",
     "output_type": "stream",
     "text": [
      "                                                                                \r"
     ]
    },
    {
     "name": "stdout",
     "output_type": "stream",
     "text": [
      "-------------------------------------------\n",
      "Batch: 0\n",
      "-------------------------------------------\n",
      "+-----------+--------------------+--------------------+--------------------+\n",
      "|total_count|             results|           timestamp|               bikes|\n",
      "+-----------+--------------------+--------------------+--------------------+\n",
      "|       1496|[{\"stationcode\":\"...|2024-07-27 17:39:...|{\"stationcode\":\"4...|\n",
      "+-----------+--------------------+--------------------+--------------------+\n",
      "\n"
     ]
    }
   ],
   "source": [
    "df_transformed.writeStream.format(\"console\").start()"
   ]
  },
  {
   "cell_type": "code",
   "execution_count": 35,
   "id": "06bea0d5-8043-4305-83dc-8bcf4186f462",
   "metadata": {},
   "outputs": [],
   "source": [
    "schema = StructType([\n",
    "    StructField(\"total_count\", StringType(), True),\n",
    "    StructField(\"results\", StructType([\n",
    "        StructField(\"stationcode\", IntegerType(), True),\n",
    "        StructField(\"name\", StringType(), True),\n",
    "        StructField(\"is_installed\", StringType(), True),\n",
    "        StructField(\"capacity\", IntegerType(), True),\n",
    "        StructField(\"numdocksavailable\", IntegerType(), True),\n",
    "        StructField(\"numbikesavailable\", IntegerType(), True),\n",
    "        StructField(\"mechanical\", IntegerType(), True),\n",
    "        StructField(\"ebike\", IntegerType(), True),\n",
    "        StructField(\"is_renting\", StringType(), True),\n",
    "        StructField(\"is_returning\", StringType(), True),\n",
    "        StructField(\"duedate\", DateType(), True),\n",
    "        StructField(\"coordonnees_geo\", StringType(), True),\n",
    "        StructField(\"nom_arrondissement_communes\", StringType(), True),\n",
    "        StructField(\"code_insee_commune\", StringType(), True)]), True)\n",
    "])"
   ]
  },
  {
   "cell_type": "code",
   "execution_count": 75,
   "id": "d6a713c5-9516-43f2-8ee7-57debaf8b1c6",
   "metadata": {},
   "outputs": [],
   "source": [
    "df_parsed = streaming_df.select(from_json(col(\"value\").cast(\"string\"), schema1).alias(\"bikes\"), col(\"timestamp\"))\n",
    "\n",
    "# Extract the fields from the parsed JSON data\n",
    "df_processed = df_parsed.select(\"bikes.*\", \"timestamp\")\n"
   ]
  },
  {
   "cell_type": "code",
   "execution_count": 76,
   "id": "7f0783f1-d88e-46fb-8667-b233f54c3477",
   "metadata": {},
   "outputs": [
    {
     "name": "stdout",
     "output_type": "stream",
     "text": [
      "24/07/27 19:34:22 WARN ResolveWriteToStream: Temporary checkpoint location created which is deleted normally when the query didn't fail: /tmp/temporary-042f77ea-4912-41be-a7f8-ac907ee78302. If it's required to delete it under any circumstances, please set spark.sql.streaming.forceDeleteTempCheckpointLocation to true. Important to know deleting temp checkpoint folder is best effort.\n",
      "24/07/27 19:34:22 WARN ResolveWriteToStream: spark.sql.adaptive.enabled is not supported in streaming DataFrames/Datasets and will be disabled.\n"
     ]
    },
    {
     "data": {
      "text/plain": [
       "<pyspark.sql.streaming.StreamingQuery at 0x7c61c3cabdf0>"
      ]
     },
     "execution_count": 76,
     "metadata": {},
     "output_type": "execute_result"
    },
    {
     "name": "stderr",
     "output_type": "stream",
     "text": [
      "                                                                                \r"
     ]
    },
    {
     "name": "stdout",
     "output_type": "stream",
     "text": [
      "-------------------------------------------\n",
      "Batch: 0\n",
      "-------------------------------------------\n",
      "+-----------+--------------------+--------------------+\n",
      "|total_count|             results|           timestamp|\n",
      "+-----------+--------------------+--------------------+\n",
      "|       1496|[{\"stationcode\":\"...|2024-07-27 17:39:...|\n",
      "+-----------+--------------------+--------------------+\n",
      "\n"
     ]
    }
   ],
   "source": [
    "df_processed.writeStream.format(\"console\").start()"
   ]
  },
  {
   "cell_type": "code",
   "execution_count": null,
   "id": "4d7e1033-a097-4b4f-b381-5ed79f3a0fdb",
   "metadata": {},
   "outputs": [],
   "source": [
    "window_duration = '1 minutes'\n",
    "# Group the tweets by language and timestamp window and count the tweets\n",
    "df_counts = df_processed.withWatermark(\"timestamp\", window_duration)\n",
    "\n",
    "#query_df = df_counts.writeStream \\\n",
    "#    .outputMode(\"complete\") \\\n",
    "#    .format(\"console\") \\\n",
    "#    .option(\"truncate\", False) \\\n",
    "#    .start()\n",
    "\n",
    "query = df_counts.writeStream\\\n",
    "  .trigger(processingTime=\"1 minutes\")\\\n",
    "  .option(\"checkpointLocation\", \"checkpoint/\")\\\n",
    "  .option(\"path\", \".\")\\\n",
    "  .outputMode(\"append\")\\\n",
    "  .start()\\\n",
    "  .awaitTermination()\n",
    "#df_counts.writeStream.toTable(\"my_table\", checkpointLocation='/Users/rihab.ghrab/Infor-Ideas/Spark')\n"
   ]
  },
  {
   "cell_type": "code",
   "execution_count": 50,
   "id": "0e5235de-263d-41fa-b9c1-21478893dde2",
   "metadata": {},
   "outputs": [],
   "source": [
    "ds = spark.read.parquet('part-00000-580b3221-ce6c-42b1-8469-4e96b0de5f7a-c000.snappy.parquet')"
   ]
  },
  {
   "cell_type": "code",
   "execution_count": 51,
   "id": "e6ad1296-af36-468b-8099-022f2853efe4",
   "metadata": {},
   "outputs": [
    {
     "name": "stdout",
     "output_type": "stream",
     "text": [
      "+--------------------+----------+------------+\n",
      "|              window|forecastID|record_count|\n",
      "+--------------------+----------+------------+\n",
      "|{2024-07-16 10:26...|      NULL|          25|\n",
      "+--------------------+----------+------------+\n",
      "\n"
     ]
    }
   ],
   "source": [
    "ds.show()"
   ]
  },
  {
   "cell_type": "code",
   "execution_count": null,
   "id": "e4def5f9-7115-45e8-b156-7e0be80ba520",
   "metadata": {},
   "outputs": [],
   "source": []
  },
  {
   "cell_type": "code",
   "execution_count": null,
   "id": "267719b6-a750-4a7f-8b0a-b3783407e30b",
   "metadata": {},
   "outputs": [],
   "source": []
  },
  {
   "cell_type": "code",
   "execution_count": null,
   "id": "698c1703-6019-49a6-8da0-3cf7f8a742fd",
   "metadata": {},
   "outputs": [],
   "source": []
  },
  {
   "cell_type": "code",
   "execution_count": null,
   "id": "02a1679f-27de-4fae-b96e-e8055409fd98",
   "metadata": {},
   "outputs": [],
   "source": []
  },
  {
   "cell_type": "code",
   "execution_count": null,
   "id": "dfb21248-c726-49d1-a7da-7b5d0ef7d4a0",
   "metadata": {},
   "outputs": [],
   "source": []
  },
  {
   "cell_type": "code",
   "execution_count": 59,
   "id": "e5f7403e-f6cb-48cd-8edd-a12ff927dc68",
   "metadata": {},
   "outputs": [
    {
     "name": "stdout",
     "output_type": "stream",
     "text": [
      "-------------------------------------------\n",
      "Batch: 88\n",
      "-------------------------------------------\n",
      "+-----------+--------------------+\n",
      "|total_count|             results|\n",
      "+-----------+--------------------+\n",
      "|       1496|[{9020, Toudouze ...|\n",
      "+-----------+--------------------+\n",
      "\n",
      "-------------------------------------------\n",
      "Batch: 88\n",
      "-------------------------------------------\n",
      "+-----------+-----------+------------------+------------+--------+-----------------+-----------------+----------+-----+----------+------------+--------------------+------------------+-----------------+---------------------------+------------------+\n",
      "|total_count|stationcode|              name|is_installed|capacity|numdocksavailable|numbikesavailable|mechanical|ebike|is_renting|is_returning|             duedate|         longitude|         latitude|nom_arrondissement_communes|code_insee_commune|\n",
      "+-----------+-----------+------------------+------------+--------+-----------------+-----------------+----------+-----+----------+------------+--------------------+------------------+-----------------+---------------------------+------------------+\n",
      "|       1496|       9020|Toudouze - Clauzel|         OUI|      21|               18|                3|         1|    2|       OUI|         OUI|2024-07-27T20:58:...|2.3373600840568547|48.87929591733507|                      Paris|              null|\n",
      "+-----------+-----------+------------------+------------+--------+-----------------+-----------------+----------+-----+----------+------------+--------------------+------------------+-----------------+---------------------------+------------------+\n",
      "\n",
      "-------------------------------------------\n",
      "Batch: 88\n",
      "-------------------------------------------\n",
      "+-----------+-----------+------------------+------------+--------+-----------------+-----------------+----------+-----+----------+------------+--------------------+------------------+-----------------+---------------------------+------------------+\n",
      "|total_count|stationcode|              name|is_installed|capacity|numdocksavailable|numbikesavailable|mechanical|ebike|is_renting|is_returning|             duedate|         longitude|         latitude|nom_arrondissement_communes|code_insee_commune|\n",
      "+-----------+-----------+------------------+------------+--------+-----------------+-----------------+----------+-----+----------+------------+--------------------+------------------+-----------------+---------------------------+------------------+\n",
      "|       1496|       9020|Toudouze - Clauzel|         OUI|      21|               18|                3|         1|    2|       OUI|         OUI|2024-07-27T20:58:...|2.3373600840568547|48.87929591733507|                      Paris|              null|\n",
      "+-----------+-----------+------------------+------------+--------+-----------------+-----------------+----------+-----+----------+------------+--------------------+------------------+-----------------+---------------------------+------------------+\n",
      "\n",
      "-------------------------------------------\n",
      "Batch: 89\n",
      "-------------------------------------------\n",
      "-------------------------------------------\n",
      "Batch: 89\n",
      "-------------------------------------------\n",
      "+-----------+--------------------+\n",
      "|total_count|             results|\n",
      "+-----------+--------------------+\n",
      "|       1496|[{9020, Toudouze ...|\n",
      "+-----------+--------------------+\n",
      "\n",
      "+-----------+-----------+------------------+------------+--------+-----------------+-----------------+----------+-----+----------+------------+--------------------+------------------+-----------------+---------------------------+------------------+\n",
      "|total_count|stationcode|              name|is_installed|capacity|numdocksavailable|numbikesavailable|mechanical|ebike|is_renting|is_returning|             duedate|         longitude|         latitude|nom_arrondissement_communes|code_insee_commune|\n",
      "+-----------+-----------+------------------+------------+--------+-----------------+-----------------+----------+-----+----------+------------+--------------------+------------------+-----------------+---------------------------+------------------+\n",
      "|       1496|       9020|Toudouze - Clauzel|         OUI|      21|               18|                3|         1|    2|       OUI|         OUI|2024-07-27T20:58:...|2.3373600840568547|48.87929591733507|                      Paris|              null|\n",
      "+-----------+-----------+------------------+------------+--------+-----------------+-----------------+----------+-----+----------+------------+--------------------+------------------+-----------------+---------------------------+------------------+\n",
      "\n",
      "-------------------------------------------\n",
      "Batch: 89\n",
      "-------------------------------------------\n",
      "+-----------+-----------+------------------+------------+--------+-----------------+-----------------+----------+-----+----------+------------+--------------------+------------------+-----------------+---------------------------+------------------+\n",
      "|total_count|stationcode|              name|is_installed|capacity|numdocksavailable|numbikesavailable|mechanical|ebike|is_renting|is_returning|             duedate|         longitude|         latitude|nom_arrondissement_communes|code_insee_commune|\n",
      "+-----------+-----------+------------------+------------+--------+-----------------+-----------------+----------+-----+----------+------------+--------------------+------------------+-----------------+---------------------------+------------------+\n",
      "|       1496|       9020|Toudouze - Clauzel|         OUI|      21|               18|                3|         1|    2|       OUI|         OUI|2024-07-27T20:58:...|2.3373600840568547|48.87929591733507|                      Paris|              null|\n",
      "+-----------+-----------+------------------+------------+--------+-----------------+-----------------+----------+-----+----------+------------+--------------------+------------------+-----------------+---------------------------+------------------+\n",
      "\n",
      "-------------------------------------------\n",
      "Batch: 90\n",
      "-------------------------------------------\n",
      "-------------------------------------------\n",
      "Batch: 90\n",
      "-------------------------------------------\n",
      "+-----------+--------------------+\n",
      "|total_count|             results|\n",
      "+-----------+--------------------+\n",
      "|       1496|[{9020, Toudouze ...|\n",
      "+-----------+--------------------+\n",
      "\n",
      "+-----------+-----------+------------------+------------+--------+-----------------+-----------------+----------+-----+----------+------------+--------------------+------------------+-----------------+---------------------------+------------------+\n",
      "|total_count|stationcode|              name|is_installed|capacity|numdocksavailable|numbikesavailable|mechanical|ebike|is_renting|is_returning|             duedate|         longitude|         latitude|nom_arrondissement_communes|code_insee_commune|\n",
      "+-----------+-----------+------------------+------------+--------+-----------------+-----------------+----------+-----+----------+------------+--------------------+------------------+-----------------+---------------------------+------------------+\n",
      "|       1496|       9020|Toudouze - Clauzel|         OUI|      21|               18|                3|         1|    2|       OUI|         OUI|2024-07-27T20:58:...|2.3373600840568547|48.87929591733507|                      Paris|              null|\n",
      "+-----------+-----------+------------------+------------+--------+-----------------+-----------------+----------+-----+----------+------------+--------------------+------------------+-----------------+---------------------------+------------------+\n",
      "\n",
      "-------------------------------------------\n",
      "Batch: 90\n",
      "-------------------------------------------\n",
      "+-----------+-----------+------------------+------------+--------+-----------------+-----------------+----------+-----+----------+------------+--------------------+------------------+-----------------+---------------------------+------------------+\n",
      "|total_count|stationcode|              name|is_installed|capacity|numdocksavailable|numbikesavailable|mechanical|ebike|is_renting|is_returning|             duedate|         longitude|         latitude|nom_arrondissement_communes|code_insee_commune|\n",
      "+-----------+-----------+------------------+------------+--------+-----------------+-----------------+----------+-----+----------+------------+--------------------+------------------+-----------------+---------------------------+------------------+\n",
      "|       1496|       9020|Toudouze - Clauzel|         OUI|      21|               18|                3|         1|    2|       OUI|         OUI|2024-07-27T20:58:...|2.3373600840568547|48.87929591733507|                      Paris|              null|\n",
      "+-----------+-----------+------------------+------------+--------+-----------------+-----------------+----------+-----+----------+------------+--------------------+------------------+-----------------+---------------------------+------------------+\n",
      "\n"
     ]
    }
   ],
   "source": [
    "from pyspark.sql import SparkSession\n",
    "from pyspark.sql.functions import from_json, col, explode\n",
    "from pyspark.sql.types import StructType, StructField, StringType, IntegerType, DoubleType, MapType, ArrayType\n",
    "\n",
    "# Initialize Spark session\n",
    "spark = SparkSession.builder \\\n",
    "    .appName(\"KafkaSparkConsumer\") \\\n",
    "    .getOrCreate()\n",
    "\n",
    "# Kafka parameters\n",
    "kafka_brokers = \"localhost:9092\"\n",
    "kafka_topic = \"velib_bikes\"\n",
    "\n",
    "# Define the schema for the JSON data\n",
    "schema = StructType([\n",
    "    StructField(\"total_count\", IntegerType(), True),\n",
    "    StructField(\"results\", ArrayType(StructType([\n",
    "        StructField(\"stationcode\", StringType(), True),\n",
    "        StructField(\"name\", StringType(), True),\n",
    "        StructField(\"is_installed\", StringType(), True),\n",
    "        StructField(\"capacity\", IntegerType(), True),\n",
    "        StructField(\"numdocksavailable\", IntegerType(), True),\n",
    "        StructField(\"numbikesavailable\", IntegerType(), True),\n",
    "        StructField(\"mechanical\", IntegerType(), True),\n",
    "        StructField(\"ebike\", IntegerType(), True),\n",
    "        StructField(\"is_renting\", StringType(), True),\n",
    "        StructField(\"is_returning\", StringType(), True),\n",
    "        StructField(\"duedate\", StringType(), True),\n",
    "        StructField(\"coordonnees_geo\", MapType(StringType(), DoubleType()), True),\n",
    "        StructField(\"nom_arrondissement_communes\", StringType(), True),\n",
    "        StructField(\"code_insee_commune\", StringType(), True)\n",
    "    ])), True)\n",
    "])\n",
    "\n",
    "# Read data from Kafka\n",
    "df_kafka = spark.readStream \\\n",
    "    .format(\"kafka\") \\\n",
    "    .option(\"kafka.bootstrap.servers\", kafka_brokers) \\\n",
    "    .option(\"subscribe\", kafka_topic) \\\n",
    "    .option(\"startingOffsets\", \"earliest\") \\\n",
    "    .load()\n",
    "\n",
    "# Extract the value from Kafka message and parse it as JSON\n",
    "df_parsed = df_kafka.selectExpr(\"CAST(value AS STRING)\",\"CAST(timestamp AS STRING)\") \\\n",
    "    .select(from_json(col(\"value\"), schema).alias(\"data\"), col('timestamp')) \\\n",
    "    .select(\"data.*\", \"timestamp\")\n"
   ]
  },
  {
   "cell_type": "code",
   "execution_count": 58,
   "id": "61bf2b9d-1862-496b-bc40-d39b742e322e",
   "metadata": {},
   "outputs": [
    {
     "data": {
      "text/plain": [
       "<bound method DataFrame.printSchema of DataFrame[total_count: int, results: array<struct<stationcode:string,name:string,is_installed:string,capacity:int,numdocksavailable:int,numbikesavailable:int,mechanical:int,ebike:int,is_renting:string,is_returning:string,duedate:string,coordonnees_geo:map<string,double>,nom_arrondissement_communes:string,code_insee_commune:string>>, timestamp: string]>"
      ]
     },
     "execution_count": 58,
     "metadata": {},
     "output_type": "execute_result"
    },
    {
     "name": "stderr",
     "output_type": "stream",
     "text": [
      "                                                                                \r"
     ]
    },
    {
     "name": "stdout",
     "output_type": "stream",
     "text": [
      "-------------------------------------------\n",
      "Batch: 82\n",
      "-------------------------------------------\n",
      "+-----------+--------------------+\n",
      "|total_count|             results|\n",
      "+-----------+--------------------+\n",
      "|       1496|[{9020, Toudouze ...|\n",
      "+-----------+--------------------+\n",
      "\n",
      "-------------------------------------------\n",
      "Batch: 82\n",
      "-------------------------------------------\n",
      "+-----------+-----------+------------------+------------+--------+-----------------+-----------------+----------+-----+----------+------------+--------------------+------------------+-----------------+---------------------------+------------------+\n",
      "|total_count|stationcode|              name|is_installed|capacity|numdocksavailable|numbikesavailable|mechanical|ebike|is_renting|is_returning|             duedate|         longitude|         latitude|nom_arrondissement_communes|code_insee_commune|\n",
      "+-----------+-----------+------------------+------------+--------+-----------------+-----------------+----------+-----+----------+------------+--------------------+------------------+-----------------+---------------------------+------------------+\n",
      "|       1496|       9020|Toudouze - Clauzel|         OUI|      21|               18|                3|         1|    2|       OUI|         OUI|2024-07-27T20:58:...|2.3373600840568547|48.87929591733507|                      Paris|              null|\n",
      "+-----------+-----------+------------------+------------+--------+-----------------+-----------------+----------+-----+----------+------------+--------------------+------------------+-----------------+---------------------------+------------------+\n",
      "\n",
      "-------------------------------------------\n",
      "Batch: 82\n",
      "-------------------------------------------\n",
      "+-----------+-----------+------------------+------------+--------+-----------------+-----------------+----------+-----+----------+------------+--------------------+------------------+-----------------+---------------------------+------------------+\n",
      "|total_count|stationcode|              name|is_installed|capacity|numdocksavailable|numbikesavailable|mechanical|ebike|is_renting|is_returning|             duedate|         longitude|         latitude|nom_arrondissement_communes|code_insee_commune|\n",
      "+-----------+-----------+------------------+------------+--------+-----------------+-----------------+----------+-----+----------+------------+--------------------+------------------+-----------------+---------------------------+------------------+\n",
      "|       1496|       9020|Toudouze - Clauzel|         OUI|      21|               18|                3|         1|    2|       OUI|         OUI|2024-07-27T20:58:...|2.3373600840568547|48.87929591733507|                      Paris|              null|\n",
      "+-----------+-----------+------------------+------------+--------+-----------------+-----------------+----------+-----+----------+------------+--------------------+------------------+-----------------+---------------------------+------------------+\n",
      "\n",
      "-------------------------------------------\n",
      "Batch: 83\n",
      "-------------------------------------------\n",
      "+-----------+--------------------+\n",
      "|total_count|             results|\n",
      "+-----------+--------------------+\n",
      "|       1496|[{9020, Toudouze ...|\n",
      "+-----------+--------------------+\n",
      "\n",
      "-------------------------------------------\n",
      "Batch: 83\n",
      "-------------------------------------------\n",
      "+-----------+-----------+------------------+------------+--------+-----------------+-----------------+----------+-----+----------+------------+--------------------+------------------+-----------------+---------------------------+------------------+\n",
      "|total_count|stationcode|              name|is_installed|capacity|numdocksavailable|numbikesavailable|mechanical|ebike|is_renting|is_returning|             duedate|         longitude|         latitude|nom_arrondissement_communes|code_insee_commune|\n",
      "+-----------+-----------+------------------+------------+--------+-----------------+-----------------+----------+-----+----------+------------+--------------------+------------------+-----------------+---------------------------+------------------+\n",
      "|       1496|       9020|Toudouze - Clauzel|         OUI|      21|               18|                3|         1|    2|       OUI|         OUI|2024-07-27T20:58:...|2.3373600840568547|48.87929591733507|                      Paris|              null|\n",
      "+-----------+-----------+------------------+------------+--------+-----------------+-----------------+----------+-----+----------+------------+--------------------+------------------+-----------------+---------------------------+------------------+\n",
      "\n",
      "-------------------------------------------\n",
      "Batch: 83\n",
      "-------------------------------------------\n",
      "+-----------+-----------+------------------+------------+--------+-----------------+-----------------+----------+-----+----------+------------+--------------------+------------------+-----------------+---------------------------+------------------+\n",
      "|total_count|stationcode|              name|is_installed|capacity|numdocksavailable|numbikesavailable|mechanical|ebike|is_renting|is_returning|             duedate|         longitude|         latitude|nom_arrondissement_communes|code_insee_commune|\n",
      "+-----------+-----------+------------------+------------+--------+-----------------+-----------------+----------+-----+----------+------------+--------------------+------------------+-----------------+---------------------------+------------------+\n",
      "|       1496|       9020|Toudouze - Clauzel|         OUI|      21|               18|                3|         1|    2|       OUI|         OUI|2024-07-27T20:58:...|2.3373600840568547|48.87929591733507|                      Paris|              null|\n",
      "+-----------+-----------+------------------+------------+--------+-----------------+-----------------+----------+-----+----------+------------+--------------------+------------------+-----------------+---------------------------+------------------+\n",
      "\n",
      "-------------------------------------------\n",
      "Batch: 84\n",
      "-------------------------------------------\n",
      "+-----------+--------------------+\n",
      "|total_count|             results|\n",
      "+-----------+--------------------+\n",
      "|       1496|[{9020, Toudouze ...|\n",
      "+-----------+--------------------+\n",
      "\n",
      "-------------------------------------------\n",
      "Batch: 84\n",
      "-------------------------------------------\n",
      "+-----------+-----------+------------------+------------+--------+-----------------+-----------------+----------+-----+----------+------------+--------------------+------------------+-----------------+---------------------------+------------------+\n",
      "|total_count|stationcode|              name|is_installed|capacity|numdocksavailable|numbikesavailable|mechanical|ebike|is_renting|is_returning|             duedate|         longitude|         latitude|nom_arrondissement_communes|code_insee_commune|\n",
      "+-----------+-----------+------------------+------------+--------+-----------------+-----------------+----------+-----+----------+------------+--------------------+------------------+-----------------+---------------------------+------------------+\n",
      "|       1496|       9020|Toudouze - Clauzel|         OUI|      21|               18|                3|         1|    2|       OUI|         OUI|2024-07-27T20:58:...|2.3373600840568547|48.87929591733507|                      Paris|              null|\n",
      "+-----------+-----------+------------------+------------+--------+-----------------+-----------------+----------+-----+----------+------------+--------------------+------------------+-----------------+---------------------------+------------------+\n",
      "\n",
      "-------------------------------------------\n",
      "Batch: 84\n",
      "-------------------------------------------\n",
      "+-----------+-----------+------------------+------------+--------+-----------------+-----------------+----------+-----+----------+------------+--------------------+------------------+-----------------+---------------------------+------------------+\n",
      "|total_count|stationcode|              name|is_installed|capacity|numdocksavailable|numbikesavailable|mechanical|ebike|is_renting|is_returning|             duedate|         longitude|         latitude|nom_arrondissement_communes|code_insee_commune|\n",
      "+-----------+-----------+------------------+------------+--------+-----------------+-----------------+----------+-----+----------+------------+--------------------+------------------+-----------------+---------------------------+------------------+\n",
      "|       1496|       9020|Toudouze - Clauzel|         OUI|      21|               18|                3|         1|    2|       OUI|         OUI|2024-07-27T20:58:...|2.3373600840568547|48.87929591733507|                      Paris|              null|\n",
      "+-----------+-----------+------------------+------------+--------+-----------------+-----------------+----------+-----+----------+------------+--------------------+------------------+-----------------+---------------------------+------------------+\n",
      "\n"
     ]
    },
    {
     "name": "stderr",
     "output_type": "stream",
     "text": [
      "                                                                                \r"
     ]
    },
    {
     "name": "stdout",
     "output_type": "stream",
     "text": [
      "-------------------------------------------\n",
      "Batch: 85\n",
      "-------------------------------------------\n",
      "-------------------------------------------\n",
      "Batch: 85\n",
      "-------------------------------------------\n",
      "+-----------+--------------------+\n",
      "|total_count|             results|\n",
      "+-----------+--------------------+\n",
      "|       1496|[{9020, Toudouze ...|\n",
      "+-----------+--------------------+\n",
      "\n",
      "+-----------+-----------+------------------+------------+--------+-----------------+-----------------+----------+-----+----------+------------+--------------------+------------------+-----------------+---------------------------+------------------+\n",
      "|total_count|stationcode|              name|is_installed|capacity|numdocksavailable|numbikesavailable|mechanical|ebike|is_renting|is_returning|             duedate|         longitude|         latitude|nom_arrondissement_communes|code_insee_commune|\n",
      "+-----------+-----------+------------------+------------+--------+-----------------+-----------------+----------+-----+----------+------------+--------------------+------------------+-----------------+---------------------------+------------------+\n",
      "|       1496|       9020|Toudouze - Clauzel|         OUI|      21|               18|                3|         1|    2|       OUI|         OUI|2024-07-27T20:58:...|2.3373600840568547|48.87929591733507|                      Paris|              null|\n",
      "+-----------+-----------+------------------+------------+--------+-----------------+-----------------+----------+-----+----------+------------+--------------------+------------------+-----------------+---------------------------+------------------+\n",
      "\n",
      "-------------------------------------------\n",
      "Batch: 85\n",
      "-------------------------------------------\n",
      "+-----------+-----------+------------------+------------+--------+-----------------+-----------------+----------+-----+----------+------------+--------------------+------------------+-----------------+---------------------------+------------------+\n",
      "|total_count|stationcode|              name|is_installed|capacity|numdocksavailable|numbikesavailable|mechanical|ebike|is_renting|is_returning|             duedate|         longitude|         latitude|nom_arrondissement_communes|code_insee_commune|\n",
      "+-----------+-----------+------------------+------------+--------+-----------------+-----------------+----------+-----+----------+------------+--------------------+------------------+-----------------+---------------------------+------------------+\n",
      "|       1496|       9020|Toudouze - Clauzel|         OUI|      21|               18|                3|         1|    2|       OUI|         OUI|2024-07-27T20:58:...|2.3373600840568547|48.87929591733507|                      Paris|              null|\n",
      "+-----------+-----------+------------------+------------+--------+-----------------+-----------------+----------+-----+----------+------------+--------------------+------------------+-----------------+---------------------------+------------------+\n",
      "\n",
      "-------------------------------------------\n",
      "Batch: 86\n",
      "-------------------------------------------\n",
      "-------------------------------------------\n",
      "Batch: 86\n",
      "-------------------------------------------\n",
      "+-----------+--------------------+\n",
      "|total_count|             results|\n",
      "+-----------+--------------------+\n",
      "|       1496|[{9020, Toudouze ...|\n",
      "+-----------+--------------------+\n",
      "\n",
      "+-----------+-----------+------------------+------------+--------+-----------------+-----------------+----------+-----+----------+------------+--------------------+------------------+-----------------+---------------------------+------------------+\n",
      "|total_count|stationcode|              name|is_installed|capacity|numdocksavailable|numbikesavailable|mechanical|ebike|is_renting|is_returning|             duedate|         longitude|         latitude|nom_arrondissement_communes|code_insee_commune|\n",
      "+-----------+-----------+------------------+------------+--------+-----------------+-----------------+----------+-----+----------+------------+--------------------+------------------+-----------------+---------------------------+------------------+\n",
      "|       1496|       9020|Toudouze - Clauzel|         OUI|      21|               18|                3|         1|    2|       OUI|         OUI|2024-07-27T20:58:...|2.3373600840568547|48.87929591733507|                      Paris|              null|\n",
      "+-----------+-----------+------------------+------------+--------+-----------------+-----------------+----------+-----+----------+------------+--------------------+------------------+-----------------+---------------------------+------------------+\n",
      "\n",
      "-------------------------------------------\n",
      "Batch: 86\n",
      "-------------------------------------------\n",
      "+-----------+-----------+------------------+------------+--------+-----------------+-----------------+----------+-----+----------+------------+--------------------+------------------+-----------------+---------------------------+------------------+\n",
      "|total_count|stationcode|              name|is_installed|capacity|numdocksavailable|numbikesavailable|mechanical|ebike|is_renting|is_returning|             duedate|         longitude|         latitude|nom_arrondissement_communes|code_insee_commune|\n",
      "+-----------+-----------+------------------+------------+--------+-----------------+-----------------+----------+-----+----------+------------+--------------------+------------------+-----------------+---------------------------+------------------+\n",
      "|       1496|       9020|Toudouze - Clauzel|         OUI|      21|               18|                3|         1|    2|       OUI|         OUI|2024-07-27T20:58:...|2.3373600840568547|48.87929591733507|                      Paris|              null|\n",
      "+-----------+-----------+------------------+------------+--------+-----------------+-----------------+----------+-----+----------+------------+--------------------+------------------+-----------------+---------------------------+------------------+\n",
      "\n",
      "-------------------------------------------\n",
      "Batch: 87\n",
      "-------------------------------------------\n",
      "-------------------------------------------\n",
      "Batch: 87\n",
      "-------------------------------------------\n",
      "+-----------+--------------------+\n",
      "|total_count|             results|\n",
      "+-----------+--------------------+\n",
      "|       1496|[{9020, Toudouze ...|\n",
      "+-----------+--------------------+\n",
      "\n",
      "+-----------+-----------+------------------+------------+--------+-----------------+-----------------+----------+-----+----------+------------+--------------------+------------------+-----------------+---------------------------+------------------+\n",
      "|total_count|stationcode|              name|is_installed|capacity|numdocksavailable|numbikesavailable|mechanical|ebike|is_renting|is_returning|             duedate|         longitude|         latitude|nom_arrondissement_communes|code_insee_commune|\n",
      "+-----------+-----------+------------------+------------+--------+-----------------+-----------------+----------+-----+----------+------------+--------------------+------------------+-----------------+---------------------------+------------------+\n",
      "|       1496|       9020|Toudouze - Clauzel|         OUI|      21|               18|                3|         1|    2|       OUI|         OUI|2024-07-27T20:58:...|2.3373600840568547|48.87929591733507|                      Paris|              null|\n",
      "+-----------+-----------+------------------+------------+--------+-----------------+-----------------+----------+-----+----------+------------+--------------------+------------------+-----------------+---------------------------+------------------+\n",
      "\n",
      "-------------------------------------------\n",
      "Batch: 87\n",
      "-------------------------------------------\n",
      "+-----------+-----------+------------------+------------+--------+-----------------+-----------------+----------+-----+----------+------------+--------------------+------------------+-----------------+---------------------------+------------------+\n",
      "|total_count|stationcode|              name|is_installed|capacity|numdocksavailable|numbikesavailable|mechanical|ebike|is_renting|is_returning|             duedate|         longitude|         latitude|nom_arrondissement_communes|code_insee_commune|\n",
      "+-----------+-----------+------------------+------------+--------+-----------------+-----------------+----------+-----+----------+------------+--------------------+------------------+-----------------+---------------------------+------------------+\n",
      "|       1496|       9020|Toudouze - Clauzel|         OUI|      21|               18|                3|         1|    2|       OUI|         OUI|2024-07-27T20:58:...|2.3373600840568547|48.87929591733507|                      Paris|              null|\n",
      "+-----------+-----------+------------------+------------+--------+-----------------+-----------------+----------+-----+----------+------------+--------------------+------------------+-----------------+---------------------------+------------------+\n",
      "\n"
     ]
    }
   ],
   "source": [
    "df_parsed.printSchema"
   ]
  },
  {
   "cell_type": "code",
   "execution_count": 60,
   "id": "f51f6d7c-7f09-4447-bc39-2b8288a27e0f",
   "metadata": {},
   "outputs": [
    {
     "name": "stderr",
     "output_type": "stream",
     "text": [
      "                                                                                \r"
     ]
    },
    {
     "name": "stdout",
     "output_type": "stream",
     "text": [
      "-------------------------------------------\n",
      "Batch: 91\n",
      "-------------------------------------------\n",
      "+-----------+--------------------+\n",
      "|total_count|             results|\n",
      "+-----------+--------------------+\n",
      "|       1496|[{9020, Toudouze ...|\n",
      "+-----------+--------------------+\n",
      "\n",
      "-------------------------------------------\n",
      "Batch: 91\n",
      "-------------------------------------------\n",
      "+-----------+-----------+------------------+------------+--------+-----------------+-----------------+----------+-----+----------+------------+--------------------+------------------+-----------------+---------------------------+------------------+\n",
      "|total_count|stationcode|              name|is_installed|capacity|numdocksavailable|numbikesavailable|mechanical|ebike|is_renting|is_returning|             duedate|         longitude|         latitude|nom_arrondissement_communes|code_insee_commune|\n",
      "+-----------+-----------+------------------+------------+--------+-----------------+-----------------+----------+-----+----------+------------+--------------------+------------------+-----------------+---------------------------+------------------+\n",
      "|       1496|       9020|Toudouze - Clauzel|         OUI|      21|               18|                3|         1|    2|       OUI|         OUI|2024-07-27T20:58:...|2.3373600840568547|48.87929591733507|                      Paris|              null|\n",
      "+-----------+-----------+------------------+------------+--------+-----------------+-----------------+----------+-----+----------+------------+--------------------+------------------+-----------------+---------------------------+------------------+\n",
      "\n",
      "-------------------------------------------\n",
      "Batch: 91\n",
      "-------------------------------------------\n",
      "+-----------+-----------+------------------+------------+--------+-----------------+-----------------+----------+-----+----------+------------+--------------------+------------------+-----------------+---------------------------+------------------+\n",
      "|total_count|stationcode|              name|is_installed|capacity|numdocksavailable|numbikesavailable|mechanical|ebike|is_renting|is_returning|             duedate|         longitude|         latitude|nom_arrondissement_communes|code_insee_commune|\n",
      "+-----------+-----------+------------------+------------+--------+-----------------+-----------------+----------+-----+----------+------------+--------------------+------------------+-----------------+---------------------------+------------------+\n",
      "|       1496|       9020|Toudouze - Clauzel|         OUI|      21|               18|                3|         1|    2|       OUI|         OUI|2024-07-27T20:58:...|2.3373600840568547|48.87929591733507|                      Paris|              null|\n",
      "+-----------+-----------+------------------+------------+--------+-----------------+-----------------+----------+-----+----------+------------+--------------------+------------------+-----------------+---------------------------+------------------+\n",
      "\n"
     ]
    }
   ],
   "source": [
    "\n",
    "# Explode the results array into individual rows\n",
    "df_exploded = df_parsed.select(\"total_count\",\"timestamp\", explode(col(\"results\")).alias(\"result\"))\n",
    "\n",
    "# Select the necessary fields from the exploded results\n",
    "df_result = df_exploded.select(\n",
    "    col(\"total_count\"),\n",
    "    col(\"result.stationcode\"),\n",
    "    col(\"result.name\"),\n",
    "    col(\"result.is_installed\"),\n",
    "    col(\"result.capacity\"),\n",
    "    col(\"result.numdocksavailable\"),\n",
    "    col(\"result.numbikesavailable\"),\n",
    "    col(\"result.mechanical\"),\n",
    "    col(\"result.ebike\"),\n",
    "    col(\"result.is_renting\"),\n",
    "    col(\"result.is_returning\"),\n",
    "    col(\"result.duedate\"),\n",
    "    col(\"result.coordonnees_geo.lon\").alias(\"longitude\"),\n",
    "    col(\"result.coordonnees_geo.lat\").alias(\"latitude\"),\n",
    "    col(\"result.nom_arrondissement_communes\"),\n",
    "    col(\"result.code_insee_commune\"),\n",
    "    col(\"timestamp\"),\n",
    ")\n",
    "\n",
    "# Write the results to the console for debugging (optional)\n",
    "#query = df_result.writeStream \\\n",
    "#.outputMode(\"append\") \\\n",
    "#    .format(\"console\") \\\n",
    "#    .start()\n",
    "\n",
    "#query.awaitTermination()\n"
   ]
  },
  {
   "cell_type": "code",
   "execution_count": 61,
   "id": "91278020-5477-4e13-9995-e9bb753a5b39",
   "metadata": {},
   "outputs": [
    {
     "ename": "AnalysisException",
     "evalue": "Event time must be defined on a window or a timestamp, but timestamp is of type string;\nEventTimeWatermark timestamp#19864: string, 1 minutes\n+- Project [total_count#19870, result#20536.stationcode AS stationcode#20542, result#20536.name AS name#20543, result#20536.is_installed AS is_installed#20544, result#20536.capacity AS capacity#20545, result#20536.numdocksavailable AS numdocksavailable#20546, result#20536.numbikesavailable AS numbikesavailable#20547, result#20536.mechanical AS mechanical#20548, result#20536.ebike AS ebike#20549, result#20536.is_renting AS is_renting#20550, result#20536.is_returning AS is_returning#20551, result#20536.duedate AS duedate#20552, result#20536.coordonnees_geo[lon] AS longitude#20540, result#20536.coordonnees_geo[lat] AS latitude#20541, result#20536.nom_arrondissement_communes AS nom_arrondissement_communes#20555, result#20536.code_insee_commune AS code_insee_commune#20556, timestamp#19864]\n   +- Project [total_count#19870, timestamp#19864, result#20536]\n      +- Generate explode(results#19871), false, [result#20536]\n         +- Project [data#19867.total_count AS total_count#19870, data#19867.results AS results#19871, timestamp#19864]\n            +- Project [from_json(StructField(total_count,IntegerType,true), StructField(results,ArrayType(StructType(StructField(stationcode,StringType,true),StructField(name,StringType,true),StructField(is_installed,StringType,true),StructField(capacity,IntegerType,true),StructField(numdocksavailable,IntegerType,true),StructField(numbikesavailable,IntegerType,true),StructField(mechanical,IntegerType,true),StructField(ebike,IntegerType,true),StructField(is_renting,StringType,true),StructField(is_returning,StringType,true),StructField(duedate,StringType,true),StructField(coordonnees_geo,MapType(StringType,DoubleType,true),true),StructField(nom_arrondissement_communes,StringType,true),StructField(code_insee_commune,StringType,true)),true),true), value#19863, Some(Europe/Berlin)) AS data#19867, timestamp#19864]\n               +- Project [cast(value#19850 as string) AS value#19863, cast(timestamp#19854 as string) AS timestamp#19864]\n                  +- StreamingRelationV2 org.apache.spark.sql.kafka010.KafkaSourceProvider@6d6893ae, kafka, org.apache.spark.sql.kafka010.KafkaSourceProvider$KafkaTable@3088f97b, [startingOffsets=earliest, kafka.bootstrap.servers=localhost:9092, subscribe=velib_bikes], [key#19849, value#19850, topic#19851, partition#19852, offset#19853L, timestamp#19854, timestampType#19855], StreamingRelation DataSource(org.apache.spark.sql.SparkSession@54e75c00,kafka,List(),None,List(),None,Map(kafka.bootstrap.servers -> localhost:9092, subscribe -> velib_bikes, startingOffsets -> earliest),None), kafka, [key#19842, value#19843, topic#19844, partition#19845, offset#19846L, timestamp#19847, timestampType#19848]\n",
     "output_type": "error",
     "traceback": [
      "\u001b[0;31m---------------------------------------------------------------------------\u001b[0m",
      "\u001b[0;31mAnalysisException\u001b[0m                         Traceback (most recent call last)",
      "Cell \u001b[0;32mIn[61], line 3\u001b[0m\n\u001b[1;32m      1\u001b[0m window_duration \u001b[38;5;241m=\u001b[39m \u001b[38;5;124m'\u001b[39m\u001b[38;5;124m1 minutes\u001b[39m\u001b[38;5;124m'\u001b[39m\n\u001b[1;32m      2\u001b[0m \u001b[38;5;66;03m# Group the tweets by language and timestamp window and count the tweets\u001b[39;00m\n\u001b[0;32m----> 3\u001b[0m df_counts \u001b[38;5;241m=\u001b[39m \u001b[43mdf_result\u001b[49m\u001b[38;5;241;43m.\u001b[39;49m\u001b[43mwithWatermark\u001b[49m\u001b[43m(\u001b[49m\u001b[38;5;124;43m\"\u001b[39;49m\u001b[38;5;124;43mtimestamp\u001b[39;49m\u001b[38;5;124;43m\"\u001b[39;49m\u001b[43m,\u001b[49m\u001b[43m \u001b[49m\u001b[43mwindow_duration\u001b[49m\u001b[43m)\u001b[49m\n\u001b[1;32m      5\u001b[0m \u001b[38;5;66;03m#query_df = df_counts.writeStream \\\u001b[39;00m\n\u001b[1;32m      6\u001b[0m \u001b[38;5;66;03m#    .outputMode(\"complete\") \\\u001b[39;00m\n\u001b[1;32m      7\u001b[0m \u001b[38;5;66;03m#    .format(\"console\") \\\u001b[39;00m\n\u001b[1;32m      8\u001b[0m \u001b[38;5;66;03m#    .option(\"truncate\", False) \\\u001b[39;00m\n\u001b[1;32m      9\u001b[0m \u001b[38;5;66;03m#    .start()\u001b[39;00m\n\u001b[1;32m     11\u001b[0m query \u001b[38;5;241m=\u001b[39m df_counts\u001b[38;5;241m.\u001b[39mwriteStream\\\n\u001b[1;32m     12\u001b[0m   \u001b[38;5;241m.\u001b[39mtrigger(processingTime\u001b[38;5;241m=\u001b[39m\u001b[38;5;124m\"\u001b[39m\u001b[38;5;124m1 minutes\u001b[39m\u001b[38;5;124m\"\u001b[39m)\\\n\u001b[1;32m     13\u001b[0m   \u001b[38;5;241m.\u001b[39moption(\u001b[38;5;124m\"\u001b[39m\u001b[38;5;124mcheckpointLocation\u001b[39m\u001b[38;5;124m\"\u001b[39m, \u001b[38;5;124m\"\u001b[39m\u001b[38;5;124mgs://spotify_data_rg_01/checkpoint\u001b[39m\u001b[38;5;124m\"\u001b[39m, header\u001b[38;5;241m=\u001b[39m \u001b[38;5;28;01mTrue\u001b[39;00m)\\\n\u001b[0;32m   (...)\u001b[0m\n\u001b[1;32m     16\u001b[0m   \u001b[38;5;241m.\u001b[39mstart()\\\n\u001b[1;32m     17\u001b[0m   \u001b[38;5;241m.\u001b[39mawaitTermination()\n",
      "File \u001b[0;32m~/.local/lib/python3.10/site-packages/pyspark/sql/dataframe.py:746\u001b[0m, in \u001b[0;36mDataFrame.withWatermark\u001b[0;34m(self, eventTime, delayThreshold)\u001b[0m\n\u001b[1;32m    744\u001b[0m \u001b[38;5;28;01mif\u001b[39;00m \u001b[38;5;129;01mnot\u001b[39;00m delayThreshold \u001b[38;5;129;01mor\u001b[39;00m \u001b[38;5;28mtype\u001b[39m(delayThreshold) \u001b[38;5;129;01mis\u001b[39;00m \u001b[38;5;129;01mnot\u001b[39;00m \u001b[38;5;28mstr\u001b[39m:\n\u001b[1;32m    745\u001b[0m     \u001b[38;5;28;01mraise\u001b[39;00m \u001b[38;5;167;01mTypeError\u001b[39;00m(\u001b[38;5;124m\"\u001b[39m\u001b[38;5;124mdelayThreshold should be provided as a string interval\u001b[39m\u001b[38;5;124m\"\u001b[39m)\n\u001b[0;32m--> 746\u001b[0m jdf \u001b[38;5;241m=\u001b[39m \u001b[38;5;28;43mself\u001b[39;49m\u001b[38;5;241;43m.\u001b[39;49m\u001b[43m_jdf\u001b[49m\u001b[38;5;241;43m.\u001b[39;49m\u001b[43mwithWatermark\u001b[49m\u001b[43m(\u001b[49m\u001b[43meventTime\u001b[49m\u001b[43m,\u001b[49m\u001b[43m \u001b[49m\u001b[43mdelayThreshold\u001b[49m\u001b[43m)\u001b[49m\n\u001b[1;32m    747\u001b[0m \u001b[38;5;28;01mreturn\u001b[39;00m DataFrame(jdf, \u001b[38;5;28mself\u001b[39m\u001b[38;5;241m.\u001b[39msparkSession)\n",
      "File \u001b[0;32m~/.local/lib/python3.10/site-packages/py4j/java_gateway.py:1321\u001b[0m, in \u001b[0;36mJavaMember.__call__\u001b[0;34m(self, *args)\u001b[0m\n\u001b[1;32m   1315\u001b[0m command \u001b[38;5;241m=\u001b[39m proto\u001b[38;5;241m.\u001b[39mCALL_COMMAND_NAME \u001b[38;5;241m+\u001b[39m\\\n\u001b[1;32m   1316\u001b[0m     \u001b[38;5;28mself\u001b[39m\u001b[38;5;241m.\u001b[39mcommand_header \u001b[38;5;241m+\u001b[39m\\\n\u001b[1;32m   1317\u001b[0m     args_command \u001b[38;5;241m+\u001b[39m\\\n\u001b[1;32m   1318\u001b[0m     proto\u001b[38;5;241m.\u001b[39mEND_COMMAND_PART\n\u001b[1;32m   1320\u001b[0m answer \u001b[38;5;241m=\u001b[39m \u001b[38;5;28mself\u001b[39m\u001b[38;5;241m.\u001b[39mgateway_client\u001b[38;5;241m.\u001b[39msend_command(command)\n\u001b[0;32m-> 1321\u001b[0m return_value \u001b[38;5;241m=\u001b[39m \u001b[43mget_return_value\u001b[49m\u001b[43m(\u001b[49m\n\u001b[1;32m   1322\u001b[0m \u001b[43m    \u001b[49m\u001b[43manswer\u001b[49m\u001b[43m,\u001b[49m\u001b[43m \u001b[49m\u001b[38;5;28;43mself\u001b[39;49m\u001b[38;5;241;43m.\u001b[39;49m\u001b[43mgateway_client\u001b[49m\u001b[43m,\u001b[49m\u001b[43m \u001b[49m\u001b[38;5;28;43mself\u001b[39;49m\u001b[38;5;241;43m.\u001b[39;49m\u001b[43mtarget_id\u001b[49m\u001b[43m,\u001b[49m\u001b[43m \u001b[49m\u001b[38;5;28;43mself\u001b[39;49m\u001b[38;5;241;43m.\u001b[39;49m\u001b[43mname\u001b[49m\u001b[43m)\u001b[49m\n\u001b[1;32m   1324\u001b[0m \u001b[38;5;28;01mfor\u001b[39;00m temp_arg \u001b[38;5;129;01min\u001b[39;00m temp_args:\n\u001b[1;32m   1325\u001b[0m     temp_arg\u001b[38;5;241m.\u001b[39m_detach()\n",
      "File \u001b[0;32m~/.local/lib/python3.10/site-packages/pyspark/sql/utils.py:196\u001b[0m, in \u001b[0;36mcapture_sql_exception.<locals>.deco\u001b[0;34m(*a, **kw)\u001b[0m\n\u001b[1;32m    192\u001b[0m converted \u001b[38;5;241m=\u001b[39m convert_exception(e\u001b[38;5;241m.\u001b[39mjava_exception)\n\u001b[1;32m    193\u001b[0m \u001b[38;5;28;01mif\u001b[39;00m \u001b[38;5;129;01mnot\u001b[39;00m \u001b[38;5;28misinstance\u001b[39m(converted, UnknownException):\n\u001b[1;32m    194\u001b[0m     \u001b[38;5;66;03m# Hide where the exception came from that shows a non-Pythonic\u001b[39;00m\n\u001b[1;32m    195\u001b[0m     \u001b[38;5;66;03m# JVM exception message.\u001b[39;00m\n\u001b[0;32m--> 196\u001b[0m     \u001b[38;5;28;01mraise\u001b[39;00m converted \u001b[38;5;28;01mfrom\u001b[39;00m \u001b[38;5;28;01mNone\u001b[39;00m\n\u001b[1;32m    197\u001b[0m \u001b[38;5;28;01melse\u001b[39;00m:\n\u001b[1;32m    198\u001b[0m     \u001b[38;5;28;01mraise\u001b[39;00m\n",
      "\u001b[0;31mAnalysisException\u001b[0m: Event time must be defined on a window or a timestamp, but timestamp is of type string;\nEventTimeWatermark timestamp#19864: string, 1 minutes\n+- Project [total_count#19870, result#20536.stationcode AS stationcode#20542, result#20536.name AS name#20543, result#20536.is_installed AS is_installed#20544, result#20536.capacity AS capacity#20545, result#20536.numdocksavailable AS numdocksavailable#20546, result#20536.numbikesavailable AS numbikesavailable#20547, result#20536.mechanical AS mechanical#20548, result#20536.ebike AS ebike#20549, result#20536.is_renting AS is_renting#20550, result#20536.is_returning AS is_returning#20551, result#20536.duedate AS duedate#20552, result#20536.coordonnees_geo[lon] AS longitude#20540, result#20536.coordonnees_geo[lat] AS latitude#20541, result#20536.nom_arrondissement_communes AS nom_arrondissement_communes#20555, result#20536.code_insee_commune AS code_insee_commune#20556, timestamp#19864]\n   +- Project [total_count#19870, timestamp#19864, result#20536]\n      +- Generate explode(results#19871), false, [result#20536]\n         +- Project [data#19867.total_count AS total_count#19870, data#19867.results AS results#19871, timestamp#19864]\n            +- Project [from_json(StructField(total_count,IntegerType,true), StructField(results,ArrayType(StructType(StructField(stationcode,StringType,true),StructField(name,StringType,true),StructField(is_installed,StringType,true),StructField(capacity,IntegerType,true),StructField(numdocksavailable,IntegerType,true),StructField(numbikesavailable,IntegerType,true),StructField(mechanical,IntegerType,true),StructField(ebike,IntegerType,true),StructField(is_renting,StringType,true),StructField(is_returning,StringType,true),StructField(duedate,StringType,true),StructField(coordonnees_geo,MapType(StringType,DoubleType,true),true),StructField(nom_arrondissement_communes,StringType,true),StructField(code_insee_commune,StringType,true)),true),true), value#19863, Some(Europe/Berlin)) AS data#19867, timestamp#19864]\n               +- Project [cast(value#19850 as string) AS value#19863, cast(timestamp#19854 as string) AS timestamp#19864]\n                  +- StreamingRelationV2 org.apache.spark.sql.kafka010.KafkaSourceProvider@6d6893ae, kafka, org.apache.spark.sql.kafka010.KafkaSourceProvider$KafkaTable@3088f97b, [startingOffsets=earliest, kafka.bootstrap.servers=localhost:9092, subscribe=velib_bikes], [key#19849, value#19850, topic#19851, partition#19852, offset#19853L, timestamp#19854, timestampType#19855], StreamingRelation DataSource(org.apache.spark.sql.SparkSession@54e75c00,kafka,List(),None,List(),None,Map(kafka.bootstrap.servers -> localhost:9092, subscribe -> velib_bikes, startingOffsets -> earliest),None), kafka, [key#19842, value#19843, topic#19844, partition#19845, offset#19846L, timestamp#19847, timestampType#19848]\n"
     ]
    },
    {
     "name": "stdout",
     "output_type": "stream",
     "text": [
      "-------------------------------------------\n",
      "Batch: 92\n",
      "-------------------------------------------\n",
      "-------------------------------------------\n",
      "Batch: 92\n",
      "-------------------------------------------\n",
      "+-----------+--------------------+\n",
      "|total_count|             results|\n",
      "+-----------+--------------------+\n",
      "|       1496|[{9020, Toudouze ...|\n",
      "+-----------+--------------------+\n",
      "\n",
      "+-----------+-----------+------------------+------------+--------+-----------------+-----------------+----------+-----+----------+------------+--------------------+------------------+-----------------+---------------------------+------------------+\n",
      "|total_count|stationcode|              name|is_installed|capacity|numdocksavailable|numbikesavailable|mechanical|ebike|is_renting|is_returning|             duedate|         longitude|         latitude|nom_arrondissement_communes|code_insee_commune|\n",
      "+-----------+-----------+------------------+------------+--------+-----------------+-----------------+----------+-----+----------+------------+--------------------+------------------+-----------------+---------------------------+------------------+\n",
      "|       1496|       9020|Toudouze - Clauzel|         OUI|      21|               18|                3|         1|    2|       OUI|         OUI|2024-07-27T20:58:...|2.3373600840568547|48.87929591733507|                      Paris|              null|\n",
      "+-----------+-----------+------------------+------------+--------+-----------------+-----------------+----------+-----+----------+------------+--------------------+------------------+-----------------+---------------------------+------------------+\n",
      "\n",
      "-------------------------------------------\n",
      "Batch: 92\n",
      "-------------------------------------------\n",
      "+-----------+-----------+------------------+------------+--------+-----------------+-----------------+----------+-----+----------+------------+--------------------+------------------+-----------------+---------------------------+------------------+\n",
      "|total_count|stationcode|              name|is_installed|capacity|numdocksavailable|numbikesavailable|mechanical|ebike|is_renting|is_returning|             duedate|         longitude|         latitude|nom_arrondissement_communes|code_insee_commune|\n",
      "+-----------+-----------+------------------+------------+--------+-----------------+-----------------+----------+-----+----------+------------+--------------------+------------------+-----------------+---------------------------+------------------+\n",
      "|       1496|       9020|Toudouze - Clauzel|         OUI|      21|               18|                3|         1|    2|       OUI|         OUI|2024-07-27T20:58:...|2.3373600840568547|48.87929591733507|                      Paris|              null|\n",
      "+-----------+-----------+------------------+------------+--------+-----------------+-----------------+----------+-----+----------+------------+--------------------+------------------+-----------------+---------------------------+------------------+\n",
      "\n",
      "-------------------------------------------\n",
      "Batch: 93\n",
      "-------------------------------------------\n",
      "+-----------+--------------------+\n",
      "|total_count|             results|\n",
      "+-----------+--------------------+\n",
      "|       1496|[{9020, Toudouze ...|\n",
      "+-----------+--------------------+\n",
      "\n",
      "-------------------------------------------\n",
      "Batch: 93\n",
      "-------------------------------------------\n",
      "+-----------+-----------+------------------+------------+--------+-----------------+-----------------+----------+-----+----------+------------+--------------------+------------------+-----------------+---------------------------+------------------+\n",
      "|total_count|stationcode|              name|is_installed|capacity|numdocksavailable|numbikesavailable|mechanical|ebike|is_renting|is_returning|             duedate|         longitude|         latitude|nom_arrondissement_communes|code_insee_commune|\n",
      "+-----------+-----------+------------------+------------+--------+-----------------+-----------------+----------+-----+----------+------------+--------------------+------------------+-----------------+---------------------------+------------------+\n",
      "|       1496|       9020|Toudouze - Clauzel|         OUI|      21|               18|                3|         1|    2|       OUI|         OUI|2024-07-27T20:58:...|2.3373600840568547|48.87929591733507|                      Paris|              null|\n",
      "+-----------+-----------+------------------+------------+--------+-----------------+-----------------+----------+-----+----------+------------+--------------------+------------------+-----------------+---------------------------+------------------+\n",
      "\n",
      "-------------------------------------------\n",
      "Batch: 93\n",
      "-------------------------------------------\n",
      "+-----------+-----------+------------------+------------+--------+-----------------+-----------------+----------+-----+----------+------------+--------------------+------------------+-----------------+---------------------------+------------------+\n",
      "|total_count|stationcode|              name|is_installed|capacity|numdocksavailable|numbikesavailable|mechanical|ebike|is_renting|is_returning|             duedate|         longitude|         latitude|nom_arrondissement_communes|code_insee_commune|\n",
      "+-----------+-----------+------------------+------------+--------+-----------------+-----------------+----------+-----+----------+------------+--------------------+------------------+-----------------+---------------------------+------------------+\n",
      "|       1496|       9020|Toudouze - Clauzel|         OUI|      21|               18|                3|         1|    2|       OUI|         OUI|2024-07-27T20:58:...|2.3373600840568547|48.87929591733507|                      Paris|              null|\n",
      "+-----------+-----------+------------------+------------+--------+-----------------+-----------------+----------+-----+----------+------------+--------------------+------------------+-----------------+---------------------------+------------------+\n",
      "\n"
     ]
    },
    {
     "name": "stderr",
     "output_type": "stream",
     "text": [
      "                                                                                \r"
     ]
    },
    {
     "name": "stdout",
     "output_type": "stream",
     "text": [
      "-------------------------------------------\n",
      "Batch: 94\n",
      "-------------------------------------------\n",
      "+-----------+--------------------+\n",
      "|total_count|             results|\n",
      "+-----------+--------------------+\n",
      "|       1496|[{9020, Toudouze ...|\n",
      "+-----------+--------------------+\n",
      "\n",
      "-------------------------------------------\n",
      "Batch: 94\n",
      "-------------------------------------------\n",
      "+-----------+-----------+------------------+------------+--------+-----------------+-----------------+----------+-----+----------+------------+--------------------+------------------+-----------------+---------------------------+------------------+\n",
      "|total_count|stationcode|              name|is_installed|capacity|numdocksavailable|numbikesavailable|mechanical|ebike|is_renting|is_returning|             duedate|         longitude|         latitude|nom_arrondissement_communes|code_insee_commune|\n",
      "+-----------+-----------+------------------+------------+--------+-----------------+-----------------+----------+-----+----------+------------+--------------------+------------------+-----------------+---------------------------+------------------+\n",
      "|       1496|       9020|Toudouze - Clauzel|         OUI|      21|               18|                3|         1|    2|       OUI|         OUI|2024-07-27T20:58:...|2.3373600840568547|48.87929591733507|                      Paris|              null|\n",
      "+-----------+-----------+------------------+------------+--------+-----------------+-----------------+----------+-----+----------+------------+--------------------+------------------+-----------------+---------------------------+------------------+\n",
      "\n",
      "-------------------------------------------\n",
      "Batch: 94\n",
      "-------------------------------------------\n",
      "+-----------+-----------+------------------+------------+--------+-----------------+-----------------+----------+-----+----------+------------+--------------------+------------------+-----------------+---------------------------+------------------+\n",
      "|total_count|stationcode|              name|is_installed|capacity|numdocksavailable|numbikesavailable|mechanical|ebike|is_renting|is_returning|             duedate|         longitude|         latitude|nom_arrondissement_communes|code_insee_commune|\n",
      "+-----------+-----------+------------------+------------+--------+-----------------+-----------------+----------+-----+----------+------------+--------------------+------------------+-----------------+---------------------------+------------------+\n",
      "|       1496|       9020|Toudouze - Clauzel|         OUI|      21|               18|                3|         1|    2|       OUI|         OUI|2024-07-27T20:58:...|2.3373600840568547|48.87929591733507|                      Paris|              null|\n",
      "+-----------+-----------+------------------+------------+--------+-----------------+-----------------+----------+-----+----------+------------+--------------------+------------------+-----------------+---------------------------+------------------+\n",
      "\n",
      "-------------------------------------------\n",
      "Batch: 95\n",
      "-------------------------------------------\n",
      "-------------------------------------------\n",
      "Batch: 95\n",
      "-------------------------------------------\n",
      "+-----------+--------------------+\n",
      "|total_count|             results|\n",
      "+-----------+--------------------+\n",
      "|       1496|[{9020, Toudouze ...|\n",
      "+-----------+--------------------+\n",
      "\n",
      "+-----------+-----------+------------------+------------+--------+-----------------+-----------------+----------+-----+----------+------------+--------------------+------------------+-----------------+---------------------------+------------------+\n",
      "|total_count|stationcode|              name|is_installed|capacity|numdocksavailable|numbikesavailable|mechanical|ebike|is_renting|is_returning|             duedate|         longitude|         latitude|nom_arrondissement_communes|code_insee_commune|\n",
      "+-----------+-----------+------------------+------------+--------+-----------------+-----------------+----------+-----+----------+------------+--------------------+------------------+-----------------+---------------------------+------------------+\n",
      "|       1496|       9020|Toudouze - Clauzel|         OUI|      21|               18|                3|         1|    2|       OUI|         OUI|2024-07-27T20:58:...|2.3373600840568547|48.87929591733507|                      Paris|              null|\n",
      "+-----------+-----------+------------------+------------+--------+-----------------+-----------------+----------+-----+----------+------------+--------------------+------------------+-----------------+---------------------------+------------------+\n",
      "\n",
      "-------------------------------------------\n",
      "Batch: 95\n",
      "-------------------------------------------\n",
      "+-----------+-----------+------------------+------------+--------+-----------------+-----------------+----------+-----+----------+------------+--------------------+------------------+-----------------+---------------------------+------------------+\n",
      "|total_count|stationcode|              name|is_installed|capacity|numdocksavailable|numbikesavailable|mechanical|ebike|is_renting|is_returning|             duedate|         longitude|         latitude|nom_arrondissement_communes|code_insee_commune|\n",
      "+-----------+-----------+------------------+------------+--------+-----------------+-----------------+----------+-----+----------+------------+--------------------+------------------+-----------------+---------------------------+------------------+\n",
      "|       1496|       9020|Toudouze - Clauzel|         OUI|      21|               18|                3|         1|    2|       OUI|         OUI|2024-07-27T20:58:...|2.3373600840568547|48.87929591733507|                      Paris|              null|\n",
      "+-----------+-----------+------------------+------------+--------+-----------------+-----------------+----------+-----+----------+------------+--------------------+------------------+-----------------+---------------------------+------------------+\n",
      "\n",
      "-------------------------------------------\n",
      "Batch: 96\n",
      "-------------------------------------------\n",
      "-------------------------------------------\n",
      "Batch: 96\n",
      "-------------------------------------------\n",
      "+-----------+--------------------+\n",
      "|total_count|             results|\n",
      "+-----------+--------------------+\n",
      "|       1496|[{9020, Toudouze ...|\n",
      "+-----------+--------------------+\n",
      "\n",
      "+-----------+-----------+------------------+------------+--------+-----------------+-----------------+----------+-----+----------+------------+--------------------+------------------+-----------------+---------------------------+------------------+\n",
      "|total_count|stationcode|              name|is_installed|capacity|numdocksavailable|numbikesavailable|mechanical|ebike|is_renting|is_returning|             duedate|         longitude|         latitude|nom_arrondissement_communes|code_insee_commune|\n",
      "+-----------+-----------+------------------+------------+--------+-----------------+-----------------+----------+-----+----------+------------+--------------------+------------------+-----------------+---------------------------+------------------+\n",
      "|       1496|       9020|Toudouze - Clauzel|         OUI|      21|               18|                3|         1|    2|       OUI|         OUI|2024-07-27T20:58:...|2.3373600840568547|48.87929591733507|                      Paris|              null|\n",
      "+-----------+-----------+------------------+------------+--------+-----------------+-----------------+----------+-----+----------+------------+--------------------+------------------+-----------------+---------------------------+------------------+\n",
      "\n",
      "-------------------------------------------\n",
      "Batch: 96\n",
      "-------------------------------------------\n",
      "+-----------+-----------+------------------+------------+--------+-----------------+-----------------+----------+-----+----------+------------+--------------------+------------------+-----------------+---------------------------+------------------+\n",
      "|total_count|stationcode|              name|is_installed|capacity|numdocksavailable|numbikesavailable|mechanical|ebike|is_renting|is_returning|             duedate|         longitude|         latitude|nom_arrondissement_communes|code_insee_commune|\n",
      "+-----------+-----------+------------------+------------+--------+-----------------+-----------------+----------+-----+----------+------------+--------------------+------------------+-----------------+---------------------------+------------------+\n",
      "|       1496|       9020|Toudouze - Clauzel|         OUI|      21|               18|                3|         1|    2|       OUI|         OUI|2024-07-27T20:58:...|2.3373600840568547|48.87929591733507|                      Paris|              null|\n",
      "+-----------+-----------+------------------+------------+--------+-----------------+-----------------+----------+-----+----------+------------+--------------------+------------------+-----------------+---------------------------+------------------+\n",
      "\n",
      "-------------------------------------------\n",
      "Batch: 97\n",
      "-------------------------------------------\n",
      "-------------------------------------------\n",
      "Batch: 97\n",
      "-------------------------------------------\n",
      "+-----------+--------------------+\n",
      "|total_count|             results|\n",
      "+-----------+--------------------+\n",
      "|       1496|[{9020, Toudouze ...|\n",
      "+-----------+--------------------+\n",
      "\n",
      "+-----------+-----------+------------------+------------+--------+-----------------+-----------------+----------+-----+----------+------------+--------------------+------------------+-----------------+---------------------------+------------------+\n",
      "|total_count|stationcode|              name|is_installed|capacity|numdocksavailable|numbikesavailable|mechanical|ebike|is_renting|is_returning|             duedate|         longitude|         latitude|nom_arrondissement_communes|code_insee_commune|\n",
      "+-----------+-----------+------------------+------------+--------+-----------------+-----------------+----------+-----+----------+------------+--------------------+------------------+-----------------+---------------------------+------------------+\n",
      "|       1496|       9020|Toudouze - Clauzel|         OUI|      21|               18|                3|         1|    2|       OUI|         OUI|2024-07-27T20:58:...|2.3373600840568547|48.87929591733507|                      Paris|              null|\n",
      "+-----------+-----------+------------------+------------+--------+-----------------+-----------------+----------+-----+----------+------------+--------------------+------------------+-----------------+---------------------------+------------------+\n",
      "\n",
      "-------------------------------------------\n",
      "Batch: 97\n",
      "-------------------------------------------\n",
      "+-----------+-----------+------------------+------------+--------+-----------------+-----------------+----------+-----+----------+------------+--------------------+------------------+-----------------+---------------------------+------------------+\n",
      "|total_count|stationcode|              name|is_installed|capacity|numdocksavailable|numbikesavailable|mechanical|ebike|is_renting|is_returning|             duedate|         longitude|         latitude|nom_arrondissement_communes|code_insee_commune|\n",
      "+-----------+-----------+------------------+------------+--------+-----------------+-----------------+----------+-----+----------+------------+--------------------+------------------+-----------------+---------------------------+------------------+\n",
      "|       1496|       9020|Toudouze - Clauzel|         OUI|      21|               18|                3|         1|    2|       OUI|         OUI|2024-07-27T20:58:...|2.3373600840568547|48.87929591733507|                      Paris|              null|\n",
      "+-----------+-----------+------------------+------------+--------+-----------------+-----------------+----------+-----+----------+------------+--------------------+------------------+-----------------+---------------------------+------------------+\n",
      "\n",
      "-------------------------------------------\n",
      "Batch: 98\n",
      "-------------------------------------------\n",
      "-------------------------------------------\n",
      "Batch: 98\n",
      "-------------------------------------------\n",
      "+-----------+--------------------+\n",
      "|total_count|             results|\n",
      "+-----------+--------------------+\n",
      "|       1496|[{9020, Toudouze ...|\n",
      "+-----------+--------------------+\n",
      "\n",
      "+-----------+-----------+------------------+------------+--------+-----------------+-----------------+----------+-----+----------+------------+--------------------+------------------+-----------------+---------------------------+------------------+\n",
      "|total_count|stationcode|              name|is_installed|capacity|numdocksavailable|numbikesavailable|mechanical|ebike|is_renting|is_returning|             duedate|         longitude|         latitude|nom_arrondissement_communes|code_insee_commune|\n",
      "+-----------+-----------+------------------+------------+--------+-----------------+-----------------+----------+-----+----------+------------+--------------------+------------------+-----------------+---------------------------+------------------+\n",
      "|       1496|       9020|Toudouze - Clauzel|         OUI|      21|               18|                3|         1|    2|       OUI|         OUI|2024-07-27T20:58:...|2.3373600840568547|48.87929591733507|                      Paris|              null|\n",
      "+-----------+-----------+------------------+------------+--------+-----------------+-----------------+----------+-----+----------+------------+--------------------+------------------+-----------------+---------------------------+------------------+\n",
      "\n",
      "-------------------------------------------\n",
      "Batch: 98\n",
      "-------------------------------------------\n",
      "+-----------+-----------+------------------+------------+--------+-----------------+-----------------+----------+-----+----------+------------+--------------------+------------------+-----------------+---------------------------+------------------+\n",
      "|total_count|stationcode|              name|is_installed|capacity|numdocksavailable|numbikesavailable|mechanical|ebike|is_renting|is_returning|             duedate|         longitude|         latitude|nom_arrondissement_communes|code_insee_commune|\n",
      "+-----------+-----------+------------------+------------+--------+-----------------+-----------------+----------+-----+----------+------------+--------------------+------------------+-----------------+---------------------------+------------------+\n",
      "|       1496|       9020|Toudouze - Clauzel|         OUI|      21|               18|                3|         1|    2|       OUI|         OUI|2024-07-27T20:58:...|2.3373600840568547|48.87929591733507|                      Paris|              null|\n",
      "+-----------+-----------+------------------+------------+--------+-----------------+-----------------+----------+-----+----------+------------+--------------------+------------------+-----------------+---------------------------+------------------+\n",
      "\n",
      "-------------------------------------------\n",
      "Batch: 99\n",
      "-------------------------------------------\n",
      "-------------------------------------------\n",
      "Batch: 99\n",
      "-------------------------------------------\n",
      "+-----------+--------------------+\n",
      "|total_count|             results|\n",
      "+-----------+--------------------+\n",
      "|       1496|[{9020, Toudouze ...|\n",
      "+-----------+--------------------+\n",
      "\n",
      "+-----------+-----------+------------------+------------+--------+-----------------+-----------------+----------+-----+----------+------------+--------------------+------------------+-----------------+---------------------------+------------------+\n",
      "|total_count|stationcode|              name|is_installed|capacity|numdocksavailable|numbikesavailable|mechanical|ebike|is_renting|is_returning|             duedate|         longitude|         latitude|nom_arrondissement_communes|code_insee_commune|\n",
      "+-----------+-----------+------------------+------------+--------+-----------------+-----------------+----------+-----+----------+------------+--------------------+------------------+-----------------+---------------------------+------------------+\n",
      "|       1496|       9020|Toudouze - Clauzel|         OUI|      21|               18|                3|         1|    2|       OUI|         OUI|2024-07-27T20:58:...|2.3373600840568547|48.87929591733507|                      Paris|              null|\n",
      "+-----------+-----------+------------------+------------+--------+-----------------+-----------------+----------+-----+----------+------------+--------------------+------------------+-----------------+---------------------------+------------------+\n",
      "\n",
      "-------------------------------------------\n",
      "Batch: 99\n",
      "-------------------------------------------\n",
      "+-----------+-----------+------------------+------------+--------+-----------------+-----------------+----------+-----+----------+------------+--------------------+------------------+-----------------+---------------------------+------------------+\n",
      "|total_count|stationcode|              name|is_installed|capacity|numdocksavailable|numbikesavailable|mechanical|ebike|is_renting|is_returning|             duedate|         longitude|         latitude|nom_arrondissement_communes|code_insee_commune|\n",
      "+-----------+-----------+------------------+------------+--------+-----------------+-----------------+----------+-----+----------+------------+--------------------+------------------+-----------------+---------------------------+------------------+\n",
      "|       1496|       9020|Toudouze - Clauzel|         OUI|      21|               18|                3|         1|    2|       OUI|         OUI|2024-07-27T20:58:...|2.3373600840568547|48.87929591733507|                      Paris|              null|\n",
      "+-----------+-----------+------------------+------------+--------+-----------------+-----------------+----------+-----+----------+------------+--------------------+------------------+-----------------+---------------------------+------------------+\n",
      "\n",
      "-------------------------------------------\n",
      "Batch: 100\n",
      "-------------------------------------------\n",
      "+-----------+--------------------+\n",
      "|total_count|             results|\n",
      "+-----------+--------------------+\n",
      "|       1496|[{9020, Toudouze ...|\n",
      "+-----------+--------------------+\n",
      "\n",
      "-------------------------------------------\n",
      "Batch: 100\n",
      "-------------------------------------------\n",
      "+-----------+-----------+------------------+------------+--------+-----------------+-----------------+----------+-----+----------+------------+--------------------+------------------+-----------------+---------------------------+------------------+\n",
      "|total_count|stationcode|              name|is_installed|capacity|numdocksavailable|numbikesavailable|mechanical|ebike|is_renting|is_returning|             duedate|         longitude|         latitude|nom_arrondissement_communes|code_insee_commune|\n",
      "+-----------+-----------+------------------+------------+--------+-----------------+-----------------+----------+-----+----------+------------+--------------------+------------------+-----------------+---------------------------+------------------+\n",
      "|       1496|       9020|Toudouze - Clauzel|         OUI|      21|               18|                3|         1|    2|       OUI|         OUI|2024-07-27T20:58:...|2.3373600840568547|48.87929591733507|                      Paris|              null|\n",
      "+-----------+-----------+------------------+------------+--------+-----------------+-----------------+----------+-----+----------+------------+--------------------+------------------+-----------------+---------------------------+------------------+\n",
      "\n",
      "-------------------------------------------\n",
      "Batch: 100\n",
      "-------------------------------------------\n",
      "+-----------+-----------+------------------+------------+--------+-----------------+-----------------+----------+-----+----------+------------+--------------------+------------------+-----------------+---------------------------+------------------+\n",
      "|total_count|stationcode|              name|is_installed|capacity|numdocksavailable|numbikesavailable|mechanical|ebike|is_renting|is_returning|             duedate|         longitude|         latitude|nom_arrondissement_communes|code_insee_commune|\n",
      "+-----------+-----------+------------------+------------+--------+-----------------+-----------------+----------+-----+----------+------------+--------------------+------------------+-----------------+---------------------------+------------------+\n",
      "|       1496|       9020|Toudouze - Clauzel|         OUI|      21|               18|                3|         1|    2|       OUI|         OUI|2024-07-27T20:58:...|2.3373600840568547|48.87929591733507|                      Paris|              null|\n",
      "+-----------+-----------+------------------+------------+--------+-----------------+-----------------+----------+-----+----------+------------+--------------------+------------------+-----------------+---------------------------+------------------+\n",
      "\n",
      "-------------------------------------------\n",
      "Batch: 101\n",
      "-------------------------------------------\n",
      "-------------------------------------------\n",
      "Batch: 101\n",
      "-------------------------------------------\n",
      "+-----------+--------------------+\n",
      "|total_count|             results|\n",
      "+-----------+--------------------+\n",
      "|       1496|[{9020, Toudouze ...|\n",
      "+-----------+--------------------+\n",
      "\n",
      "+-----------+-----------+------------------+------------+--------+-----------------+-----------------+----------+-----+----------+------------+--------------------+------------------+-----------------+---------------------------+------------------+\n",
      "|total_count|stationcode|              name|is_installed|capacity|numdocksavailable|numbikesavailable|mechanical|ebike|is_renting|is_returning|             duedate|         longitude|         latitude|nom_arrondissement_communes|code_insee_commune|\n",
      "+-----------+-----------+------------------+------------+--------+-----------------+-----------------+----------+-----+----------+------------+--------------------+------------------+-----------------+---------------------------+------------------+\n",
      "|       1496|       9020|Toudouze - Clauzel|         OUI|      21|               18|                3|         1|    2|       OUI|         OUI|2024-07-27T20:58:...|2.3373600840568547|48.87929591733507|                      Paris|              null|\n",
      "+-----------+-----------+------------------+------------+--------+-----------------+-----------------+----------+-----+----------+------------+--------------------+------------------+-----------------+---------------------------+------------------+\n",
      "\n",
      "-------------------------------------------\n",
      "Batch: 101\n",
      "-------------------------------------------\n",
      "+-----------+-----------+------------------+------------+--------+-----------------+-----------------+----------+-----+----------+------------+--------------------+------------------+-----------------+---------------------------+------------------+\n",
      "|total_count|stationcode|              name|is_installed|capacity|numdocksavailable|numbikesavailable|mechanical|ebike|is_renting|is_returning|             duedate|         longitude|         latitude|nom_arrondissement_communes|code_insee_commune|\n",
      "+-----------+-----------+------------------+------------+--------+-----------------+-----------------+----------+-----+----------+------------+--------------------+------------------+-----------------+---------------------------+------------------+\n",
      "|       1496|       9020|Toudouze - Clauzel|         OUI|      21|               18|                3|         1|    2|       OUI|         OUI|2024-07-27T20:58:...|2.3373600840568547|48.87929591733507|                      Paris|              null|\n",
      "+-----------+-----------+------------------+------------+--------+-----------------+-----------------+----------+-----+----------+------------+--------------------+------------------+-----------------+---------------------------+------------------+\n",
      "\n",
      "-------------------------------------------\n",
      "Batch: 102\n",
      "-------------------------------------------\n",
      "-------------------------------------------\n",
      "Batch: 102\n",
      "-------------------------------------------\n",
      "+-----------+--------------------+\n",
      "|total_count|             results|\n",
      "+-----------+--------------------+\n",
      "|       1496|[{9020, Toudouze ...|\n",
      "+-----------+--------------------+\n",
      "\n",
      "+-----------+-----------+------------------+------------+--------+-----------------+-----------------+----------+-----+----------+------------+--------------------+------------------+-----------------+---------------------------+------------------+\n",
      "|total_count|stationcode|              name|is_installed|capacity|numdocksavailable|numbikesavailable|mechanical|ebike|is_renting|is_returning|             duedate|         longitude|         latitude|nom_arrondissement_communes|code_insee_commune|\n",
      "+-----------+-----------+------------------+------------+--------+-----------------+-----------------+----------+-----+----------+------------+--------------------+------------------+-----------------+---------------------------+------------------+\n",
      "|       1496|       9020|Toudouze - Clauzel|         OUI|      21|               18|                3|         1|    2|       OUI|         OUI|2024-07-27T20:58:...|2.3373600840568547|48.87929591733507|                      Paris|              null|\n",
      "+-----------+-----------+------------------+------------+--------+-----------------+-----------------+----------+-----+----------+------------+--------------------+------------------+-----------------+---------------------------+------------------+\n",
      "\n",
      "-------------------------------------------\n",
      "Batch: 102\n",
      "-------------------------------------------\n",
      "+-----------+-----------+------------------+------------+--------+-----------------+-----------------+----------+-----+----------+------------+--------------------+------------------+-----------------+---------------------------+------------------+\n",
      "|total_count|stationcode|              name|is_installed|capacity|numdocksavailable|numbikesavailable|mechanical|ebike|is_renting|is_returning|             duedate|         longitude|         latitude|nom_arrondissement_communes|code_insee_commune|\n",
      "+-----------+-----------+------------------+------------+--------+-----------------+-----------------+----------+-----+----------+------------+--------------------+------------------+-----------------+---------------------------+------------------+\n",
      "|       1496|       9020|Toudouze - Clauzel|         OUI|      21|               18|                3|         1|    2|       OUI|         OUI|2024-07-27T20:58:...|2.3373600840568547|48.87929591733507|                      Paris|              null|\n",
      "+-----------+-----------+------------------+------------+--------+-----------------+-----------------+----------+-----+----------+------------+--------------------+------------------+-----------------+---------------------------+------------------+\n",
      "\n",
      "-------------------------------------------\n",
      "Batch: 103\n",
      "-------------------------------------------\n",
      "+-----------+--------------------+\n",
      "|total_count|             results|\n",
      "+-----------+--------------------+\n",
      "|       1496|[{9020, Toudouze ...|\n",
      "+-----------+--------------------+\n",
      "\n",
      "-------------------------------------------\n",
      "Batch: 103\n",
      "-------------------------------------------\n",
      "+-----------+-----------+------------------+------------+--------+-----------------+-----------------+----------+-----+----------+------------+--------------------+------------------+-----------------+---------------------------+------------------+\n",
      "|total_count|stationcode|              name|is_installed|capacity|numdocksavailable|numbikesavailable|mechanical|ebike|is_renting|is_returning|             duedate|         longitude|         latitude|nom_arrondissement_communes|code_insee_commune|\n",
      "+-----------+-----------+------------------+------------+--------+-----------------+-----------------+----------+-----+----------+------------+--------------------+------------------+-----------------+---------------------------+------------------+\n",
      "|       1496|       9020|Toudouze - Clauzel|         OUI|      21|               18|                3|         1|    2|       OUI|         OUI|2024-07-27T20:58:...|2.3373600840568547|48.87929591733507|                      Paris|              null|\n",
      "+-----------+-----------+------------------+------------+--------+-----------------+-----------------+----------+-----+----------+------------+--------------------+------------------+-----------------+---------------------------+------------------+\n",
      "\n",
      "-------------------------------------------\n",
      "Batch: 103\n",
      "-------------------------------------------\n",
      "+-----------+-----------+------------------+------------+--------+-----------------+-----------------+----------+-----+----------+------------+--------------------+------------------+-----------------+---------------------------+------------------+\n",
      "|total_count|stationcode|              name|is_installed|capacity|numdocksavailable|numbikesavailable|mechanical|ebike|is_renting|is_returning|             duedate|         longitude|         latitude|nom_arrondissement_communes|code_insee_commune|\n",
      "+-----------+-----------+------------------+------------+--------+-----------------+-----------------+----------+-----+----------+------------+--------------------+------------------+-----------------+---------------------------+------------------+\n",
      "|       1496|       9020|Toudouze - Clauzel|         OUI|      21|               18|                3|         1|    2|       OUI|         OUI|2024-07-27T20:58:...|2.3373600840568547|48.87929591733507|                      Paris|              null|\n",
      "+-----------+-----------+------------------+------------+--------+-----------------+-----------------+----------+-----+----------+------------+--------------------+------------------+-----------------+---------------------------+------------------+\n",
      "\n",
      "-------------------------------------------\n",
      "Batch: 104\n",
      "-------------------------------------------\n",
      "+-----------+--------------------+\n",
      "|total_count|             results|\n",
      "+-----------+--------------------+\n",
      "|       1496|[{9020, Toudouze ...|\n",
      "+-----------+--------------------+\n",
      "\n",
      "-------------------------------------------\n",
      "Batch: 104\n",
      "-------------------------------------------\n",
      "+-----------+-----------+------------------+------------+--------+-----------------+-----------------+----------+-----+----------+------------+--------------------+------------------+-----------------+---------------------------+------------------+\n",
      "|total_count|stationcode|              name|is_installed|capacity|numdocksavailable|numbikesavailable|mechanical|ebike|is_renting|is_returning|             duedate|         longitude|         latitude|nom_arrondissement_communes|code_insee_commune|\n",
      "+-----------+-----------+------------------+------------+--------+-----------------+-----------------+----------+-----+----------+------------+--------------------+------------------+-----------------+---------------------------+------------------+\n",
      "|       1496|       9020|Toudouze - Clauzel|         OUI|      21|               18|                3|         1|    2|       OUI|         OUI|2024-07-27T20:58:...|2.3373600840568547|48.87929591733507|                      Paris|              null|\n",
      "+-----------+-----------+------------------+------------+--------+-----------------+-----------------+----------+-----+----------+------------+--------------------+------------------+-----------------+---------------------------+------------------+\n",
      "\n",
      "-------------------------------------------\n",
      "Batch: 104\n",
      "-------------------------------------------\n",
      "+-----------+-----------+------------------+------------+--------+-----------------+-----------------+----------+-----+----------+------------+--------------------+------------------+-----------------+---------------------------+------------------+\n",
      "|total_count|stationcode|              name|is_installed|capacity|numdocksavailable|numbikesavailable|mechanical|ebike|is_renting|is_returning|             duedate|         longitude|         latitude|nom_arrondissement_communes|code_insee_commune|\n",
      "+-----------+-----------+------------------+------------+--------+-----------------+-----------------+----------+-----+----------+------------+--------------------+------------------+-----------------+---------------------------+------------------+\n",
      "|       1496|       9020|Toudouze - Clauzel|         OUI|      21|               18|                3|         1|    2|       OUI|         OUI|2024-07-27T20:58:...|2.3373600840568547|48.87929591733507|                      Paris|              null|\n",
      "+-----------+-----------+------------------+------------+--------+-----------------+-----------------+----------+-----+----------+------------+--------------------+------------------+-----------------+---------------------------+------------------+\n",
      "\n",
      "-------------------------------------------\n",
      "Batch: 105\n",
      "-------------------------------------------\n",
      "+-----------+--------------------+\n",
      "|total_count|             results|\n",
      "+-----------+--------------------+\n",
      "|       1496|[{9020, Toudouze ...|\n",
      "+-----------+--------------------+\n",
      "\n",
      "-------------------------------------------\n",
      "Batch: 105\n",
      "-------------------------------------------\n",
      "+-----------+-----------+------------------+------------+--------+-----------------+-----------------+----------+-----+----------+------------+--------------------+------------------+-----------------+---------------------------+------------------+\n",
      "|total_count|stationcode|              name|is_installed|capacity|numdocksavailable|numbikesavailable|mechanical|ebike|is_renting|is_returning|             duedate|         longitude|         latitude|nom_arrondissement_communes|code_insee_commune|\n",
      "+-----------+-----------+------------------+------------+--------+-----------------+-----------------+----------+-----+----------+------------+--------------------+------------------+-----------------+---------------------------+------------------+\n",
      "|       1496|       9020|Toudouze - Clauzel|         OUI|      21|               18|                3|         1|    2|       OUI|         OUI|2024-07-27T20:58:...|2.3373600840568547|48.87929591733507|                      Paris|              null|\n",
      "+-----------+-----------+------------------+------------+--------+-----------------+-----------------+----------+-----+----------+------------+--------------------+------------------+-----------------+---------------------------+------------------+\n",
      "\n",
      "-------------------------------------------\n",
      "Batch: 105\n",
      "-------------------------------------------\n",
      "+-----------+-----------+------------------+------------+--------+-----------------+-----------------+----------+-----+----------+------------+--------------------+------------------+-----------------+---------------------------+------------------+\n",
      "|total_count|stationcode|              name|is_installed|capacity|numdocksavailable|numbikesavailable|mechanical|ebike|is_renting|is_returning|             duedate|         longitude|         latitude|nom_arrondissement_communes|code_insee_commune|\n",
      "+-----------+-----------+------------------+------------+--------+-----------------+-----------------+----------+-----+----------+------------+--------------------+------------------+-----------------+---------------------------+------------------+\n",
      "|       1496|       9020|Toudouze - Clauzel|         OUI|      21|               18|                3|         1|    2|       OUI|         OUI|2024-07-27T20:58:...|2.3373600840568547|48.87929591733507|                      Paris|              null|\n",
      "+-----------+-----------+------------------+------------+--------+-----------------+-----------------+----------+-----+----------+------------+--------------------+------------------+-----------------+---------------------------+------------------+\n",
      "\n"
     ]
    },
    {
     "name": "stderr",
     "output_type": "stream",
     "text": [
      "                                                                                \r"
     ]
    },
    {
     "name": "stdout",
     "output_type": "stream",
     "text": [
      "-------------------------------------------\n",
      "Batch: 106\n",
      "-------------------------------------------\n",
      "+-----------+--------------------+\n",
      "|total_count|             results|\n",
      "+-----------+--------------------+\n",
      "|       1496|[{9020, Toudouze ...|\n",
      "+-----------+--------------------+\n",
      "\n",
      "-------------------------------------------\n",
      "Batch: 106\n",
      "-------------------------------------------\n",
      "+-----------+-----------+------------------+------------+--------+-----------------+-----------------+----------+-----+----------+------------+--------------------+------------------+-----------------+---------------------------+------------------+\n",
      "|total_count|stationcode|              name|is_installed|capacity|numdocksavailable|numbikesavailable|mechanical|ebike|is_renting|is_returning|             duedate|         longitude|         latitude|nom_arrondissement_communes|code_insee_commune|\n",
      "+-----------+-----------+------------------+------------+--------+-----------------+-----------------+----------+-----+----------+------------+--------------------+------------------+-----------------+---------------------------+------------------+\n",
      "|       1496|       9020|Toudouze - Clauzel|         OUI|      21|               18|                3|         1|    2|       OUI|         OUI|2024-07-27T20:58:...|2.3373600840568547|48.87929591733507|                      Paris|              null|\n",
      "+-----------+-----------+------------------+------------+--------+-----------------+-----------------+----------+-----+----------+------------+--------------------+------------------+-----------------+---------------------------+------------------+\n",
      "\n",
      "-------------------------------------------\n",
      "Batch: 106\n",
      "-------------------------------------------\n",
      "+-----------+-----------+------------------+------------+--------+-----------------+-----------------+----------+-----+----------+------------+--------------------+------------------+-----------------+---------------------------+------------------+\n",
      "|total_count|stationcode|              name|is_installed|capacity|numdocksavailable|numbikesavailable|mechanical|ebike|is_renting|is_returning|             duedate|         longitude|         latitude|nom_arrondissement_communes|code_insee_commune|\n",
      "+-----------+-----------+------------------+------------+--------+-----------------+-----------------+----------+-----+----------+------------+--------------------+------------------+-----------------+---------------------------+------------------+\n",
      "|       1496|       9020|Toudouze - Clauzel|         OUI|      21|               18|                3|         1|    2|       OUI|         OUI|2024-07-27T20:58:...|2.3373600840568547|48.87929591733507|                      Paris|              null|\n",
      "+-----------+-----------+------------------+------------+--------+-----------------+-----------------+----------+-----+----------+------------+--------------------+------------------+-----------------+---------------------------+------------------+\n",
      "\n",
      "-------------------------------------------\n",
      "Batch: 107\n",
      "-------------------------------------------\n",
      "+-----------+--------------------+\n",
      "|total_count|             results|\n",
      "+-----------+--------------------+\n",
      "|       1496|[{9020, Toudouze ...|\n",
      "+-----------+--------------------+\n",
      "\n",
      "-------------------------------------------\n",
      "Batch: 107\n",
      "-------------------------------------------\n",
      "+-----------+-----------+------------------+------------+--------+-----------------+-----------------+----------+-----+----------+------------+--------------------+------------------+-----------------+---------------------------+------------------+\n",
      "|total_count|stationcode|              name|is_installed|capacity|numdocksavailable|numbikesavailable|mechanical|ebike|is_renting|is_returning|             duedate|         longitude|         latitude|nom_arrondissement_communes|code_insee_commune|\n",
      "+-----------+-----------+------------------+------------+--------+-----------------+-----------------+----------+-----+----------+------------+--------------------+------------------+-----------------+---------------------------+------------------+\n",
      "|       1496|       9020|Toudouze - Clauzel|         OUI|      21|               18|                3|         1|    2|       OUI|         OUI|2024-07-27T20:58:...|2.3373600840568547|48.87929591733507|                      Paris|              null|\n",
      "+-----------+-----------+------------------+------------+--------+-----------------+-----------------+----------+-----+----------+------------+--------------------+------------------+-----------------+---------------------------+------------------+\n",
      "\n",
      "-------------------------------------------\n",
      "Batch: 107\n",
      "-------------------------------------------\n",
      "+-----------+-----------+------------------+------------+--------+-----------------+-----------------+----------+-----+----------+------------+--------------------+------------------+-----------------+---------------------------+------------------+\n",
      "|total_count|stationcode|              name|is_installed|capacity|numdocksavailable|numbikesavailable|mechanical|ebike|is_renting|is_returning|             duedate|         longitude|         latitude|nom_arrondissement_communes|code_insee_commune|\n",
      "+-----------+-----------+------------------+------------+--------+-----------------+-----------------+----------+-----+----------+------------+--------------------+------------------+-----------------+---------------------------+------------------+\n",
      "|       1496|       9020|Toudouze - Clauzel|         OUI|      21|               18|                3|         1|    2|       OUI|         OUI|2024-07-27T20:58:...|2.3373600840568547|48.87929591733507|                      Paris|              null|\n",
      "+-----------+-----------+------------------+------------+--------+-----------------+-----------------+----------+-----+----------+------------+--------------------+------------------+-----------------+---------------------------+------------------+\n",
      "\n"
     ]
    }
   ],
   "source": [
    "window_duration = '1 minutes'\n",
    "# Group the tweets by language and timestamp window and count the tweets\n",
    "df_counts = df_result.withWatermark(\"timestamp\", window_duration)\n",
    "\n",
    "#query_df = df_counts.writeStream \\\n",
    "#    .outputMode(\"complete\") \\\n",
    "#    .format(\"console\") \\\n",
    "#    .option(\"truncate\", False) \\\n",
    "#    .start()\n",
    "\n",
    "query = df_counts.writeStream\\\n",
    "  .trigger(processingTime=\"1 minutes\")\\\n",
    "  .option(\"checkpointLocation\", \"gs://spotify_data_rg_01/checkpoint\", header= True)\\\n",
    "  .option(\"path\", \"gs://spotify_data_rg_01/bikes\", header= True)\\\n",
    "  .outputMode(\"append\")\\\n",
    "  .start()\\\n",
    "  .awaitTermination()\n",
    "#df_counts.writeStream.toTable(\"my_table\", checkpointLocation='/Users/rihab.ghrab/Infor-Ideas/Spark')\n"
   ]
  },
  {
   "cell_type": "code",
   "execution_count": null,
   "id": "ade7cfe4-3f6e-4e81-9e37-7c4a012273ca",
   "metadata": {},
   "outputs": [],
   "source": []
  },
  {
   "cell_type": "code",
   "execution_count": null,
   "id": "b3683a53-6b79-4114-8fdd-b75de7ef0d9a",
   "metadata": {},
   "outputs": [],
   "source": []
  },
  {
   "cell_type": "code",
   "execution_count": null,
   "id": "787bf6f8-2559-457f-8ac6-b05ba9390c11",
   "metadata": {},
   "outputs": [],
   "source": []
  },
  {
   "cell_type": "code",
   "execution_count": null,
   "id": "af7e0d92-f5cf-4a16-bbbd-0e2fd4476dbf",
   "metadata": {},
   "outputs": [],
   "source": []
  }
 ],
 "metadata": {
  "kernelspec": {
   "display_name": "Python 3 (ipykernel)",
   "language": "python",
   "name": "python3"
  },
  "language_info": {
   "codemirror_mode": {
    "name": "ipython",
    "version": 3
   },
   "file_extension": ".py",
   "mimetype": "text/x-python",
   "name": "python",
   "nbconvert_exporter": "python",
   "pygments_lexer": "ipython3",
   "version": "3.10.12"
  }
 },
 "nbformat": 4,
 "nbformat_minor": 5
}
